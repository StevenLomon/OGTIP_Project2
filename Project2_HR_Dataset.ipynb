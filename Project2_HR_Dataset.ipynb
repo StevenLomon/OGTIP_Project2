{
  "cells": [
    {
      "cell_type": "code",
      "execution_count": 671,
      "metadata": {
        "id": "t9r4Z7z-xeu-"
      },
      "outputs": [],
      "source": [
        "import datetime\n",
        "import pandas as pd\n",
        "import seaborn as sns\n",
        "import matplotlib.pyplot as plt\n",
        "from matplotlib.pyplot import figure\n",
        "import plotly.express as px\n",
        "import warnings\n",
        "warnings.filterwarnings('ignore')\n",
        "\n",
        "pd.set_option('display.max_columns', None)\n",
        "plt.rcParams[\"figure.figsize\"] = plt.rcParamsDefault[\"figure.figsize\"]"
      ]
    },
    {
      "cell_type": "code",
      "execution_count": 672,
      "metadata": {
        "id": "mqJVm4eCAMC9"
      },
      "outputs": [],
      "source": [
        "df = pd.read_csv(\"/content/HRDataset_v14.csv\",\n",
        "                 parse_dates= True, dayfirst= True)"
      ]
    },
    {
      "cell_type": "code",
      "execution_count": 673,
      "metadata": {
        "colab": {
          "base_uri": "https://localhost:8080/",
          "height": 382
        },
        "id": "R_TOCzZeyOm5",
        "outputId": "f213b221-1531-4a2f-c9f7-36b1494cd70c"
      },
      "outputs": [
        {
          "output_type": "execute_result",
          "data": {
            "text/plain": [
              "              Employee_Name  EmpID  MarriedID  MaritalStatusID  GenderID  \\\n",
              "0       Adinolfi, Wilson  K  10026          0                0         1   \n",
              "1  Ait Sidi, Karthikeyan     10084          1                1         1   \n",
              "2         Akinkuolie, Sarah  10196          1                1         0   \n",
              "3              Alagbe,Trina  10088          1                1         0   \n",
              "4          Anderson, Carol   10069          0                2         0   \n",
              "\n",
              "   EmpStatusID  DeptID  PerfScoreID  FromDiversityJobFairID  Salary  Termd  \\\n",
              "0            1       5            4                       0   62506      0   \n",
              "1            5       3            3                       0  104437      1   \n",
              "2            5       5            3                       0   64955      1   \n",
              "3            1       5            3                       0   64991      0   \n",
              "4            5       5            3                       0   50825      1   \n",
              "\n",
              "   PositionID                  Position State   Zip         DOB Sex  \\\n",
              "0          19   Production Technician I    MA  1960  07-10-1983  M    \n",
              "1          27                   Sr. DBA    MA  2148  05-05-1975  M    \n",
              "2          20  Production Technician II    MA  1810    09/19/88   F   \n",
              "3          19   Production Technician I    MA  1886    09/27/88   F   \n",
              "4          19   Production Technician I    MA  2169  09-08-1989   F   \n",
              "\n",
              "  MaritalDesc CitizenDesc HispanicLatino  DateofHire DateofHire.1  \\\n",
              "0      Single  US Citizen             No  07-05-2011   08-05-2011   \n",
              "1     Married  US Citizen             No   3/30/2015    3/30/2016   \n",
              "2     Married  US Citizen             No  07-05-2011   08-05-2011   \n",
              "3     Married  US Citizen             No  01-07-2008   02-07-2008   \n",
              "4    Divorced  US Citizen             No  07-11-2011   08-11-2011   \n",
              "\n",
              "          TermReason        EmploymentStatus         Department  \\\n",
              "0  N/A-StillEmployed                  Active  Production          \n",
              "1      career change  Voluntarily Terminated              IT/IS   \n",
              "2              hours  Voluntarily Terminated  Production          \n",
              "3  N/A-StillEmployed                  Active  Production          \n",
              "4   return to school  Voluntarily Terminated  Production          \n",
              "\n",
              "      ManagerName  ManagerID RecruitmentSource PerformanceScore  \\\n",
              "0  Michael Albert       22.0          LinkedIn          Exceeds   \n",
              "1      Simon Roup        4.0            Indeed      Fully Meets   \n",
              "2  Kissy Sullivan       20.0          LinkedIn      Fully Meets   \n",
              "3    Elijiah Gray       16.0            Indeed      Fully Meets   \n",
              "4  Webster Butler       39.0     Google Search      Fully Meets   \n",
              "\n",
              "   EngagementSurvey  EmpSatisfaction  SpecialProjectsCount  \\\n",
              "0              4.60                5                     0   \n",
              "1              4.96                3                     6   \n",
              "2              3.02                3                     0   \n",
              "3              4.84                5                     0   \n",
              "4              5.00                4                     0   \n",
              "\n",
              "  LastPerformanceReview_Date  DaysLateLast30  Absences  \n",
              "0                  1/17/2019               0         1  \n",
              "1                  2/24/2016               0        17  \n",
              "2                  5/15/2012               0         3  \n",
              "3                 01-03-2019               0        15  \n",
              "4                 02-01-2016               0         2  "
            ],
            "text/html": [
              "\n",
              "  <div id=\"df-be9a3744-d8d5-423f-bb72-6e58740a05df\" class=\"colab-df-container\">\n",
              "    <div>\n",
              "<style scoped>\n",
              "    .dataframe tbody tr th:only-of-type {\n",
              "        vertical-align: middle;\n",
              "    }\n",
              "\n",
              "    .dataframe tbody tr th {\n",
              "        vertical-align: top;\n",
              "    }\n",
              "\n",
              "    .dataframe thead th {\n",
              "        text-align: right;\n",
              "    }\n",
              "</style>\n",
              "<table border=\"1\" class=\"dataframe\">\n",
              "  <thead>\n",
              "    <tr style=\"text-align: right;\">\n",
              "      <th></th>\n",
              "      <th>Employee_Name</th>\n",
              "      <th>EmpID</th>\n",
              "      <th>MarriedID</th>\n",
              "      <th>MaritalStatusID</th>\n",
              "      <th>GenderID</th>\n",
              "      <th>EmpStatusID</th>\n",
              "      <th>DeptID</th>\n",
              "      <th>PerfScoreID</th>\n",
              "      <th>FromDiversityJobFairID</th>\n",
              "      <th>Salary</th>\n",
              "      <th>Termd</th>\n",
              "      <th>PositionID</th>\n",
              "      <th>Position</th>\n",
              "      <th>State</th>\n",
              "      <th>Zip</th>\n",
              "      <th>DOB</th>\n",
              "      <th>Sex</th>\n",
              "      <th>MaritalDesc</th>\n",
              "      <th>CitizenDesc</th>\n",
              "      <th>HispanicLatino</th>\n",
              "      <th>DateofHire</th>\n",
              "      <th>DateofHire.1</th>\n",
              "      <th>TermReason</th>\n",
              "      <th>EmploymentStatus</th>\n",
              "      <th>Department</th>\n",
              "      <th>ManagerName</th>\n",
              "      <th>ManagerID</th>\n",
              "      <th>RecruitmentSource</th>\n",
              "      <th>PerformanceScore</th>\n",
              "      <th>EngagementSurvey</th>\n",
              "      <th>EmpSatisfaction</th>\n",
              "      <th>SpecialProjectsCount</th>\n",
              "      <th>LastPerformanceReview_Date</th>\n",
              "      <th>DaysLateLast30</th>\n",
              "      <th>Absences</th>\n",
              "    </tr>\n",
              "  </thead>\n",
              "  <tbody>\n",
              "    <tr>\n",
              "      <th>0</th>\n",
              "      <td>Adinolfi, Wilson  K</td>\n",
              "      <td>10026</td>\n",
              "      <td>0</td>\n",
              "      <td>0</td>\n",
              "      <td>1</td>\n",
              "      <td>1</td>\n",
              "      <td>5</td>\n",
              "      <td>4</td>\n",
              "      <td>0</td>\n",
              "      <td>62506</td>\n",
              "      <td>0</td>\n",
              "      <td>19</td>\n",
              "      <td>Production Technician I</td>\n",
              "      <td>MA</td>\n",
              "      <td>1960</td>\n",
              "      <td>07-10-1983</td>\n",
              "      <td>M</td>\n",
              "      <td>Single</td>\n",
              "      <td>US Citizen</td>\n",
              "      <td>No</td>\n",
              "      <td>07-05-2011</td>\n",
              "      <td>08-05-2011</td>\n",
              "      <td>N/A-StillEmployed</td>\n",
              "      <td>Active</td>\n",
              "      <td>Production</td>\n",
              "      <td>Michael Albert</td>\n",
              "      <td>22.0</td>\n",
              "      <td>LinkedIn</td>\n",
              "      <td>Exceeds</td>\n",
              "      <td>4.60</td>\n",
              "      <td>5</td>\n",
              "      <td>0</td>\n",
              "      <td>1/17/2019</td>\n",
              "      <td>0</td>\n",
              "      <td>1</td>\n",
              "    </tr>\n",
              "    <tr>\n",
              "      <th>1</th>\n",
              "      <td>Ait Sidi, Karthikeyan</td>\n",
              "      <td>10084</td>\n",
              "      <td>1</td>\n",
              "      <td>1</td>\n",
              "      <td>1</td>\n",
              "      <td>5</td>\n",
              "      <td>3</td>\n",
              "      <td>3</td>\n",
              "      <td>0</td>\n",
              "      <td>104437</td>\n",
              "      <td>1</td>\n",
              "      <td>27</td>\n",
              "      <td>Sr. DBA</td>\n",
              "      <td>MA</td>\n",
              "      <td>2148</td>\n",
              "      <td>05-05-1975</td>\n",
              "      <td>M</td>\n",
              "      <td>Married</td>\n",
              "      <td>US Citizen</td>\n",
              "      <td>No</td>\n",
              "      <td>3/30/2015</td>\n",
              "      <td>3/30/2016</td>\n",
              "      <td>career change</td>\n",
              "      <td>Voluntarily Terminated</td>\n",
              "      <td>IT/IS</td>\n",
              "      <td>Simon Roup</td>\n",
              "      <td>4.0</td>\n",
              "      <td>Indeed</td>\n",
              "      <td>Fully Meets</td>\n",
              "      <td>4.96</td>\n",
              "      <td>3</td>\n",
              "      <td>6</td>\n",
              "      <td>2/24/2016</td>\n",
              "      <td>0</td>\n",
              "      <td>17</td>\n",
              "    </tr>\n",
              "    <tr>\n",
              "      <th>2</th>\n",
              "      <td>Akinkuolie, Sarah</td>\n",
              "      <td>10196</td>\n",
              "      <td>1</td>\n",
              "      <td>1</td>\n",
              "      <td>0</td>\n",
              "      <td>5</td>\n",
              "      <td>5</td>\n",
              "      <td>3</td>\n",
              "      <td>0</td>\n",
              "      <td>64955</td>\n",
              "      <td>1</td>\n",
              "      <td>20</td>\n",
              "      <td>Production Technician II</td>\n",
              "      <td>MA</td>\n",
              "      <td>1810</td>\n",
              "      <td>09/19/88</td>\n",
              "      <td>F</td>\n",
              "      <td>Married</td>\n",
              "      <td>US Citizen</td>\n",
              "      <td>No</td>\n",
              "      <td>07-05-2011</td>\n",
              "      <td>08-05-2011</td>\n",
              "      <td>hours</td>\n",
              "      <td>Voluntarily Terminated</td>\n",
              "      <td>Production</td>\n",
              "      <td>Kissy Sullivan</td>\n",
              "      <td>20.0</td>\n",
              "      <td>LinkedIn</td>\n",
              "      <td>Fully Meets</td>\n",
              "      <td>3.02</td>\n",
              "      <td>3</td>\n",
              "      <td>0</td>\n",
              "      <td>5/15/2012</td>\n",
              "      <td>0</td>\n",
              "      <td>3</td>\n",
              "    </tr>\n",
              "    <tr>\n",
              "      <th>3</th>\n",
              "      <td>Alagbe,Trina</td>\n",
              "      <td>10088</td>\n",
              "      <td>1</td>\n",
              "      <td>1</td>\n",
              "      <td>0</td>\n",
              "      <td>1</td>\n",
              "      <td>5</td>\n",
              "      <td>3</td>\n",
              "      <td>0</td>\n",
              "      <td>64991</td>\n",
              "      <td>0</td>\n",
              "      <td>19</td>\n",
              "      <td>Production Technician I</td>\n",
              "      <td>MA</td>\n",
              "      <td>1886</td>\n",
              "      <td>09/27/88</td>\n",
              "      <td>F</td>\n",
              "      <td>Married</td>\n",
              "      <td>US Citizen</td>\n",
              "      <td>No</td>\n",
              "      <td>01-07-2008</td>\n",
              "      <td>02-07-2008</td>\n",
              "      <td>N/A-StillEmployed</td>\n",
              "      <td>Active</td>\n",
              "      <td>Production</td>\n",
              "      <td>Elijiah Gray</td>\n",
              "      <td>16.0</td>\n",
              "      <td>Indeed</td>\n",
              "      <td>Fully Meets</td>\n",
              "      <td>4.84</td>\n",
              "      <td>5</td>\n",
              "      <td>0</td>\n",
              "      <td>01-03-2019</td>\n",
              "      <td>0</td>\n",
              "      <td>15</td>\n",
              "    </tr>\n",
              "    <tr>\n",
              "      <th>4</th>\n",
              "      <td>Anderson, Carol</td>\n",
              "      <td>10069</td>\n",
              "      <td>0</td>\n",
              "      <td>2</td>\n",
              "      <td>0</td>\n",
              "      <td>5</td>\n",
              "      <td>5</td>\n",
              "      <td>3</td>\n",
              "      <td>0</td>\n",
              "      <td>50825</td>\n",
              "      <td>1</td>\n",
              "      <td>19</td>\n",
              "      <td>Production Technician I</td>\n",
              "      <td>MA</td>\n",
              "      <td>2169</td>\n",
              "      <td>09-08-1989</td>\n",
              "      <td>F</td>\n",
              "      <td>Divorced</td>\n",
              "      <td>US Citizen</td>\n",
              "      <td>No</td>\n",
              "      <td>07-11-2011</td>\n",
              "      <td>08-11-2011</td>\n",
              "      <td>return to school</td>\n",
              "      <td>Voluntarily Terminated</td>\n",
              "      <td>Production</td>\n",
              "      <td>Webster Butler</td>\n",
              "      <td>39.0</td>\n",
              "      <td>Google Search</td>\n",
              "      <td>Fully Meets</td>\n",
              "      <td>5.00</td>\n",
              "      <td>4</td>\n",
              "      <td>0</td>\n",
              "      <td>02-01-2016</td>\n",
              "      <td>0</td>\n",
              "      <td>2</td>\n",
              "    </tr>\n",
              "  </tbody>\n",
              "</table>\n",
              "</div>\n",
              "    <div class=\"colab-df-buttons\">\n",
              "\n",
              "  <div class=\"colab-df-container\">\n",
              "    <button class=\"colab-df-convert\" onclick=\"convertToInteractive('df-be9a3744-d8d5-423f-bb72-6e58740a05df')\"\n",
              "            title=\"Convert this dataframe to an interactive table.\"\n",
              "            style=\"display:none;\">\n",
              "\n",
              "  <svg xmlns=\"http://www.w3.org/2000/svg\" height=\"24px\" viewBox=\"0 -960 960 960\">\n",
              "    <path d=\"M120-120v-720h720v720H120Zm60-500h600v-160H180v160Zm220 220h160v-160H400v160Zm0 220h160v-160H400v160ZM180-400h160v-160H180v160Zm440 0h160v-160H620v160ZM180-180h160v-160H180v160Zm440 0h160v-160H620v160Z\"/>\n",
              "  </svg>\n",
              "    </button>\n",
              "\n",
              "  <style>\n",
              "    .colab-df-container {\n",
              "      display:flex;\n",
              "      gap: 12px;\n",
              "    }\n",
              "\n",
              "    .colab-df-convert {\n",
              "      background-color: #E8F0FE;\n",
              "      border: none;\n",
              "      border-radius: 50%;\n",
              "      cursor: pointer;\n",
              "      display: none;\n",
              "      fill: #1967D2;\n",
              "      height: 32px;\n",
              "      padding: 0 0 0 0;\n",
              "      width: 32px;\n",
              "    }\n",
              "\n",
              "    .colab-df-convert:hover {\n",
              "      background-color: #E2EBFA;\n",
              "      box-shadow: 0px 1px 2px rgba(60, 64, 67, 0.3), 0px 1px 3px 1px rgba(60, 64, 67, 0.15);\n",
              "      fill: #174EA6;\n",
              "    }\n",
              "\n",
              "    .colab-df-buttons div {\n",
              "      margin-bottom: 4px;\n",
              "    }\n",
              "\n",
              "    [theme=dark] .colab-df-convert {\n",
              "      background-color: #3B4455;\n",
              "      fill: #D2E3FC;\n",
              "    }\n",
              "\n",
              "    [theme=dark] .colab-df-convert:hover {\n",
              "      background-color: #434B5C;\n",
              "      box-shadow: 0px 1px 3px 1px rgba(0, 0, 0, 0.15);\n",
              "      filter: drop-shadow(0px 1px 2px rgba(0, 0, 0, 0.3));\n",
              "      fill: #FFFFFF;\n",
              "    }\n",
              "  </style>\n",
              "\n",
              "    <script>\n",
              "      const buttonEl =\n",
              "        document.querySelector('#df-be9a3744-d8d5-423f-bb72-6e58740a05df button.colab-df-convert');\n",
              "      buttonEl.style.display =\n",
              "        google.colab.kernel.accessAllowed ? 'block' : 'none';\n",
              "\n",
              "      async function convertToInteractive(key) {\n",
              "        const element = document.querySelector('#df-be9a3744-d8d5-423f-bb72-6e58740a05df');\n",
              "        const dataTable =\n",
              "          await google.colab.kernel.invokeFunction('convertToInteractive',\n",
              "                                                    [key], {});\n",
              "        if (!dataTable) return;\n",
              "\n",
              "        const docLinkHtml = 'Like what you see? Visit the ' +\n",
              "          '<a target=\"_blank\" href=https://colab.research.google.com/notebooks/data_table.ipynb>data table notebook</a>'\n",
              "          + ' to learn more about interactive tables.';\n",
              "        element.innerHTML = '';\n",
              "        dataTable['output_type'] = 'display_data';\n",
              "        await google.colab.output.renderOutput(dataTable, element);\n",
              "        const docLink = document.createElement('div');\n",
              "        docLink.innerHTML = docLinkHtml;\n",
              "        element.appendChild(docLink);\n",
              "      }\n",
              "    </script>\n",
              "  </div>\n",
              "\n",
              "\n",
              "<div id=\"df-a3045ec2-b0ec-4143-9781-d8894c73da2d\">\n",
              "  <button class=\"colab-df-quickchart\" onclick=\"quickchart('df-a3045ec2-b0ec-4143-9781-d8894c73da2d')\"\n",
              "            title=\"Suggest charts\"\n",
              "            style=\"display:none;\">\n",
              "\n",
              "<svg xmlns=\"http://www.w3.org/2000/svg\" height=\"24px\"viewBox=\"0 0 24 24\"\n",
              "     width=\"24px\">\n",
              "    <g>\n",
              "        <path d=\"M19 3H5c-1.1 0-2 .9-2 2v14c0 1.1.9 2 2 2h14c1.1 0 2-.9 2-2V5c0-1.1-.9-2-2-2zM9 17H7v-7h2v7zm4 0h-2V7h2v10zm4 0h-2v-4h2v4z\"/>\n",
              "    </g>\n",
              "</svg>\n",
              "  </button>\n",
              "\n",
              "<style>\n",
              "  .colab-df-quickchart {\n",
              "      --bg-color: #E8F0FE;\n",
              "      --fill-color: #1967D2;\n",
              "      --hover-bg-color: #E2EBFA;\n",
              "      --hover-fill-color: #174EA6;\n",
              "      --disabled-fill-color: #AAA;\n",
              "      --disabled-bg-color: #DDD;\n",
              "  }\n",
              "\n",
              "  [theme=dark] .colab-df-quickchart {\n",
              "      --bg-color: #3B4455;\n",
              "      --fill-color: #D2E3FC;\n",
              "      --hover-bg-color: #434B5C;\n",
              "      --hover-fill-color: #FFFFFF;\n",
              "      --disabled-bg-color: #3B4455;\n",
              "      --disabled-fill-color: #666;\n",
              "  }\n",
              "\n",
              "  .colab-df-quickchart {\n",
              "    background-color: var(--bg-color);\n",
              "    border: none;\n",
              "    border-radius: 50%;\n",
              "    cursor: pointer;\n",
              "    display: none;\n",
              "    fill: var(--fill-color);\n",
              "    height: 32px;\n",
              "    padding: 0;\n",
              "    width: 32px;\n",
              "  }\n",
              "\n",
              "  .colab-df-quickchart:hover {\n",
              "    background-color: var(--hover-bg-color);\n",
              "    box-shadow: 0 1px 2px rgba(60, 64, 67, 0.3), 0 1px 3px 1px rgba(60, 64, 67, 0.15);\n",
              "    fill: var(--button-hover-fill-color);\n",
              "  }\n",
              "\n",
              "  .colab-df-quickchart-complete:disabled,\n",
              "  .colab-df-quickchart-complete:disabled:hover {\n",
              "    background-color: var(--disabled-bg-color);\n",
              "    fill: var(--disabled-fill-color);\n",
              "    box-shadow: none;\n",
              "  }\n",
              "\n",
              "  .colab-df-spinner {\n",
              "    border: 2px solid var(--fill-color);\n",
              "    border-color: transparent;\n",
              "    border-bottom-color: var(--fill-color);\n",
              "    animation:\n",
              "      spin 1s steps(1) infinite;\n",
              "  }\n",
              "\n",
              "  @keyframes spin {\n",
              "    0% {\n",
              "      border-color: transparent;\n",
              "      border-bottom-color: var(--fill-color);\n",
              "      border-left-color: var(--fill-color);\n",
              "    }\n",
              "    20% {\n",
              "      border-color: transparent;\n",
              "      border-left-color: var(--fill-color);\n",
              "      border-top-color: var(--fill-color);\n",
              "    }\n",
              "    30% {\n",
              "      border-color: transparent;\n",
              "      border-left-color: var(--fill-color);\n",
              "      border-top-color: var(--fill-color);\n",
              "      border-right-color: var(--fill-color);\n",
              "    }\n",
              "    40% {\n",
              "      border-color: transparent;\n",
              "      border-right-color: var(--fill-color);\n",
              "      border-top-color: var(--fill-color);\n",
              "    }\n",
              "    60% {\n",
              "      border-color: transparent;\n",
              "      border-right-color: var(--fill-color);\n",
              "    }\n",
              "    80% {\n",
              "      border-color: transparent;\n",
              "      border-right-color: var(--fill-color);\n",
              "      border-bottom-color: var(--fill-color);\n",
              "    }\n",
              "    90% {\n",
              "      border-color: transparent;\n",
              "      border-bottom-color: var(--fill-color);\n",
              "    }\n",
              "  }\n",
              "</style>\n",
              "\n",
              "  <script>\n",
              "    async function quickchart(key) {\n",
              "      const quickchartButtonEl =\n",
              "        document.querySelector('#' + key + ' button');\n",
              "      quickchartButtonEl.disabled = true;  // To prevent multiple clicks.\n",
              "      quickchartButtonEl.classList.add('colab-df-spinner');\n",
              "      try {\n",
              "        const charts = await google.colab.kernel.invokeFunction(\n",
              "            'suggestCharts', [key], {});\n",
              "      } catch (error) {\n",
              "        console.error('Error during call to suggestCharts:', error);\n",
              "      }\n",
              "      quickchartButtonEl.classList.remove('colab-df-spinner');\n",
              "      quickchartButtonEl.classList.add('colab-df-quickchart-complete');\n",
              "    }\n",
              "    (() => {\n",
              "      let quickchartButtonEl =\n",
              "        document.querySelector('#df-a3045ec2-b0ec-4143-9781-d8894c73da2d button');\n",
              "      quickchartButtonEl.style.display =\n",
              "        google.colab.kernel.accessAllowed ? 'block' : 'none';\n",
              "    })();\n",
              "  </script>\n",
              "</div>\n",
              "    </div>\n",
              "  </div>\n"
            ]
          },
          "metadata": {},
          "execution_count": 673
        }
      ],
      "source": [
        "df.head(5)"
      ]
    },
    {
      "cell_type": "code",
      "execution_count": 674,
      "metadata": {
        "colab": {
          "base_uri": "https://localhost:8080/"
        },
        "id": "indNfX7Nz8G8",
        "outputId": "c587ebbf-2125-40a3-9688-335ab2431a39"
      },
      "outputs": [
        {
          "output_type": "stream",
          "name": "stdout",
          "text": [
            "<class 'pandas.core.frame.DataFrame'>\n",
            "RangeIndex: 311 entries, 0 to 310\n",
            "Data columns (total 35 columns):\n",
            " #   Column                      Non-Null Count  Dtype  \n",
            "---  ------                      --------------  -----  \n",
            " 0   Employee_Name               311 non-null    object \n",
            " 1   EmpID                       311 non-null    int64  \n",
            " 2   MarriedID                   311 non-null    int64  \n",
            " 3   MaritalStatusID             311 non-null    int64  \n",
            " 4   GenderID                    311 non-null    int64  \n",
            " 5   EmpStatusID                 311 non-null    int64  \n",
            " 6   DeptID                      311 non-null    int64  \n",
            " 7   PerfScoreID                 311 non-null    int64  \n",
            " 8   FromDiversityJobFairID      311 non-null    int64  \n",
            " 9   Salary                      311 non-null    int64  \n",
            " 10  Termd                       311 non-null    int64  \n",
            " 11  PositionID                  311 non-null    int64  \n",
            " 12  Position                    311 non-null    object \n",
            " 13  State                       311 non-null    object \n",
            " 14  Zip                         311 non-null    int64  \n",
            " 15  DOB                         311 non-null    object \n",
            " 16  Sex                         311 non-null    object \n",
            " 17  MaritalDesc                 311 non-null    object \n",
            " 18  CitizenDesc                 311 non-null    object \n",
            " 19  HispanicLatino              311 non-null    object \n",
            " 20  DateofHire                  311 non-null    object \n",
            " 21  DateofHire.1                311 non-null    object \n",
            " 22  TermReason                  311 non-null    object \n",
            " 23  EmploymentStatus            311 non-null    object \n",
            " 24  Department                  311 non-null    object \n",
            " 25  ManagerName                 311 non-null    object \n",
            " 26  ManagerID                   303 non-null    float64\n",
            " 27  RecruitmentSource           311 non-null    object \n",
            " 28  PerformanceScore            311 non-null    object \n",
            " 29  EngagementSurvey            311 non-null    float64\n",
            " 30  EmpSatisfaction             311 non-null    int64  \n",
            " 31  SpecialProjectsCount        311 non-null    int64  \n",
            " 32  LastPerformanceReview_Date  311 non-null    object \n",
            " 33  DaysLateLast30              311 non-null    int64  \n",
            " 34  Absences                    311 non-null    int64  \n",
            "dtypes: float64(2), int64(16), object(17)\n",
            "memory usage: 85.2+ KB\n"
          ]
        }
      ],
      "source": [
        "df.info()"
      ]
    },
    {
      "cell_type": "code",
      "execution_count": 675,
      "metadata": {
        "colab": {
          "base_uri": "https://localhost:8080/"
        },
        "id": "E8TWCZIlPXF_",
        "outputId": "648ff922-1fc1-4e65-8d02-d361ef78382c"
      },
      "outputs": [
        {
          "output_type": "execute_result",
          "data": {
            "text/plain": [
              "0      1/17/2019\n",
              "1      2/24/2016\n",
              "2      5/15/2012\n",
              "3     01-03-2019\n",
              "4     02-01-2016\n",
              "5     01-07-2019\n",
              "6     01-02-2019\n",
              "7      2/25/2019\n",
              "8      1/25/2019\n",
              "9      2/18/2019\n",
              "10     1/30/2016\n",
              "11    05-06-2016\n",
              "12     2/25/2019\n",
              "13     2/14/2019\n",
              "14    03-02-2017\n",
              "15    04-05-2017\n",
              "16     1/14/2019\n",
              "17     1/14/2019\n",
              "18     1/15/2015\n",
              "19    01-11-2019\n",
              "Name: LastPerformanceReview_Date, dtype: object"
            ]
          },
          "metadata": {},
          "execution_count": 675
        }
      ],
      "source": [
        "# We have some columns with dates in them, namely DoB, two DateofHire columns, and LastPerformanceReviewDate\n",
        "# The biggest problem with these columns isn't that they aren't in the datetime format, it's that there are\n",
        "# mixed formats in them; DD-MM-YY and MM/DD/YYYY. We fix this by converting them to datetime and setting\n",
        "# dayfirst as True\n",
        "df['LastPerformanceReview_Date'].head(20)"
      ]
    },
    {
      "cell_type": "code",
      "execution_count": 676,
      "metadata": {
        "id": "GiaJ0TjHm2oA"
      },
      "outputs": [],
      "source": [
        "df['DOB']= pd.to_datetime(df['DOB'], dayfirst= True)\n",
        "df['DateofHire']= pd.to_datetime(df['DateofHire'], dayfirst= True)\n",
        "df['DateofHire.1']= pd.to_datetime(df['DateofHire.1'], dayfirst= True)\n",
        "df['LastPerformanceReview_Date']= pd.to_datetime(\n",
        "    df['LastPerformanceReview_Date'], dayfirst= True)"
      ]
    },
    {
      "cell_type": "code",
      "source": [
        "# Let's get a grasp of the most recent year of this dataset:\n",
        "df['LastPerformanceReview_Date'].max()"
      ],
      "metadata": {
        "colab": {
          "base_uri": "https://localhost:8080/"
        },
        "id": "CZcTokWr0QO8",
        "outputId": "3773a13f-2bbc-4804-da07-fbadd4874219"
      },
      "execution_count": 677,
      "outputs": [
        {
          "output_type": "execute_result",
          "data": {
            "text/plain": [
              "Timestamp('2019-12-02 00:00:00')"
            ]
          },
          "metadata": {},
          "execution_count": 677
        }
      ]
    },
    {
      "cell_type": "code",
      "execution_count": 678,
      "metadata": {
        "colab": {
          "base_uri": "https://localhost:8080/"
        },
        "id": "kEdCn2g3mpsN",
        "outputId": "b25e4ccf-72ff-41d7-d115-a83b3be5d704"
      },
      "outputs": [
        {
          "output_type": "execute_result",
          "data": {
            "text/plain": [
              "Employee_Name                 0\n",
              "EmpID                         0\n",
              "MarriedID                     0\n",
              "MaritalStatusID               0\n",
              "GenderID                      0\n",
              "EmpStatusID                   0\n",
              "DeptID                        0\n",
              "PerfScoreID                   0\n",
              "FromDiversityJobFairID        0\n",
              "Salary                        0\n",
              "Termd                         0\n",
              "PositionID                    0\n",
              "Position                      0\n",
              "State                         0\n",
              "Zip                           0\n",
              "DOB                           0\n",
              "Sex                           0\n",
              "MaritalDesc                   0\n",
              "CitizenDesc                   0\n",
              "HispanicLatino                0\n",
              "DateofHire                    0\n",
              "DateofHire.1                  0\n",
              "TermReason                    0\n",
              "EmploymentStatus              0\n",
              "Department                    0\n",
              "ManagerName                   0\n",
              "ManagerID                     8\n",
              "RecruitmentSource             0\n",
              "PerformanceScore              0\n",
              "EngagementSurvey              0\n",
              "EmpSatisfaction               0\n",
              "SpecialProjectsCount          0\n",
              "LastPerformanceReview_Date    0\n",
              "DaysLateLast30                0\n",
              "Absences                      0\n",
              "dtype: int64"
            ]
          },
          "metadata": {},
          "execution_count": 678
        }
      ],
      "source": [
        "df.isna().sum()"
      ]
    },
    {
      "cell_type": "code",
      "execution_count": 679,
      "metadata": {
        "colab": {
          "base_uri": "https://localhost:8080/"
        },
        "id": "2jOk5y1FDd6w",
        "outputId": "7a62749e-9a5e-4902-bd23-15319dbaf435"
      },
      "outputs": [
        {
          "output_type": "execute_result",
          "data": {
            "text/plain": [
              "Index(['Employee_Name', 'EmpID', 'MarriedID', 'MaritalStatusID', 'GenderID',\n",
              "       'EmpStatusID', 'DeptID', 'PerfScoreID', 'FromDiversityJobFairID',\n",
              "       'Salary', 'Termd', 'PositionID', 'Position', 'State', 'Zip', 'DOB',\n",
              "       'Sex', 'MaritalDesc', 'CitizenDesc', 'HispanicLatino', 'DateofHire',\n",
              "       'DateofHire.1', 'TermReason', 'EmploymentStatus', 'Department',\n",
              "       'ManagerName', 'ManagerID', 'RecruitmentSource', 'PerformanceScore',\n",
              "       'EngagementSurvey', 'EmpSatisfaction', 'SpecialProjectsCount',\n",
              "       'LastPerformanceReview_Date', 'DaysLateLast30', 'Absences'],\n",
              "      dtype='object')"
            ]
          },
          "metadata": {},
          "execution_count": 679
        }
      ],
      "source": [
        "df.columns"
      ]
    },
    {
      "cell_type": "code",
      "execution_count": 680,
      "metadata": {
        "id": "ZJ7_xkF3xijw"
      },
      "outputs": [],
      "source": [
        "# I am choosing to mainly focus on the three columns Salary, Performance Score and Employee Satisfaction and see how all of the other columns affect these three\n",
        "# measures and make inferences from that"
      ]
    },
    {
      "cell_type": "code",
      "execution_count": 681,
      "metadata": {
        "id": "Rp2K9RrpwX0M"
      },
      "outputs": [],
      "source": [
        "df_categorical = df[['Position', 'Sex', 'MaritalDesc', 'CitizenDesc',\n",
        "                     'HispanicLatino', 'Department', 'RecruitmentSource']]"
      ]
    },
    {
      "cell_type": "code",
      "execution_count": 682,
      "metadata": {
        "colab": {
          "base_uri": "https://localhost:8080/"
        },
        "id": "BTwuMBSPukgp",
        "outputId": "80d2f5ca-39df-409d-9714-a2aafca2d092"
      },
      "outputs": [
        {
          "output_type": "execute_result",
          "data": {
            "text/plain": [
              "F     176\n",
              "M     135\n",
              "Name: Sex, dtype: int64"
            ]
          },
          "metadata": {},
          "execution_count": 682
        }
      ],
      "source": [
        "df.Sex.value_counts()"
      ]
    },
    {
      "cell_type": "code",
      "execution_count": 683,
      "metadata": {
        "id": "PIUiN6j-xVUd"
      },
      "outputs": [],
      "source": [
        "# How is salary split between the sexes?\n",
        "# What about Employee Satisfaction?\n",
        "# The people with the most power; are they male or female?"
      ]
    },
    {
      "cell_type": "code",
      "execution_count": 684,
      "metadata": {
        "colab": {
          "base_uri": "https://localhost:8080/"
        },
        "id": "GK4fdqx1Wb8z",
        "outputId": "42ab9d90-5c99-4412-fa1e-4ba213ad4b53"
      },
      "outputs": [
        {
          "output_type": "execute_result",
          "data": {
            "text/plain": [
              "US Citizen             295\n",
              "Eligible NonCitizen     12\n",
              "Non-Citizen              4\n",
              "Name: CitizenDesc, dtype: int64"
            ]
          },
          "metadata": {},
          "execution_count": 684
        }
      ],
      "source": [
        "df.CitizenDesc.value_counts()"
      ]
    },
    {
      "cell_type": "code",
      "execution_count": 685,
      "metadata": {
        "colab": {
          "base_uri": "https://localhost:8080/"
        },
        "id": "e8WnW-IivEae",
        "outputId": "1006fd46-dd09-42da-9066-ec106e350454"
      },
      "outputs": [
        {
          "output_type": "execute_result",
          "data": {
            "text/plain": [
              "MA    276\n",
              "CT      6\n",
              "TX      3\n",
              "VT      2\n",
              "UT      1\n",
              "AZ      1\n",
              "ND      1\n",
              "OR      1\n",
              "MT      1\n",
              "NV      1\n",
              "ID      1\n",
              "KY      1\n",
              "NC      1\n",
              "FL      1\n",
              "GA      1\n",
              "CO      1\n",
              "NY      1\n",
              "PA      1\n",
              "RI      1\n",
              "NH      1\n",
              "TN      1\n",
              "IN      1\n",
              "OH      1\n",
              "CA      1\n",
              "WA      1\n",
              "AL      1\n",
              "VA      1\n",
              "ME      1\n",
              "Name: State, dtype: int64"
            ]
          },
          "metadata": {},
          "execution_count": 685
        }
      ],
      "source": [
        "df.State.value_counts()"
      ]
    },
    {
      "cell_type": "code",
      "execution_count": 686,
      "metadata": {
        "id": "noLYd4VsxyZO"
      },
      "outputs": [],
      "source": [
        "# Are the non-US Citizens of the company doing well work wise? Not too interesting, maybe drop if I get\n",
        "# too much other that is interesting"
      ]
    },
    {
      "cell_type": "code",
      "execution_count": 687,
      "metadata": {
        "colab": {
          "base_uri": "https://localhost:8080/"
        },
        "id": "RmIYX1Uf0XOP",
        "outputId": "4fee3709-cdc1-4306-dcf6-d42b7ba0dc1c"
      },
      "outputs": [
        {
          "output_type": "execute_result",
          "data": {
            "text/plain": [
              "Single       137\n",
              "Married      124\n",
              "Divorced      30\n",
              "Separated     12\n",
              "Widowed        8\n",
              "Name: MaritalDesc, dtype: int64"
            ]
          },
          "metadata": {},
          "execution_count": 687
        }
      ],
      "source": [
        "df.MaritalDesc.value_counts()"
      ]
    },
    {
      "cell_type": "code",
      "execution_count": 688,
      "metadata": {
        "id": "v6H2BFF-x71V"
      },
      "outputs": [],
      "source": [
        "# My guess here is that the single people will be the ones that earn the most and are also the most satisfied with their working conditions"
      ]
    },
    {
      "cell_type": "code",
      "execution_count": 689,
      "metadata": {
        "colab": {
          "base_uri": "https://localhost:8080/"
        },
        "id": "rPVhcJpl0vuN",
        "outputId": "3e5c3e77-3c7e-4d30-ce5d-8c57ce284838"
      },
      "outputs": [
        {
          "output_type": "execute_result",
          "data": {
            "text/plain": [
              "No     282\n",
              "Yes     27\n",
              "no       1\n",
              "yes      1\n",
              "Name: HispanicLatino, dtype: int64"
            ]
          },
          "metadata": {},
          "execution_count": 689
        }
      ],
      "source": [
        "df.HispanicLatino.value_counts()"
      ]
    },
    {
      "cell_type": "code",
      "execution_count": 690,
      "metadata": {
        "colab": {
          "base_uri": "https://localhost:8080/"
        },
        "id": "V4nr53_600KW",
        "outputId": "90e813c3-3eb7-434d-bd6c-9c30c8f4dcb8"
      },
      "outputs": [
        {
          "output_type": "execute_result",
          "data": {
            "text/plain": [
              "No     283\n",
              "Yes     28\n",
              "Name: HispanicLatino, dtype: int64"
            ]
          },
          "metadata": {},
          "execution_count": 690
        }
      ],
      "source": [
        "# We need to fix this\n",
        "df['HispanicLatino'].replace({'no':'No', 'yes':'Yes'}, inplace=True)\n",
        "df.HispanicLatino.value_counts()"
      ]
    },
    {
      "cell_type": "code",
      "execution_count": 691,
      "metadata": {
        "colab": {
          "base_uri": "https://localhost:8080/"
        },
        "id": "sOb2_KOs0NN7",
        "outputId": "bea7c70c-497e-4632-fffb-5431c732b6aa"
      },
      "outputs": [
        {
          "output_type": "execute_result",
          "data": {
            "text/plain": [
              "US Citizen             27\n",
              "Eligible NonCitizen     1\n",
              "Name: CitizenDesc, dtype: int64"
            ]
          },
          "metadata": {},
          "execution_count": 691
        }
      ],
      "source": [
        "# Let's look at the overlap between the Hispanic Latino people of the company and their Citizenship\n",
        "df[df['HispanicLatino'] == 'Yes'].CitizenDesc.value_counts()"
      ]
    },
    {
      "cell_type": "code",
      "execution_count": 692,
      "metadata": {
        "id": "dz0FIsY9yBHW"
      },
      "outputs": [],
      "source": [
        "# Meaning that out of the 28 Hispanic Latino workers of the company, all but one are also US Citizens. That is good, I guess?"
      ]
    },
    {
      "cell_type": "code",
      "execution_count": 693,
      "metadata": {
        "colab": {
          "base_uri": "https://localhost:8080/"
        },
        "id": "m2lDClOC1CAK",
        "outputId": "820e5dbb-13e6-44be-c8fb-783bc36f9431"
      },
      "outputs": [
        {
          "output_type": "execute_result",
          "data": {
            "text/plain": [
              "N/A-StillEmployed                   207\n",
              "Another position                     20\n",
              "unhappy                              14\n",
              "more money                           11\n",
              "career change                         9\n",
              "hours                                 8\n",
              "attendance                            7\n",
              "return to school                      5\n",
              "relocation out of area                5\n",
              "no-call, no-show                      4\n",
              "military                              4\n",
              "retiring                              4\n",
              "performance                           4\n",
              "maternity leave - did not return      3\n",
              "medical issues                        3\n",
              "Learned that he is a gangster         1\n",
              "Fatal attraction                      1\n",
              "gross misconduct                      1\n",
              "Name: TermReason, dtype: int64"
            ]
          },
          "metadata": {},
          "execution_count": 693
        }
      ],
      "source": [
        "df.TermReason.value_counts()"
      ]
    },
    {
      "cell_type": "code",
      "execution_count": 694,
      "metadata": {
        "id": "wcJLRdo31IsO"
      },
      "outputs": [],
      "source": [
        "# QUESTION: What made these 14 people so unhappy that they decided to terminate their contracts??"
      ]
    },
    {
      "cell_type": "code",
      "source": [
        "df.EmpSatisfaction.value_counts()"
      ],
      "metadata": {
        "colab": {
          "base_uri": "https://localhost:8080/"
        },
        "id": "JKVNVQOwe792",
        "outputId": "bebd0031-ed6f-4286-b4f3-bd9be70edd9b"
      },
      "execution_count": 695,
      "outputs": [
        {
          "output_type": "execute_result",
          "data": {
            "text/plain": [
              "3    108\n",
              "5     98\n",
              "4     94\n",
              "2      9\n",
              "1      2\n",
              "Name: EmpSatisfaction, dtype: int64"
            ]
          },
          "metadata": {},
          "execution_count": 695
        }
      ]
    },
    {
      "cell_type": "code",
      "execution_count": 696,
      "metadata": {
        "colab": {
          "base_uri": "https://localhost:8080/"
        },
        "id": "l2BaMfVP7UHM",
        "outputId": "1e65ee15-1918-464a-d4d2-fcf7ed1417d3"
      },
      "outputs": [
        {
          "output_type": "execute_result",
          "data": {
            "text/plain": [
              "Active                    207\n",
              "Voluntarily Terminated     88\n",
              "Terminated for Cause       16\n",
              "Name: EmploymentStatus, dtype: int64"
            ]
          },
          "metadata": {},
          "execution_count": 696
        }
      ],
      "source": [
        "df.EmploymentStatus.value_counts()"
      ]
    },
    {
      "cell_type": "code",
      "execution_count": 697,
      "metadata": {
        "id": "jb6pLUfD2P_A"
      },
      "outputs": [],
      "source": [
        "# There really is no insightful inference we can make from this. We know that there is 207 active workers and from the non-active ones, the most interesting termination cause is Unhappy\n",
        "# We can thus remove this column later"
      ]
    },
    {
      "cell_type": "code",
      "execution_count": 698,
      "metadata": {
        "colab": {
          "base_uri": "https://localhost:8080/"
        },
        "id": "sGsoY8YY7nJH",
        "outputId": "70d7a1c9-6d84-48ff-d3a7-17f1ca788a0b"
      },
      "outputs": [
        {
          "output_type": "execute_result",
          "data": {
            "text/plain": [
              "Production              209\n",
              "IT/IS                    50\n",
              "Sales                    31\n",
              "Software Engineering     11\n",
              "Admin Offices             9\n",
              "Executive Office          1\n",
              "Name: Department, dtype: int64"
            ]
          },
          "metadata": {},
          "execution_count": 698
        }
      ],
      "source": [
        "df.Department.value_counts()"
      ]
    },
    {
      "cell_type": "code",
      "execution_count": 699,
      "metadata": {
        "id": "kE9x7RG02kXu"
      },
      "outputs": [],
      "source": [
        "# Here we could look at the Salary, Performance score and Employee Satisfaction across the departments and try to make some inference from that\n",
        "# My guess is that the people in Sales will the ones that are paid the least and are also the unhappiest along with the people in Production"
      ]
    },
    {
      "cell_type": "code",
      "execution_count": 700,
      "metadata": {
        "colab": {
          "base_uri": "https://localhost:8080/"
        },
        "id": "dY06IYrb7s9s",
        "outputId": "431effcb-ccce-4133-9162-5938cb558dbb"
      },
      "outputs": [
        {
          "output_type": "execute_result",
          "data": {
            "text/plain": [
              "Indeed                     87\n",
              "LinkedIn                   76\n",
              "Google Search              49\n",
              "Employee Referral          31\n",
              "Diversity Job Fair         29\n",
              "CareerBuilder              23\n",
              "Website                    13\n",
              "Other                       2\n",
              "On-line Web application     1\n",
              "Name: RecruitmentSource, dtype: int64"
            ]
          },
          "metadata": {},
          "execution_count": 700
        }
      ],
      "source": [
        "df.RecruitmentSource.value_counts()"
      ]
    },
    {
      "cell_type": "code",
      "execution_count": 701,
      "metadata": {
        "id": "IiABDLXa21ST"
      },
      "outputs": [],
      "source": [
        "# QUESTION: What does the Recruitement source predict about performance, salary and employee satisfaction?\n",
        "# The one person that applied from the Online Web application; how is he/she doing at the company?"
      ]
    },
    {
      "cell_type": "code",
      "execution_count": 702,
      "metadata": {
        "colab": {
          "base_uri": "https://localhost:8080/"
        },
        "id": "37P1Gfc_8Cp2",
        "outputId": "eb8940a9-17ca-41cd-95af-702ee49c8f02"
      },
      "outputs": [
        {
          "output_type": "execute_result",
          "data": {
            "text/plain": [
              "Fully Meets          243\n",
              "Exceeds               37\n",
              "Needs Improvement     18\n",
              "PIP                   13\n",
              "Name: PerformanceScore, dtype: int64"
            ]
          },
          "metadata": {},
          "execution_count": 702
        }
      ],
      "source": [
        "df.PerformanceScore.value_counts()"
      ]
    },
    {
      "cell_type": "code",
      "source": [],
      "metadata": {
        "id": "W_bh6Gk6yIF1"
      },
      "execution_count": 702,
      "outputs": []
    },
    {
      "cell_type": "code",
      "source": [
        "# This is something that I noticed when working at a later part in the notebook\n",
        "# when looking at the unhappiest people initially. Putting it here retroactively\n",
        "# because it raises the question \"Should we remove these data points?\"\n",
        "# I ultimately decided not to because 1. It would remove the CEO and 2. Looking\n",
        "# at one of the data points separately (down below with df.iloc[16]), the only\n",
        "# thing that is unreasonable is the Date of Birth so they are still valuable\n",
        "# data points\n",
        "# I want to believe that this isn't deliberate and just rather incompetent people\n",
        "# entering the data\n",
        "ax = sns.scatterplot(x= 'DOB', y= 'Salary', data= df)\n",
        "ax.set_xlabel('Date of Birth')\n",
        "plt.show()"
      ],
      "metadata": {
        "colab": {
          "base_uri": "https://localhost:8080/",
          "height": 449
        },
        "id": "WiMIdUL6sOt6",
        "outputId": "1ed64f25-1595-48fc-ffcc-617a224ae103"
      },
      "execution_count": 703,
      "outputs": [
        {
          "output_type": "display_data",
          "data": {
            "text/plain": [
              "<Figure size 640x480 with 1 Axes>"
            ],
            "image/png": "[encoded data removed]"
          },
          "metadata": {}
        }
      ]
    },
    {
      "cell_type": "code",
      "source": [
        "count = 0\n",
        "for n in range(311):\n",
        "  if df.iloc[n].DOB.year > 2000:\n",
        "    print(n)\n",
        "    count += 1\n",
        "print(f\"Count: {count}\")"
      ],
      "metadata": {
        "colab": {
          "base_uri": "https://localhost:8080/"
        },
        "id": "_QZUzLXtwuIw",
        "outputId": "696324ca-8261-4a8c-d616-669fa13ccb44"
      },
      "execution_count": 704,
      "outputs": [
        {
          "output_type": "stream",
          "name": "stdout",
          "text": [
            "16\n",
            "17\n",
            "20\n",
            "21\n",
            "24\n",
            "25\n",
            "31\n",
            "35\n",
            "40\n",
            "61\n",
            "68\n",
            "69\n",
            "89\n",
            "98\n",
            "103\n",
            "108\n",
            "111\n",
            "124\n",
            "127\n",
            "131\n",
            "140\n",
            "142\n",
            "143\n",
            "150\n",
            "155\n",
            "185\n",
            "191\n",
            "197\n",
            "225\n",
            "226\n",
            "240\n",
            "257\n",
            "263\n",
            "273\n",
            "277\n",
            "282\n",
            "287\n",
            "296\n",
            "Count: 38\n"
          ]
        }
      ]
    },
    {
      "cell_type": "code",
      "source": [
        "df.iloc[16]"
      ],
      "metadata": {
        "colab": {
          "base_uri": "https://localhost:8080/"
        },
        "id": "d7FygQB6xS8T",
        "outputId": "3ce6e8bd-9007-4711-ea91-27c233b62345"
      },
      "execution_count": 705,
      "outputs": [
        {
          "output_type": "execute_result",
          "data": {
            "text/plain": [
              "Employee_Name                         Beak, Kimberly  \n",
              "EmpID                                            10023\n",
              "MarriedID                                            1\n",
              "MaritalStatusID                                      1\n",
              "GenderID                                             0\n",
              "EmpStatusID                                          2\n",
              "DeptID                                               5\n",
              "PerfScoreID                                          4\n",
              "FromDiversityJobFairID                               0\n",
              "Salary                                           70131\n",
              "Termd                                                0\n",
              "PositionID                                          20\n",
              "Position                      Production Technician II\n",
              "State                                               MA\n",
              "Zip                                               2145\n",
              "DOB                                2066-04-17 00:00:00\n",
              "Sex                                                  F\n",
              "MaritalDesc                                    Married\n",
              "CitizenDesc                                 US Citizen\n",
              "HispanicLatino                                      No\n",
              "DateofHire                         2016-07-21 00:00:00\n",
              "DateofHire.1                       2017-07-21 00:00:00\n",
              "TermReason                           N/A-StillEmployed\n",
              "EmploymentStatus                                Active\n",
              "Department                           Production       \n",
              "ManagerName                              Kelley Spirea\n",
              "ManagerID                                         18.0\n",
              "RecruitmentSource                    Employee Referral\n",
              "PerformanceScore                               Exceeds\n",
              "EngagementSurvey                                   4.4\n",
              "EmpSatisfaction                                      3\n",
              "SpecialProjectsCount                                 0\n",
              "LastPerformanceReview_Date         2019-01-14 00:00:00\n",
              "DaysLateLast30                                       0\n",
              "Absences                                            16\n",
              "Name: 16, dtype: object"
            ]
          },
          "metadata": {},
          "execution_count": 705
        }
      ]
    },
    {
      "cell_type": "code",
      "source": [
        "# df = df[df['DOB'] < '2000-01-01']\n",
        "# df.info()\n",
        "# Intentionally choosing not to do this"
      ],
      "metadata": {
        "id": "e7MHYYaxsqhd"
      },
      "execution_count": 706,
      "outputs": []
    },
    {
      "cell_type": "code",
      "source": [
        "# The one and only data point that I will Date of Birth for is the CEO;\n",
        "# from 2054 to 1954:\n",
        "df.loc[150, \"DOB\"] = '1954-09-21 00:00:00'"
      ],
      "metadata": {
        "id": "9dLwGP3umQ--"
      },
      "execution_count": 707,
      "outputs": []
    },
    {
      "cell_type": "code",
      "source": [
        "df.loc[150]"
      ],
      "metadata": {
        "colab": {
          "base_uri": "https://localhost:8080/"
        },
        "id": "b70xUu00mR51",
        "outputId": "e8b1a666-8b44-491e-e19a-4d7a60bd3e32"
      },
      "execution_count": 708,
      "outputs": [
        {
          "output_type": "execute_result",
          "data": {
            "text/plain": [
              "Employee_Name                         King, Janet\n",
              "EmpID                                       10089\n",
              "MarriedID                                       1\n",
              "MaritalStatusID                                 1\n",
              "GenderID                                        0\n",
              "EmpStatusID                                     1\n",
              "DeptID                                          2\n",
              "PerfScoreID                                     3\n",
              "FromDiversityJobFairID                          0\n",
              "Salary                                     250000\n",
              "Termd                                           0\n",
              "PositionID                                     16\n",
              "Position                          President & CEO\n",
              "State                                          MA\n",
              "Zip                                          1902\n",
              "DOB                           1954-09-21 00:00:00\n",
              "Sex                                             F\n",
              "MaritalDesc                               Married\n",
              "CitizenDesc                            US Citizen\n",
              "HispanicLatino                                Yes\n",
              "DateofHire                    2012-02-07 00:00:00\n",
              "DateofHire.1                  2012-02-08 00:00:00\n",
              "TermReason                      N/A-StillEmployed\n",
              "EmploymentStatus                           Active\n",
              "Department                       Executive Office\n",
              "ManagerName                    Board of Directors\n",
              "ManagerID                                     9.0\n",
              "RecruitmentSource                          Indeed\n",
              "PerformanceScore                      Fully Meets\n",
              "EngagementSurvey                             4.83\n",
              "EmpSatisfaction                                 3\n",
              "SpecialProjectsCount                            0\n",
              "LastPerformanceReview_Date    2019-01-17 00:00:00\n",
              "DaysLateLast30                                  0\n",
              "Absences                                       10\n",
              "Name: 150, dtype: object"
            ]
          },
          "metadata": {},
          "execution_count": 708
        }
      ]
    },
    {
      "cell_type": "code",
      "execution_count": 709,
      "metadata": {
        "colab": {
          "base_uri": "https://localhost:8080/"
        },
        "id": "7P1HEvrryNh8",
        "outputId": "a7524274-4d38-47b0-ae09-14257a20b6fa"
      },
      "outputs": [
        {
          "output_type": "execute_result",
          "data": {
            "text/plain": [
              "Sex  Department                                        \n",
              "F    Admin Offices         Administrative Assistant         3\n",
              "                           Sr. Accountant                   2\n",
              "                           Accountant I                     1\n",
              "     Executive Office      President & CEO                  1\n",
              "     IT/IS                 IT Support                       5\n",
              "                           Database Administrator           4\n",
              "                           Data Analyst                     3\n",
              "                           Sr. Network Engineer             2\n",
              "                           Network Engineer                 2\n",
              "                           Sr. DBA                          1\n",
              "                           Senior BI Developer              1\n",
              "                           BI Developer                     1\n",
              "                           Principal Data Architect         1\n",
              "                           Data Architect                   1\n",
              "                           CIO                              1\n",
              "     Production            Production Technician I         83\n",
              "                           Production Technician II        37\n",
              "                           Production Manager               6\n",
              "     Sales                 Area Sales Manager              12\n",
              "                           Sales Manager                    2\n",
              "                           Director of Sales                1\n",
              "     Software Engineering  Software Engineer                6\n",
              "M    Admin Offices         Accountant I                     2\n",
              "                           Shared Services Manager          1\n",
              "     IT/IS                 Data Analyst                     4\n",
              "                           IT Support                       3\n",
              "                           Sr. Network Engineer             3\n",
              "                           BI Developer                     3\n",
              "                           Network Engineer                 3\n",
              "                           Senior BI Developer              2\n",
              "                           IT Manager - DB                  2\n",
              "                           Sr. DBA                          1\n",
              "                           Enterprise Architect             1\n",
              "                           BI Director                      1\n",
              "                           IT Manager - Support             1\n",
              "                           IT Director                      1\n",
              "                           IT Manager - Infra               1\n",
              "                           Data Analyst                     1\n",
              "                           Database Administrator           1\n",
              "     Production            Production Technician I         54\n",
              "                           Production Technician II        20\n",
              "                           Production Manager               8\n",
              "                           Director of Operations           1\n",
              "     Sales                 Area Sales Manager              15\n",
              "                           Sales Manager                    1\n",
              "     Software Engineering  Software Engineer                4\n",
              "                           Software Engineering Manager     1\n",
              "Name: Position, dtype: int64"
            ]
          },
          "metadata": {},
          "execution_count": 709
        }
      ],
      "source": [
        "grouped_by_gender_and_department = df.groupby([\"Sex\", \"Department\"])\n",
        "grouped_by_gender_and_department[\"Position\"].apply(pd.Series.value_counts)"
      ]
    },
    {
      "cell_type": "code",
      "execution_count": 710,
      "metadata": {
        "colab": {
          "base_uri": "https://localhost:8080/",
          "height": 617
        },
        "id": "vq6pEdXqrrwz",
        "outputId": "114c3fcb-66d7-4b41-bfa0-30fa7356ce85"
      },
      "outputs": [
        {
          "output_type": "display_data",
          "data": {
            "text/html": [
              "<html>\n",
              "<head><meta charset=\"utf-8\" /></head>\n",
              "<body>\n",
              "    <div>            <script src=\"https://cdnjs.cloudflare.com/ajax/libs/mathjax/2.7.5/MathJax.js?config=TeX-AMS-MML_SVG\"></script><script type=\"text/javascript\">if (window.MathJax && window.MathJax.Hub && window.MathJax.Hub.Config) {window.MathJax.Hub.Config({SVG: {font: \"STIX-Web\"}});}</script>                <script type=\"text/javascript\">window.PlotlyConfig = {MathJaxConfig: 'local'};</script>\n",
              "        <script charset=\"utf-8\" src=\"https://cdn.plot.ly/plotly-2.24.1.min.js\"></script>                <div id=\"4884b3f4-dcb3-4c72-b7d4-b9a63de3b60b\" class=\"plotly-graph-div\" style=\"height:600px; width:700px;\"></div>            <script type=\"text/javascript\">                                    window.PLOTLYENV=window.PLOTLYENV || {};                                    if (document.getElementById(\"4884b3f4-dcb3-4c72-b7d4-b9a63de3b60b\")) {                    Plotly.newPlot(                        \"4884b3f4-dcb3-4c72-b7d4-b9a63de3b60b\",                        [{\"branchvalues\":\"total\",\"domain\":{\"x\":[0.0,1.0],\"y\":[0.0,1.0]},\"hovertemplate\":\"labels=%{label}\\u003cbr\\u003eSalary=%{value}\\u003cbr\\u003eparent=%{parent}\\u003cbr\\u003eid=%{id}\\u003cextra\\u003e\\u003c\\u002fextra\\u003e\",\"ids\":[\"M \\u002fAdmin Offices\\u002fCareerBuilder\",\"F\\u002fIT\\u002fIS\\u002fCareerBuilder\",\"M \\u002fIT\\u002fIS\\u002fCareerBuilder\",\"F\\u002fProduction       \\u002fCareerBuilder\",\"M \\u002fProduction       \\u002fCareerBuilder\",\"F\\u002fSales\\u002fCareerBuilder\",\"M \\u002fSales\\u002fCareerBuilder\",\"F\\u002fSoftware Engineering\\u002fCareerBuilder\",\"F\\u002fAdmin Offices\\u002fDiversity Job Fair\",\"F\\u002fIT\\u002fIS\\u002fDiversity Job Fair\",\"M \\u002fIT\\u002fIS\\u002fDiversity Job Fair\",\"F\\u002fProduction       \\u002fDiversity Job Fair\",\"M \\u002fProduction       \\u002fDiversity Job Fair\",\"M \\u002fSales\\u002fDiversity Job Fair\",\"M \\u002fSoftware Engineering\\u002fDiversity Job Fair\",\"F\\u002fIT\\u002fIS\\u002fEmployee Referral\",\"M \\u002fIT\\u002fIS\\u002fEmployee Referral\",\"F\\u002fProduction       \\u002fEmployee Referral\",\"M \\u002fProduction       \\u002fEmployee Referral\",\"M \\u002fSales\\u002fEmployee Referral\",\"F\\u002fIT\\u002fIS\\u002fGoogle Search\",\"F\\u002fProduction       \\u002fGoogle Search\",\"M \\u002fProduction       \\u002fGoogle Search\",\"F\\u002fSales\\u002fGoogle Search\",\"F\\u002fSoftware Engineering\\u002fGoogle Search\",\"M \\u002fSoftware Engineering\\u002fGoogle Search\",\"F\\u002fAdmin Offices\\u002fIndeed\",\"M \\u002fAdmin Offices\\u002fIndeed\",\"F\\u002fExecutive Office\\u002fIndeed\",\"F\\u002fIT\\u002fIS\\u002fIndeed\",\"M \\u002fIT\\u002fIS\\u002fIndeed\",\"F\\u002fProduction       \\u002fIndeed\",\"M \\u002fProduction       \\u002fIndeed\",\"F\\u002fSales\\u002fIndeed\",\"M \\u002fSales\\u002fIndeed\",\"F\\u002fSoftware Engineering\\u002fIndeed\",\"F\\u002fIT\\u002fIS\\u002fLinkedIn\",\"M \\u002fIT\\u002fIS\\u002fLinkedIn\",\"F\\u002fProduction       \\u002fLinkedIn\",\"M \\u002fProduction       \\u002fLinkedIn\",\"F\\u002fSales\\u002fLinkedIn\",\"M \\u002fSales\\u002fLinkedIn\",\"F\\u002fSoftware Engineering\\u002fLinkedIn\",\"M \\u002fSoftware Engineering\\u002fLinkedIn\",\"M \\u002fProduction       \\u002fOn-line Web application\",\"F\\u002fAdmin Offices\\u002fOther\",\"M \\u002fProduction       \\u002fOther\",\"F\\u002fAdmin Offices\\u002fWebsite\",\"M \\u002fAdmin Offices\\u002fWebsite\",\"F\\u002fProduction       \\u002fWebsite\",\"M \\u002fProduction       \\u002fWebsite\",\"F\\u002fSales\\u002fWebsite\",\"M \\u002fSales\\u002fWebsite\",\"F\\u002fAdmin Offices\",\"M \\u002fAdmin Offices\",\"F\\u002fExecutive Office\",\"F\\u002fIT\\u002fIS\",\"M \\u002fIT\\u002fIS\",\"F\\u002fProduction       \",\"M \\u002fProduction       \",\"F\\u002fSales\",\"M \\u002fSales\",\"F\\u002fSoftware Engineering\",\"M \\u002fSoftware Engineering\",\"F\",\"M \"],\"labels\":[\"CareerBuilder\",\"CareerBuilder\",\"CareerBuilder\",\"CareerBuilder\",\"CareerBuilder\",\"CareerBuilder\",\"CareerBuilder\",\"CareerBuilder\",\"Diversity Job Fair\",\"Diversity Job Fair\",\"Diversity Job Fair\",\"Diversity Job Fair\",\"Diversity Job Fair\",\"Diversity Job Fair\",\"Diversity Job Fair\",\"Employee Referral\",\"Employee Referral\",\"Employee Referral\",\"Employee Referral\",\"Employee Referral\",\"Google Search\",\"Google Search\",\"Google Search\",\"Google Search\",\"Google Search\",\"Google Search\",\"Indeed\",\"Indeed\",\"Indeed\",\"Indeed\",\"Indeed\",\"Indeed\",\"Indeed\",\"Indeed\",\"Indeed\",\"Indeed\",\"LinkedIn\",\"LinkedIn\",\"LinkedIn\",\"LinkedIn\",\"LinkedIn\",\"LinkedIn\",\"LinkedIn\",\"LinkedIn\",\"On-line Web application\",\"Other\",\"Other\",\"Website\",\"Website\",\"Website\",\"Website\",\"Website\",\"Website\",\"Admin Offices\",\"Admin Offices\",\"Executive Office\",\"IT\\u002fIS\",\"IT\\u002fIS\",\"Production       \",\"Production       \",\"Sales\",\"Sales\",\"Software Engineering\",\"Software Engineering\",\"F\",\"M \"],\"name\":\"\",\"parents\":[\"M \\u002fAdmin Offices\",\"F\\u002fIT\\u002fIS\",\"M \\u002fIT\\u002fIS\",\"F\\u002fProduction       \",\"M \\u002fProduction       \",\"F\\u002fSales\",\"M \\u002fSales\",\"F\\u002fSoftware Engineering\",\"F\\u002fAdmin Offices\",\"F\\u002fIT\\u002fIS\",\"M \\u002fIT\\u002fIS\",\"F\\u002fProduction       \",\"M \\u002fProduction       \",\"M \\u002fSales\",\"M \\u002fSoftware Engineering\",\"F\\u002fIT\\u002fIS\",\"M \\u002fIT\\u002fIS\",\"F\\u002fProduction       \",\"M \\u002fProduction       \",\"M \\u002fSales\",\"F\\u002fIT\\u002fIS\",\"F\\u002fProduction       \",\"M \\u002fProduction       \",\"F\\u002fSales\",\"F\\u002fSoftware Engineering\",\"M \\u002fSoftware Engineering\",\"F\\u002fAdmin Offices\",\"M \\u002fAdmin Offices\",\"F\\u002fExecutive Office\",\"F\\u002fIT\\u002fIS\",\"M \\u002fIT\\u002fIS\",\"F\\u002fProduction       \",\"M \\u002fProduction       \",\"F\\u002fSales\",\"M \\u002fSales\",\"F\\u002fSoftware Engineering\",\"F\\u002fIT\\u002fIS\",\"M \\u002fIT\\u002fIS\",\"F\\u002fProduction       \",\"M \\u002fProduction       \",\"F\\u002fSales\",\"M \\u002fSales\",\"F\\u002fSoftware Engineering\",\"M \\u002fSoftware Engineering\",\"M \\u002fProduction       \",\"F\\u002fAdmin Offices\",\"M \\u002fProduction       \",\"F\\u002fAdmin Offices\",\"M \\u002fAdmin Offices\",\"F\\u002fProduction       \",\"M \\u002fProduction       \",\"F\\u002fSales\",\"M \\u002fSales\",\"F\",\"M \",\"F\",\"F\",\"M \",\"F\",\"M \",\"F\",\"M \",\"F\",\"M \",\"\",\"\"],\"values\":[93046,52599,75281,776680,172863,59370,129060,101199,224367,51777,398327,630208,353510,144331,292766,732268,556482,237902,750101,136995,110000,1672348,867444,143325,105688,77692,49920,63003,250000,646293,1334346,1824794,1282584,576480,261820,278890,488109,407750,2179642,1416795,180000,71707,95660,92989,52505,99351,67176,51920,64520,190599,55140,121075,316736,425558,220569,250000,2081046,2772186,7512173,5018118,1080250,1060649,581437,463447,11930464,9534969],\"type\":\"sunburst\",\"textinfo\":\"label+value\"}],                        {\"template\":{\"data\":{\"histogram2dcontour\":[{\"type\":\"histogram2dcontour\",\"colorbar\":{\"outlinewidth\":0,\"ticks\":\"\"},\"colorscale\":[[0.0,\"#0d0887\"],[0.1111111111111111,\"#46039f\"],[0.2222222222222222,\"#7201a8\"],[0.3333333333333333,\"#9c179e\"],[0.4444444444444444,\"#bd3786\"],[0.5555555555555556,\"#d8576b\"],[0.6666666666666666,\"#ed7953\"],[0.7777777777777778,\"#fb9f3a\"],[0.8888888888888888,\"#fdca26\"],[1.0,\"#f0f921\"]]}],\"choropleth\":[{\"type\":\"choropleth\",\"colorbar\":{\"outlinewidth\":0,\"ticks\":\"\"}}],\"histogram2d\":[{\"type\":\"histogram2d\",\"colorbar\":{\"outlinewidth\":0,\"ticks\":\"\"},\"colorscale\":[[0.0,\"#0d0887\"],[0.1111111111111111,\"#46039f\"],[0.2222222222222222,\"#7201a8\"],[0.3333333333333333,\"#9c179e\"],[0.4444444444444444,\"#bd3786\"],[0.5555555555555556,\"#d8576b\"],[0.6666666666666666,\"#ed7953\"],[0.7777777777777778,\"#fb9f3a\"],[0.8888888888888888,\"#fdca26\"],[1.0,\"#f0f921\"]]}],\"heatmap\":[{\"type\":\"heatmap\",\"colorbar\":{\"outlinewidth\":0,\"ticks\":\"\"},\"colorscale\":[[0.0,\"#0d0887\"],[0.1111111111111111,\"#46039f\"],[0.2222222222222222,\"#7201a8\"],[0.3333333333333333,\"#9c179e\"],[0.4444444444444444,\"#bd3786\"],[0.5555555555555556,\"#d8576b\"],[0.6666666666666666,\"#ed7953\"],[0.7777777777777778,\"#fb9f3a\"],[0.8888888888888888,\"#fdca26\"],[1.0,\"#f0f921\"]]}],\"heatmapgl\":[{\"type\":\"heatmapgl\",\"colorbar\":{\"outlinewidth\":0,\"ticks\":\"\"},\"colorscale\":[[0.0,\"#0d0887\"],[0.1111111111111111,\"#46039f\"],[0.2222222222222222,\"#7201a8\"],[0.3333333333333333,\"#9c179e\"],[0.4444444444444444,\"#bd3786\"],[0.5555555555555556,\"#d8576b\"],[0.6666666666666666,\"#ed7953\"],[0.7777777777777778,\"#fb9f3a\"],[0.8888888888888888,\"#fdca26\"],[1.0,\"#f0f921\"]]}],\"contourcarpet\":[{\"type\":\"contourcarpet\",\"colorbar\":{\"outlinewidth\":0,\"ticks\":\"\"}}],\"contour\":[{\"type\":\"contour\",\"colorbar\":{\"outlinewidth\":0,\"ticks\":\"\"},\"colorscale\":[[0.0,\"#0d0887\"],[0.1111111111111111,\"#46039f\"],[0.2222222222222222,\"#7201a8\"],[0.3333333333333333,\"#9c179e\"],[0.4444444444444444,\"#bd3786\"],[0.5555555555555556,\"#d8576b\"],[0.6666666666666666,\"#ed7953\"],[0.7777777777777778,\"#fb9f3a\"],[0.8888888888888888,\"#fdca26\"],[1.0,\"#f0f921\"]]}],\"surface\":[{\"type\":\"surface\",\"colorbar\":{\"outlinewidth\":0,\"ticks\":\"\"},\"colorscale\":[[0.0,\"#0d0887\"],[0.1111111111111111,\"#46039f\"],[0.2222222222222222,\"#7201a8\"],[0.3333333333333333,\"#9c179e\"],[0.4444444444444444,\"#bd3786\"],[0.5555555555555556,\"#d8576b\"],[0.6666666666666666,\"#ed7953\"],[0.7777777777777778,\"#fb9f3a\"],[0.8888888888888888,\"#fdca26\"],[1.0,\"#f0f921\"]]}],\"mesh3d\":[{\"type\":\"mesh3d\",\"colorbar\":{\"outlinewidth\":0,\"ticks\":\"\"}}],\"scatter\":[{\"fillpattern\":{\"fillmode\":\"overlay\",\"size\":10,\"solidity\":0.2},\"type\":\"scatter\"}],\"parcoords\":[{\"type\":\"parcoords\",\"line\":{\"colorbar\":{\"outlinewidth\":0,\"ticks\":\"\"}}}],\"scatterpolargl\":[{\"type\":\"scatterpolargl\",\"marker\":{\"colorbar\":{\"outlinewidth\":0,\"ticks\":\"\"}}}],\"bar\":[{\"error_x\":{\"color\":\"#2a3f5f\"},\"error_y\":{\"color\":\"#2a3f5f\"},\"marker\":{\"line\":{\"color\":\"#E5ECF6\",\"width\":0.5},\"pattern\":{\"fillmode\":\"overlay\",\"size\":10,\"solidity\":0.2}},\"type\":\"bar\"}],\"scattergeo\":[{\"type\":\"scattergeo\",\"marker\":{\"colorbar\":{\"outlinewidth\":0,\"ticks\":\"\"}}}],\"scatterpolar\":[{\"type\":\"scatterpolar\",\"marker\":{\"colorbar\":{\"outlinewidth\":0,\"ticks\":\"\"}}}],\"histogram\":[{\"marker\":{\"pattern\":{\"fillmode\":\"overlay\",\"size\":10,\"solidity\":0.2}},\"type\":\"histogram\"}],\"scattergl\":[{\"type\":\"scattergl\",\"marker\":{\"colorbar\":{\"outlinewidth\":0,\"ticks\":\"\"}}}],\"scatter3d\":[{\"type\":\"scatter3d\",\"line\":{\"colorbar\":{\"outlinewidth\":0,\"ticks\":\"\"}},\"marker\":{\"colorbar\":{\"outlinewidth\":0,\"ticks\":\"\"}}}],\"scattermapbox\":[{\"type\":\"scattermapbox\",\"marker\":{\"colorbar\":{\"outlinewidth\":0,\"ticks\":\"\"}}}],\"scatterternary\":[{\"type\":\"scatterternary\",\"marker\":{\"colorbar\":{\"outlinewidth\":0,\"ticks\":\"\"}}}],\"scattercarpet\":[{\"type\":\"scattercarpet\",\"marker\":{\"colorbar\":{\"outlinewidth\":0,\"ticks\":\"\"}}}],\"carpet\":[{\"aaxis\":{\"endlinecolor\":\"#2a3f5f\",\"gridcolor\":\"white\",\"linecolor\":\"white\",\"minorgridcolor\":\"white\",\"startlinecolor\":\"#2a3f5f\"},\"baxis\":{\"endlinecolor\":\"#2a3f5f\",\"gridcolor\":\"white\",\"linecolor\":\"white\",\"minorgridcolor\":\"white\",\"startlinecolor\":\"#2a3f5f\"},\"type\":\"carpet\"}],\"table\":[{\"cells\":{\"fill\":{\"color\":\"#EBF0F8\"},\"line\":{\"color\":\"white\"}},\"header\":{\"fill\":{\"color\":\"#C8D4E3\"},\"line\":{\"color\":\"white\"}},\"type\":\"table\"}],\"barpolar\":[{\"marker\":{\"line\":{\"color\":\"#E5ECF6\",\"width\":0.5},\"pattern\":{\"fillmode\":\"overlay\",\"size\":10,\"solidity\":0.2}},\"type\":\"barpolar\"}],\"pie\":[{\"automargin\":true,\"type\":\"pie\"}]},\"layout\":{\"autotypenumbers\":\"strict\",\"colorway\":[\"#636efa\",\"#EF553B\",\"#00cc96\",\"#ab63fa\",\"#FFA15A\",\"#19d3f3\",\"#FF6692\",\"#B6E880\",\"#FF97FF\",\"#FECB52\"],\"font\":{\"color\":\"#2a3f5f\"},\"hovermode\":\"closest\",\"hoverlabel\":{\"align\":\"left\"},\"paper_bgcolor\":\"white\",\"plot_bgcolor\":\"#E5ECF6\",\"polar\":{\"bgcolor\":\"#E5ECF6\",\"angularaxis\":{\"gridcolor\":\"white\",\"linecolor\":\"white\",\"ticks\":\"\"},\"radialaxis\":{\"gridcolor\":\"white\",\"linecolor\":\"white\",\"ticks\":\"\"}},\"ternary\":{\"bgcolor\":\"#E5ECF6\",\"aaxis\":{\"gridcolor\":\"white\",\"linecolor\":\"white\",\"ticks\":\"\"},\"baxis\":{\"gridcolor\":\"white\",\"linecolor\":\"white\",\"ticks\":\"\"},\"caxis\":{\"gridcolor\":\"white\",\"linecolor\":\"white\",\"ticks\":\"\"}},\"coloraxis\":{\"colorbar\":{\"outlinewidth\":0,\"ticks\":\"\"}},\"colorscale\":{\"sequential\":[[0.0,\"#0d0887\"],[0.1111111111111111,\"#46039f\"],[0.2222222222222222,\"#7201a8\"],[0.3333333333333333,\"#9c179e\"],[0.4444444444444444,\"#bd3786\"],[0.5555555555555556,\"#d8576b\"],[0.6666666666666666,\"#ed7953\"],[0.7777777777777778,\"#fb9f3a\"],[0.8888888888888888,\"#fdca26\"],[1.0,\"#f0f921\"]],\"sequentialminus\":[[0.0,\"#0d0887\"],[0.1111111111111111,\"#46039f\"],[0.2222222222222222,\"#7201a8\"],[0.3333333333333333,\"#9c179e\"],[0.4444444444444444,\"#bd3786\"],[0.5555555555555556,\"#d8576b\"],[0.6666666666666666,\"#ed7953\"],[0.7777777777777778,\"#fb9f3a\"],[0.8888888888888888,\"#fdca26\"],[1.0,\"#f0f921\"]],\"diverging\":[[0,\"#8e0152\"],[0.1,\"#c51b7d\"],[0.2,\"#de77ae\"],[0.3,\"#f1b6da\"],[0.4,\"#fde0ef\"],[0.5,\"#f7f7f7\"],[0.6,\"#e6f5d0\"],[0.7,\"#b8e186\"],[0.8,\"#7fbc41\"],[0.9,\"#4d9221\"],[1,\"#276419\"]]},\"xaxis\":{\"gridcolor\":\"white\",\"linecolor\":\"white\",\"ticks\":\"\",\"title\":{\"standoff\":15},\"zerolinecolor\":\"white\",\"automargin\":true,\"zerolinewidth\":2},\"yaxis\":{\"gridcolor\":\"white\",\"linecolor\":\"white\",\"ticks\":\"\",\"title\":{\"standoff\":15},\"zerolinecolor\":\"white\",\"automargin\":true,\"zerolinewidth\":2},\"scene\":{\"xaxis\":{\"backgroundcolor\":\"#E5ECF6\",\"gridcolor\":\"white\",\"linecolor\":\"white\",\"showbackground\":true,\"ticks\":\"\",\"zerolinecolor\":\"white\",\"gridwidth\":2},\"yaxis\":{\"backgroundcolor\":\"#E5ECF6\",\"gridcolor\":\"white\",\"linecolor\":\"white\",\"showbackground\":true,\"ticks\":\"\",\"zerolinecolor\":\"white\",\"gridwidth\":2},\"zaxis\":{\"backgroundcolor\":\"#E5ECF6\",\"gridcolor\":\"white\",\"linecolor\":\"white\",\"showbackground\":true,\"ticks\":\"\",\"zerolinecolor\":\"white\",\"gridwidth\":2}},\"shapedefaults\":{\"line\":{\"color\":\"#2a3f5f\"}},\"annotationdefaults\":{\"arrowcolor\":\"#2a3f5f\",\"arrowhead\":0,\"arrowwidth\":1},\"geo\":{\"bgcolor\":\"white\",\"landcolor\":\"#E5ECF6\",\"subunitcolor\":\"white\",\"showland\":true,\"showlakes\":true,\"lakecolor\":\"white\"},\"title\":{\"x\":0.05},\"mapbox\":{\"style\":\"light\"}}},\"legend\":{\"tracegroupgap\":0},\"margin\":{\"t\":60},\"height\":600,\"width\":700},                        {\"responsive\": true}                    ).then(function(){\n",
              "                            \n",
              "var gd = document.getElementById('4884b3f4-dcb3-4c72-b7d4-b9a63de3b60b');\n",
              "var x = new MutationObserver(function (mutations, observer) {{\n",
              "        var display = window.getComputedStyle(gd).display;\n",
              "        if (!display || display === 'none') {{\n",
              "            console.log([gd, 'removed!']);\n",
              "            Plotly.purge(gd);\n",
              "            observer.disconnect();\n",
              "        }}\n",
              "}});\n",
              "\n",
              "// Listen for the removal of the full notebook cells\n",
              "var notebookContainer = gd.closest('#notebook-container');\n",
              "if (notebookContainer) {{\n",
              "    x.observe(notebookContainer, {childList: true});\n",
              "}}\n",
              "\n",
              "// Listen for the clearing of the current output cell\n",
              "var outputEl = gd.closest('.output');\n",
              "if (outputEl) {{\n",
              "    x.observe(outputEl, {childList: true});\n",
              "}}\n",
              "\n",
              "                        })                };                            </script>        </div>\n",
              "</body>\n",
              "</html>"
            ]
          },
          "metadata": {}
        }
      ],
      "source": [
        "fig = px.sunburst(df, path=['Sex', 'Department', 'RecruitmentSource'],\n",
        "                  values= 'Salary', width=700, height=600)\n",
        "fig.update_traces(textinfo=\"label+value\")\n",
        "fig.show()"
      ]
    },
    {
      "cell_type": "code",
      "execution_count": 711,
      "metadata": {
        "id": "CoUEjKKkyYuo"
      },
      "outputs": [],
      "source": [
        "# We realize immediately that columns like Employee name, Employee ID etc will be rather irrelevant\n",
        "# to any inference or insightful exploration of our dataset and hence, we can create a new dataset with only\n",
        "# the columns we're interested in. Furthermore, since there are columns with categorical values rather than\n",
        "# ID's for Gender, Performance score and Marital status, we can remove the ID's of these as well\n",
        "# Removing DateofHite.1 since I don't really know what it means\n",
        "# I am also making the decision that columns such as State, EmploymentStatus, Manager Name, Engagement Survey\n",
        "# are not going to give any good inference or insights, hence removing these"
      ]
    },
    {
      "cell_type": "code",
      "source": [
        "df = df[['Salary', 'Position', 'DOB', 'Sex', 'MaritalDesc',\n",
        "         'CitizenDesc','HispanicLatino', 'DateofHire', 'TermReason',\n",
        "         'Department', 'RecruitmentSource', 'PerformanceScore',\n",
        "         'EmpSatisfaction', 'SpecialProjectsCount',\n",
        "         'LastPerformanceReview_Date', 'DaysLateLast30', 'Absences']]"
      ],
      "metadata": {
        "id": "D7znLBDB3xF3"
      },
      "execution_count": 712,
      "outputs": []
    },
    {
      "cell_type": "code",
      "execution_count": 713,
      "metadata": {
        "colab": {
          "base_uri": "https://localhost:8080/"
        },
        "id": "dW9oZuDgEJTC",
        "outputId": "afbb5365-0e17-469c-f8ad-940d20081bac"
      },
      "outputs": [
        {
          "output_type": "execute_result",
          "data": {
            "text/plain": [
              "count       311.000000\n",
              "mean      69020.684887\n",
              "std       25156.636930\n",
              "min       45046.000000\n",
              "25%       55501.500000\n",
              "50%       62810.000000\n",
              "75%       72036.000000\n",
              "max      250000.000000\n",
              "Name: Salary, dtype: float64"
            ]
          },
          "metadata": {},
          "execution_count": 713
        }
      ],
      "source": [
        "df.Salary.describe()"
      ]
    },
    {
      "cell_type": "code",
      "execution_count": 714,
      "metadata": {
        "id": "sW82yjxZcgLg"
      },
      "outputs": [],
      "source": [
        "# First, let's just get a good look and understanding of these three separately; their count and distributions"
      ]
    },
    {
      "cell_type": "code",
      "execution_count": 715,
      "metadata": {
        "colab": {
          "base_uri": "https://localhost:8080/",
          "height": 449
        },
        "id": "0N_PIhEo17cH",
        "outputId": "e7f42cd4-7204-48b9-cb61-4b9cc7854f27"
      },
      "outputs": [
        {
          "output_type": "display_data",
          "data": {
            "text/plain": [
              "<Figure size 640x480 with 1 Axes>"
            ],
            "image/png": "[encoded data removed]"
          },
          "metadata": {}
        }
      ],
      "source": [
        "ax = sns.histplot(df['Salary'], kde= False, bins=15, edgecolor= 'black')\n",
        "plt.show()"
      ]
    },
    {
      "cell_type": "code",
      "source": [
        "ax = sns.boxplot(y=\"Salary\", data=df)\n",
        "#plt.legend(loc='right')\n",
        "plt.show()"
      ],
      "metadata": {
        "colab": {
          "base_uri": "https://localhost:8080/",
          "height": 411
        },
        "id": "7TkMdpRiRYRa",
        "outputId": "1cced4aa-9de2-4d09-9802-31666e7372d2"
      },
      "execution_count": 716,
      "outputs": [
        {
          "output_type": "display_data",
          "data": {
            "text/plain": [
              "<Figure size 640x480 with 1 Axes>"
            ],
            "image/png": "[encoded data removed]"
          },
          "metadata": {}
        }
      ]
    },
    {
      "cell_type": "code",
      "execution_count": 717,
      "metadata": {
        "colab": {
          "base_uri": "https://localhost:8080/",
          "height": 449
        },
        "id": "sleHaUuBrpau",
        "outputId": "ea699ce3-6afc-40fa-c2f9-24bc6c5a259d"
      },
      "outputs": [
        {
          "output_type": "display_data",
          "data": {
            "text/plain": [
              "<Figure size 640x480 with 1 Axes>"
            ],
            "image/png": "[encoded data removed]"
          },
          "metadata": {}
        }
      ],
      "source": [
        "ax = sns.scatterplot(x= 'EmpSatisfaction', y= 'Salary', data= df, hue= 'Sex')\n",
        "plt.show()"
      ]
    },
    {
      "cell_type": "code",
      "execution_count": 718,
      "metadata": {
        "id": "XMZy-s9S5S55"
      },
      "outputs": [],
      "source": [
        "# Is the avarage salary higher for men or women?\n",
        "# What do all the highest paid workers have in common?"
      ]
    },
    {
      "cell_type": "code",
      "execution_count": 719,
      "metadata": {
        "colab": {
          "base_uri": "https://localhost:8080/",
          "height": 449
        },
        "id": "cF-BnGMUgWqQ",
        "outputId": "6571891d-acbc-4284-c530-bb4bb1c5f35f"
      },
      "outputs": [
        {
          "output_type": "display_data",
          "data": {
            "text/plain": [
              "<Figure size 640x480 with 1 Axes>"
            ],
            "image/png": "[encoded data removed]"
          },
          "metadata": {}
        }
      ],
      "source": [
        "ax = sns.countplot(x='EmpSatisfaction', data=df)\n",
        "ax.bar_label(ax.containers[0])\n",
        "ax.set(xlabel='Employee Satisfaction', ylabel=None, yticks=[])\n",
        "plt.show()"
      ]
    },
    {
      "cell_type": "code",
      "execution_count": 720,
      "metadata": {
        "id": "vuZYNHz36Low"
      },
      "outputs": [],
      "source": [
        "# What do all 5 star satisfied workers have in common?\n",
        "# What does it look like between the sexes?"
      ]
    },
    {
      "cell_type": "code",
      "execution_count": 721,
      "metadata": {
        "colab": {
          "base_uri": "https://localhost:8080/",
          "height": 449
        },
        "id": "tDl6I0Yv5A5m",
        "outputId": "9e6c231c-642f-4c25-bbf1-ead94cfaf7fb"
      },
      "outputs": [
        {
          "output_type": "display_data",
          "data": {
            "text/plain": [
              "<Figure size 640x480 with 1 Axes>"
            ],
            "image/png": "[encoded data removed]"
          },
          "metadata": {}
        }
      ],
      "source": [
        "ax = sns.countplot(x='PerformanceScore', data=df)\n",
        "ax.bar_label(ax.containers[0])\n",
        "ax.set(xlabel='Performance Score', ylabel=None, yticks=[])\n",
        "plt.show()"
      ]
    },
    {
      "cell_type": "code",
      "execution_count": 722,
      "metadata": {
        "id": "vJLrB1D36Rag"
      },
      "outputs": [],
      "source": [
        "# What do all workers who are exceeding in their work have in common?\n",
        "# What does it look like between the sexes?"
      ]
    },
    {
      "cell_type": "code",
      "execution_count": 723,
      "metadata": {
        "colab": {
          "base_uri": "https://localhost:8080/",
          "height": 449
        },
        "id": "JSoOH6ghbuvz",
        "outputId": "6b46ec0f-d4d7-45c0-f611-e8d1e80ff576"
      },
      "outputs": [
        {
          "output_type": "display_data",
          "data": {
            "text/plain": [
              "<Figure size 640x480 with 1 Axes>"
            ],
            "image/png": "[encoded data removed]"
          },
          "metadata": {}
        }
      ],
      "source": [
        "ax = sns.boxplot(x=\"HispanicLatino\", y=\"Salary\", hue=\"Sex\", data=df)\n",
        "ax.set(xlabel='Hispanic Latino')\n",
        "plt.legend(loc='right')\n",
        "plt.show()"
      ]
    },
    {
      "cell_type": "code",
      "source": [
        "df_without_executive_office = df[df['Department'] != 'Executive Office']\n",
        "df_without_executive_office.Department.value_counts()"
      ],
      "metadata": {
        "colab": {
          "base_uri": "https://localhost:8080/"
        },
        "id": "4myGwDxjj56x",
        "outputId": "1eb6615f-9fcd-4f24-ee06-7aea9cbe6a66"
      },
      "execution_count": 724,
      "outputs": [
        {
          "output_type": "execute_result",
          "data": {
            "text/plain": [
              "Production              209\n",
              "IT/IS                    50\n",
              "Sales                    31\n",
              "Software Engineering     11\n",
              "Admin Offices             9\n",
              "Name: Department, dtype: int64"
            ]
          },
          "metadata": {},
          "execution_count": 724
        }
      ]
    },
    {
      "cell_type": "code",
      "execution_count": 725,
      "metadata": {
        "colab": {
          "base_uri": "https://localhost:8080/",
          "height": 449
        },
        "id": "V0uGCmX0siLQ",
        "outputId": "ca8c86a3-c502-4e50-ba88-46b17a25783f"
      },
      "outputs": [
        {
          "output_type": "display_data",
          "data": {
            "text/plain": [
              "<Figure size 640x480 with 1 Axes>"
            ],
            "image/png": "[encoded data removed]"
          },
          "metadata": {}
        }
      ],
      "source": [
        "df_without_executive_office = df[df['Department'] != 'Executive Office']\n",
        "ax = sns.boxplot(x=\"Department\", y=\"Salary\", data=df_without_executive_office)\n",
        "ax.set_xticklabels(['Production', 'IT/IS', 'SWE', 'Admin Offices','Sales'])\n",
        "plt.show()"
      ]
    },
    {
      "cell_type": "code",
      "execution_count": 726,
      "metadata": {
        "colab": {
          "base_uri": "https://localhost:8080/",
          "height": 449
        },
        "id": "oQeq7brkxrVH",
        "outputId": "3fa33b57-a85d-4ee5-b672-86184802bec8"
      },
      "outputs": [
        {
          "output_type": "display_data",
          "data": {
            "text/plain": [
              "<Figure size 640x480 with 1 Axes>"
            ],
            "image/png": "[encoded data removed]"
          },
          "metadata": {}
        }
      ],
      "source": [
        "ax = sns.boxplot(x=\"HispanicLatino\", y=\"Salary\", data=df)\n",
        "plt.show()"
      ]
    },
    {
      "cell_type": "code",
      "execution_count": 727,
      "metadata": {
        "colab": {
          "base_uri": "https://localhost:8080/",
          "height": 449
        },
        "id": "qGWRxMQCyLjW",
        "outputId": "7dd84d90-0675-44bb-a52c-a7ff2f853452"
      },
      "outputs": [
        {
          "output_type": "display_data",
          "data": {
            "text/plain": [
              "<Figure size 640x480 with 1 Axes>"
            ],
            "image/png": "[encoded data removed]"
          },
          "metadata": {}
        }
      ],
      "source": [
        "ax = sns.boxplot(x=\"RecruitmentSource\", y=\"Salary\", data=df)\n",
        "ax.set_xticklabels(['LinkedIn', 'Indeed', 'Google Search',\n",
        "                    'Emp. Referal', 'Div. Job Fair', 'Web application',\n",
        "                    'CareerBuilder', 'Website', 'Other'])\n",
        "plt.show()"
      ]
    },
    {
      "cell_type": "code",
      "source": [
        "# Men have a slightly higher average salary. All information in this box plot can be shown via:"
      ],
      "metadata": {
        "id": "UynkV40pXDPA"
      },
      "execution_count": 728,
      "outputs": []
    },
    {
      "cell_type": "code",
      "execution_count": 729,
      "metadata": {
        "colab": {
          "base_uri": "https://localhost:8080/",
          "height": 143
        },
        "id": "2hYCtJXxn0G_",
        "outputId": "1b150c2d-05e5-4326-8e61-503b33370689"
      },
      "outputs": [
        {
          "output_type": "execute_result",
          "data": {
            "text/plain": [
              "     count          mean           std      min      25%      50%       75%  \\\n",
              "Sex                                                                           \n",
              "F    176.0  67786.727273  25805.669834  45046.0  55397.5  62066.5  68238.25   \n",
              "M    135.0  70629.400000  24285.293173  45115.0  55650.0  63353.0  75655.00   \n",
              "\n",
              "          max  \n",
              "Sex            \n",
              "F    250000.0  \n",
              "M    178000.0  "
            ],
            "text/html": [
              "\n",
              "  <div id=\"df-fc2b82b7-036f-4610-bfa1-5b49f71677c9\" class=\"colab-df-container\">\n",
              "    <div>\n",
              "<style scoped>\n",
              "    .dataframe tbody tr th:only-of-type {\n",
              "        vertical-align: middle;\n",
              "    }\n",
              "\n",
              "    .dataframe tbody tr th {\n",
              "        vertical-align: top;\n",
              "    }\n",
              "\n",
              "    .dataframe thead th {\n",
              "        text-align: right;\n",
              "    }\n",
              "</style>\n",
              "<table border=\"1\" class=\"dataframe\">\n",
              "  <thead>\n",
              "    <tr style=\"text-align: right;\">\n",
              "      <th></th>\n",
              "      <th>count</th>\n",
              "      <th>mean</th>\n",
              "      <th>std</th>\n",
              "      <th>min</th>\n",
              "      <th>25%</th>\n",
              "      <th>50%</th>\n",
              "      <th>75%</th>\n",
              "      <th>max</th>\n",
              "    </tr>\n",
              "    <tr>\n",
              "      <th>Sex</th>\n",
              "      <th></th>\n",
              "      <th></th>\n",
              "      <th></th>\n",
              "      <th></th>\n",
              "      <th></th>\n",
              "      <th></th>\n",
              "      <th></th>\n",
              "      <th></th>\n",
              "    </tr>\n",
              "  </thead>\n",
              "  <tbody>\n",
              "    <tr>\n",
              "      <th>F</th>\n",
              "      <td>176.0</td>\n",
              "      <td>67786.727273</td>\n",
              "      <td>25805.669834</td>\n",
              "      <td>45046.0</td>\n",
              "      <td>55397.5</td>\n",
              "      <td>62066.5</td>\n",
              "      <td>68238.25</td>\n",
              "      <td>250000.0</td>\n",
              "    </tr>\n",
              "    <tr>\n",
              "      <th>M</th>\n",
              "      <td>135.0</td>\n",
              "      <td>70629.400000</td>\n",
              "      <td>24285.293173</td>\n",
              "      <td>45115.0</td>\n",
              "      <td>55650.0</td>\n",
              "      <td>63353.0</td>\n",
              "      <td>75655.00</td>\n",
              "      <td>178000.0</td>\n",
              "    </tr>\n",
              "  </tbody>\n",
              "</table>\n",
              "</div>\n",
              "    <div class=\"colab-df-buttons\">\n",
              "\n",
              "  <div class=\"colab-df-container\">\n",
              "    <button class=\"colab-df-convert\" onclick=\"convertToInteractive('df-fc2b82b7-036f-4610-bfa1-5b49f71677c9')\"\n",
              "            title=\"Convert this dataframe to an interactive table.\"\n",
              "            style=\"display:none;\">\n",
              "\n",
              "  <svg xmlns=\"http://www.w3.org/2000/svg\" height=\"24px\" viewBox=\"0 -960 960 960\">\n",
              "    <path d=\"M120-120v-720h720v720H120Zm60-500h600v-160H180v160Zm220 220h160v-160H400v160Zm0 220h160v-160H400v160ZM180-400h160v-160H180v160Zm440 0h160v-160H620v160ZM180-180h160v-160H180v160Zm440 0h160v-160H620v160Z\"/>\n",
              "  </svg>\n",
              "    </button>\n",
              "\n",
              "  <style>\n",
              "    .colab-df-container {\n",
              "      display:flex;\n",
              "      gap: 12px;\n",
              "    }\n",
              "\n",
              "    .colab-df-convert {\n",
              "      background-color: #E8F0FE;\n",
              "      border: none;\n",
              "      border-radius: 50%;\n",
              "      cursor: pointer;\n",
              "      display: none;\n",
              "      fill: #1967D2;\n",
              "      height: 32px;\n",
              "      padding: 0 0 0 0;\n",
              "      width: 32px;\n",
              "    }\n",
              "\n",
              "    .colab-df-convert:hover {\n",
              "      background-color: #E2EBFA;\n",
              "      box-shadow: 0px 1px 2px rgba(60, 64, 67, 0.3), 0px 1px 3px 1px rgba(60, 64, 67, 0.15);\n",
              "      fill: #174EA6;\n",
              "    }\n",
              "\n",
              "    .colab-df-buttons div {\n",
              "      margin-bottom: 4px;\n",
              "    }\n",
              "\n",
              "    [theme=dark] .colab-df-convert {\n",
              "      background-color: #3B4455;\n",
              "      fill: #D2E3FC;\n",
              "    }\n",
              "\n",
              "    [theme=dark] .colab-df-convert:hover {\n",
              "      background-color: #434B5C;\n",
              "      box-shadow: 0px 1px 3px 1px rgba(0, 0, 0, 0.15);\n",
              "      filter: drop-shadow(0px 1px 2px rgba(0, 0, 0, 0.3));\n",
              "      fill: #FFFFFF;\n",
              "    }\n",
              "  </style>\n",
              "\n",
              "    <script>\n",
              "      const buttonEl =\n",
              "        document.querySelector('#df-fc2b82b7-036f-4610-bfa1-5b49f71677c9 button.colab-df-convert');\n",
              "      buttonEl.style.display =\n",
              "        google.colab.kernel.accessAllowed ? 'block' : 'none';\n",
              "\n",
              "      async function convertToInteractive(key) {\n",
              "        const element = document.querySelector('#df-fc2b82b7-036f-4610-bfa1-5b49f71677c9');\n",
              "        const dataTable =\n",
              "          await google.colab.kernel.invokeFunction('convertToInteractive',\n",
              "                                                    [key], {});\n",
              "        if (!dataTable) return;\n",
              "\n",
              "        const docLinkHtml = 'Like what you see? Visit the ' +\n",
              "          '<a target=\"_blank\" href=https://colab.research.google.com/notebooks/data_table.ipynb>data table notebook</a>'\n",
              "          + ' to learn more about interactive tables.';\n",
              "        element.innerHTML = '';\n",
              "        dataTable['output_type'] = 'display_data';\n",
              "        await google.colab.output.renderOutput(dataTable, element);\n",
              "        const docLink = document.createElement('div');\n",
              "        docLink.innerHTML = docLinkHtml;\n",
              "        element.appendChild(docLink);\n",
              "      }\n",
              "    </script>\n",
              "  </div>\n",
              "\n",
              "\n",
              "<div id=\"df-8dd32eca-b771-4281-ac5d-63dc32304ae6\">\n",
              "  <button class=\"colab-df-quickchart\" onclick=\"quickchart('df-8dd32eca-b771-4281-ac5d-63dc32304ae6')\"\n",
              "            title=\"Suggest charts\"\n",
              "            style=\"display:none;\">\n",
              "\n",
              "<svg xmlns=\"http://www.w3.org/2000/svg\" height=\"24px\"viewBox=\"0 0 24 24\"\n",
              "     width=\"24px\">\n",
              "    <g>\n",
              "        <path d=\"M19 3H5c-1.1 0-2 .9-2 2v14c0 1.1.9 2 2 2h14c1.1 0 2-.9 2-2V5c0-1.1-.9-2-2-2zM9 17H7v-7h2v7zm4 0h-2V7h2v10zm4 0h-2v-4h2v4z\"/>\n",
              "    </g>\n",
              "</svg>\n",
              "  </button>\n",
              "\n",
              "<style>\n",
              "  .colab-df-quickchart {\n",
              "      --bg-color: #E8F0FE;\n",
              "      --fill-color: #1967D2;\n",
              "      --hover-bg-color: #E2EBFA;\n",
              "      --hover-fill-color: #174EA6;\n",
              "      --disabled-fill-color: #AAA;\n",
              "      --disabled-bg-color: #DDD;\n",
              "  }\n",
              "\n",
              "  [theme=dark] .colab-df-quickchart {\n",
              "      --bg-color: #3B4455;\n",
              "      --fill-color: #D2E3FC;\n",
              "      --hover-bg-color: #434B5C;\n",
              "      --hover-fill-color: #FFFFFF;\n",
              "      --disabled-bg-color: #3B4455;\n",
              "      --disabled-fill-color: #666;\n",
              "  }\n",
              "\n",
              "  .colab-df-quickchart {\n",
              "    background-color: var(--bg-color);\n",
              "    border: none;\n",
              "    border-radius: 50%;\n",
              "    cursor: pointer;\n",
              "    display: none;\n",
              "    fill: var(--fill-color);\n",
              "    height: 32px;\n",
              "    padding: 0;\n",
              "    width: 32px;\n",
              "  }\n",
              "\n",
              "  .colab-df-quickchart:hover {\n",
              "    background-color: var(--hover-bg-color);\n",
              "    box-shadow: 0 1px 2px rgba(60, 64, 67, 0.3), 0 1px 3px 1px rgba(60, 64, 67, 0.15);\n",
              "    fill: var(--button-hover-fill-color);\n",
              "  }\n",
              "\n",
              "  .colab-df-quickchart-complete:disabled,\n",
              "  .colab-df-quickchart-complete:disabled:hover {\n",
              "    background-color: var(--disabled-bg-color);\n",
              "    fill: var(--disabled-fill-color);\n",
              "    box-shadow: none;\n",
              "  }\n",
              "\n",
              "  .colab-df-spinner {\n",
              "    border: 2px solid var(--fill-color);\n",
              "    border-color: transparent;\n",
              "    border-bottom-color: var(--fill-color);\n",
              "    animation:\n",
              "      spin 1s steps(1) infinite;\n",
              "  }\n",
              "\n",
              "  @keyframes spin {\n",
              "    0% {\n",
              "      border-color: transparent;\n",
              "      border-bottom-color: var(--fill-color);\n",
              "      border-left-color: var(--fill-color);\n",
              "    }\n",
              "    20% {\n",
              "      border-color: transparent;\n",
              "      border-left-color: var(--fill-color);\n",
              "      border-top-color: var(--fill-color);\n",
              "    }\n",
              "    30% {\n",
              "      border-color: transparent;\n",
              "      border-left-color: var(--fill-color);\n",
              "      border-top-color: var(--fill-color);\n",
              "      border-right-color: var(--fill-color);\n",
              "    }\n",
              "    40% {\n",
              "      border-color: transparent;\n",
              "      border-right-color: var(--fill-color);\n",
              "      border-top-color: var(--fill-color);\n",
              "    }\n",
              "    60% {\n",
              "      border-color: transparent;\n",
              "      border-right-color: var(--fill-color);\n",
              "    }\n",
              "    80% {\n",
              "      border-color: transparent;\n",
              "      border-right-color: var(--fill-color);\n",
              "      border-bottom-color: var(--fill-color);\n",
              "    }\n",
              "    90% {\n",
              "      border-color: transparent;\n",
              "      border-bottom-color: var(--fill-color);\n",
              "    }\n",
              "  }\n",
              "</style>\n",
              "\n",
              "  <script>\n",
              "    async function quickchart(key) {\n",
              "      const quickchartButtonEl =\n",
              "        document.querySelector('#' + key + ' button');\n",
              "      quickchartButtonEl.disabled = true;  // To prevent multiple clicks.\n",
              "      quickchartButtonEl.classList.add('colab-df-spinner');\n",
              "      try {\n",
              "        const charts = await google.colab.kernel.invokeFunction(\n",
              "            'suggestCharts', [key], {});\n",
              "      } catch (error) {\n",
              "        console.error('Error during call to suggestCharts:', error);\n",
              "      }\n",
              "      quickchartButtonEl.classList.remove('colab-df-spinner');\n",
              "      quickchartButtonEl.classList.add('colab-df-quickchart-complete');\n",
              "    }\n",
              "    (() => {\n",
              "      let quickchartButtonEl =\n",
              "        document.querySelector('#df-8dd32eca-b771-4281-ac5d-63dc32304ae6 button');\n",
              "      quickchartButtonEl.style.display =\n",
              "        google.colab.kernel.accessAllowed ? 'block' : 'none';\n",
              "    })();\n",
              "  </script>\n",
              "</div>\n",
              "    </div>\n",
              "  </div>\n"
            ]
          },
          "metadata": {},
          "execution_count": 729
        }
      ],
      "source": [
        "grouped_by_gender = df.groupby(\"Sex\")\n",
        "grouped_by_gender[\"Salary\"].describe()"
      ]
    },
    {
      "cell_type": "code",
      "execution_count": 730,
      "metadata": {
        "id": "R7rStbcqzTbX"
      },
      "outputs": [],
      "source": [
        "# The President and CEO is a female!\n",
        "# Plot this with plotly express?"
      ]
    },
    {
      "cell_type": "code",
      "source": [
        "high_earners = df[df['Salary'] > 120000]"
      ],
      "metadata": {
        "id": "Ys6mc5Tmk6GV"
      },
      "execution_count": 731,
      "outputs": []
    },
    {
      "cell_type": "code",
      "source": [
        "high_earners.info()"
      ],
      "metadata": {
        "colab": {
          "base_uri": "https://localhost:8080/"
        },
        "id": "1NTQFpMTYdvo",
        "outputId": "2a6ab123-63b2-4e1f-c835-797e396739d3"
      },
      "execution_count": 732,
      "outputs": [
        {
          "output_type": "stream",
          "name": "stdout",
          "text": [
            "<class 'pandas.core.frame.DataFrame'>\n",
            "Int64Index: 10 entries, 55 to 308\n",
            "Data columns (total 17 columns):\n",
            " #   Column                      Non-Null Count  Dtype         \n",
            "---  ------                      --------------  -----         \n",
            " 0   Salary                      10 non-null     int64         \n",
            " 1   Position                    10 non-null     object        \n",
            " 2   DOB                         10 non-null     datetime64[ns]\n",
            " 3   Sex                         10 non-null     object        \n",
            " 4   MaritalDesc                 10 non-null     object        \n",
            " 5   CitizenDesc                 10 non-null     object        \n",
            " 6   HispanicLatino              10 non-null     object        \n",
            " 7   DateofHire                  10 non-null     datetime64[ns]\n",
            " 8   TermReason                  10 non-null     object        \n",
            " 9   Department                  10 non-null     object        \n",
            " 10  RecruitmentSource           10 non-null     object        \n",
            " 11  PerformanceScore            10 non-null     object        \n",
            " 12  EmpSatisfaction             10 non-null     int64         \n",
            " 13  SpecialProjectsCount        10 non-null     int64         \n",
            " 14  LastPerformanceReview_Date  10 non-null     datetime64[ns]\n",
            " 15  DaysLateLast30              10 non-null     int64         \n",
            " 16  Absences                    10 non-null     int64         \n",
            "dtypes: datetime64[ns](3), int64(5), object(9)\n",
            "memory usage: 1.4+ KB\n"
          ]
        }
      ]
    },
    {
      "cell_type": "code",
      "source": [
        "fig = px.sunburst(high_earners,\n",
        "                  path=['Sex', 'MaritalDesc',\n",
        "                        'RecruitmentSource', 'Department'],\n",
        "                  width=700, height=600)\n",
        "fig.update_traces(textinfo=\"label+value\")\n",
        "fig.show()"
      ],
      "metadata": {
        "colab": {
          "base_uri": "https://localhost:8080/",
          "height": 617
        },
        "id": "lJFjS3pGprvn",
        "outputId": "7deb26e8-cd5a-4de6-d191-31eb0b473347"
      },
      "execution_count": 733,
      "outputs": [
        {
          "output_type": "display_data",
          "data": {
            "text/html": [
              "<html>\n",
              "<head><meta charset=\"utf-8\" /></head>\n",
              "<body>\n",
              "    <div>            <script src=\"https://cdnjs.cloudflare.com/ajax/libs/mathjax/2.7.5/MathJax.js?config=TeX-AMS-MML_SVG\"></script><script type=\"text/javascript\">if (window.MathJax && window.MathJax.Hub && window.MathJax.Hub.Config) {window.MathJax.Hub.Config({SVG: {font: \"STIX-Web\"}});}</script>                <script type=\"text/javascript\">window.PlotlyConfig = {MathJaxConfig: 'local'};</script>\n",
              "        <script charset=\"utf-8\" src=\"https://cdn.plot.ly/plotly-2.24.1.min.js\"></script>                <div id=\"48c27a1f-2d4b-4bc8-bdcb-2470e8878734\" class=\"plotly-graph-div\" style=\"height:600px; width:700px;\"></div>            <script type=\"text/javascript\">                                    window.PLOTLYENV=window.PLOTLYENV || {};                                    if (document.getElementById(\"48c27a1f-2d4b-4bc8-bdcb-2470e8878734\")) {                    Plotly.newPlot(                        \"48c27a1f-2d4b-4bc8-bdcb-2470e8878734\",                        [{\"branchvalues\":\"total\",\"domain\":{\"x\":[0.0,1.0],\"y\":[0.0,1.0]},\"hovertemplate\":\"labels=%{label}\\u003cbr\\u003ecount=%{value}\\u003cbr\\u003eparent=%{parent}\\u003cbr\\u003eid=%{id}\\u003cextra\\u003e\\u003c\\u002fextra\\u003e\",\"ids\":[\"F\\u002fMarried\\u002fIndeed\\u002fExecutive Office\",\"M \\u002fDivorced\\u002fDiversity Job Fair\\u002fIT\\u002fIS\",\"M \\u002fMarried\\u002fDiversity Job Fair\\u002fIT\\u002fIS\",\"F\\u002fSingle\\u002fEmployee Referral\\u002fIT\\u002fIS\",\"F\\u002fSingle\\u002fIndeed\\u002fIT\\u002fIS\",\"M \\u002fSingle\\u002fIndeed\\u002fIT\\u002fIS\",\"M \\u002fSingle\\u002fIndeed\\u002fProduction       \",\"F\\u002fMarried\\u002fLinkedIn\\u002fSales\",\"M \\u002fDivorced\\u002fDiversity Job Fair\",\"M \\u002fMarried\\u002fDiversity Job Fair\",\"F\\u002fSingle\\u002fEmployee Referral\",\"F\\u002fMarried\\u002fIndeed\",\"F\\u002fSingle\\u002fIndeed\",\"M \\u002fSingle\\u002fIndeed\",\"F\\u002fMarried\\u002fLinkedIn\",\"M \\u002fDivorced\",\"F\\u002fMarried\",\"M \\u002fMarried\",\"F\\u002fSingle\",\"M \\u002fSingle\",\"F\",\"M \"],\"labels\":[\"Executive Office\",\"IT\\u002fIS\",\"IT\\u002fIS\",\"IT\\u002fIS\",\"IT\\u002fIS\",\"IT\\u002fIS\",\"Production       \",\"Sales\",\"Diversity Job Fair\",\"Diversity Job Fair\",\"Employee Referral\",\"Indeed\",\"Indeed\",\"Indeed\",\"LinkedIn\",\"Divorced\",\"Married\",\"Married\",\"Single\",\"Single\",\"F\",\"M \"],\"name\":\"\",\"parents\":[\"F\\u002fMarried\\u002fIndeed\",\"M \\u002fDivorced\\u002fDiversity Job Fair\",\"M \\u002fMarried\\u002fDiversity Job Fair\",\"F\\u002fSingle\\u002fEmployee Referral\",\"F\\u002fSingle\\u002fIndeed\",\"M \\u002fSingle\\u002fIndeed\",\"M \\u002fSingle\\u002fIndeed\",\"F\\u002fMarried\\u002fLinkedIn\",\"M \\u002fDivorced\",\"M \\u002fMarried\",\"F\\u002fSingle\",\"F\\u002fMarried\",\"F\\u002fSingle\",\"M \\u002fSingle\",\"F\\u002fMarried\",\"M \",\"F\",\"M \",\"F\",\"M \",\"\",\"\"],\"values\":[1,1,1,1,1,3,1,1,1,1,1,1,1,4,1,1,2,1,2,4,4,6],\"type\":\"sunburst\",\"textinfo\":\"label+value\"}],                        {\"template\":{\"data\":{\"histogram2dcontour\":[{\"type\":\"histogram2dcontour\",\"colorbar\":{\"outlinewidth\":0,\"ticks\":\"\"},\"colorscale\":[[0.0,\"#0d0887\"],[0.1111111111111111,\"#46039f\"],[0.2222222222222222,\"#7201a8\"],[0.3333333333333333,\"#9c179e\"],[0.4444444444444444,\"#bd3786\"],[0.5555555555555556,\"#d8576b\"],[0.6666666666666666,\"#ed7953\"],[0.7777777777777778,\"#fb9f3a\"],[0.8888888888888888,\"#fdca26\"],[1.0,\"#f0f921\"]]}],\"choropleth\":[{\"type\":\"choropleth\",\"colorbar\":{\"outlinewidth\":0,\"ticks\":\"\"}}],\"histogram2d\":[{\"type\":\"histogram2d\",\"colorbar\":{\"outlinewidth\":0,\"ticks\":\"\"},\"colorscale\":[[0.0,\"#0d0887\"],[0.1111111111111111,\"#46039f\"],[0.2222222222222222,\"#7201a8\"],[0.3333333333333333,\"#9c179e\"],[0.4444444444444444,\"#bd3786\"],[0.5555555555555556,\"#d8576b\"],[0.6666666666666666,\"#ed7953\"],[0.7777777777777778,\"#fb9f3a\"],[0.8888888888888888,\"#fdca26\"],[1.0,\"#f0f921\"]]}],\"heatmap\":[{\"type\":\"heatmap\",\"colorbar\":{\"outlinewidth\":0,\"ticks\":\"\"},\"colorscale\":[[0.0,\"#0d0887\"],[0.1111111111111111,\"#46039f\"],[0.2222222222222222,\"#7201a8\"],[0.3333333333333333,\"#9c179e\"],[0.4444444444444444,\"#bd3786\"],[0.5555555555555556,\"#d8576b\"],[0.6666666666666666,\"#ed7953\"],[0.7777777777777778,\"#fb9f3a\"],[0.8888888888888888,\"#fdca26\"],[1.0,\"#f0f921\"]]}],\"heatmapgl\":[{\"type\":\"heatmapgl\",\"colorbar\":{\"outlinewidth\":0,\"ticks\":\"\"},\"colorscale\":[[0.0,\"#0d0887\"],[0.1111111111111111,\"#46039f\"],[0.2222222222222222,\"#7201a8\"],[0.3333333333333333,\"#9c179e\"],[0.4444444444444444,\"#bd3786\"],[0.5555555555555556,\"#d8576b\"],[0.6666666666666666,\"#ed7953\"],[0.7777777777777778,\"#fb9f3a\"],[0.8888888888888888,\"#fdca26\"],[1.0,\"#f0f921\"]]}],\"contourcarpet\":[{\"type\":\"contourcarpet\",\"colorbar\":{\"outlinewidth\":0,\"ticks\":\"\"}}],\"contour\":[{\"type\":\"contour\",\"colorbar\":{\"outlinewidth\":0,\"ticks\":\"\"},\"colorscale\":[[0.0,\"#0d0887\"],[0.1111111111111111,\"#46039f\"],[0.2222222222222222,\"#7201a8\"],[0.3333333333333333,\"#9c179e\"],[0.4444444444444444,\"#bd3786\"],[0.5555555555555556,\"#d8576b\"],[0.6666666666666666,\"#ed7953\"],[0.7777777777777778,\"#fb9f3a\"],[0.8888888888888888,\"#fdca26\"],[1.0,\"#f0f921\"]]}],\"surface\":[{\"type\":\"surface\",\"colorbar\":{\"outlinewidth\":0,\"ticks\":\"\"},\"colorscale\":[[0.0,\"#0d0887\"],[0.1111111111111111,\"#46039f\"],[0.2222222222222222,\"#7201a8\"],[0.3333333333333333,\"#9c179e\"],[0.4444444444444444,\"#bd3786\"],[0.5555555555555556,\"#d8576b\"],[0.6666666666666666,\"#ed7953\"],[0.7777777777777778,\"#fb9f3a\"],[0.8888888888888888,\"#fdca26\"],[1.0,\"#f0f921\"]]}],\"mesh3d\":[{\"type\":\"mesh3d\",\"colorbar\":{\"outlinewidth\":0,\"ticks\":\"\"}}],\"scatter\":[{\"fillpattern\":{\"fillmode\":\"overlay\",\"size\":10,\"solidity\":0.2},\"type\":\"scatter\"}],\"parcoords\":[{\"type\":\"parcoords\",\"line\":{\"colorbar\":{\"outlinewidth\":0,\"ticks\":\"\"}}}],\"scatterpolargl\":[{\"type\":\"scatterpolargl\",\"marker\":{\"colorbar\":{\"outlinewidth\":0,\"ticks\":\"\"}}}],\"bar\":[{\"error_x\":{\"color\":\"#2a3f5f\"},\"error_y\":{\"color\":\"#2a3f5f\"},\"marker\":{\"line\":{\"color\":\"#E5ECF6\",\"width\":0.5},\"pattern\":{\"fillmode\":\"overlay\",\"size\":10,\"solidity\":0.2}},\"type\":\"bar\"}],\"scattergeo\":[{\"type\":\"scattergeo\",\"marker\":{\"colorbar\":{\"outlinewidth\":0,\"ticks\":\"\"}}}],\"scatterpolar\":[{\"type\":\"scatterpolar\",\"marker\":{\"colorbar\":{\"outlinewidth\":0,\"ticks\":\"\"}}}],\"histogram\":[{\"marker\":{\"pattern\":{\"fillmode\":\"overlay\",\"size\":10,\"solidity\":0.2}},\"type\":\"histogram\"}],\"scattergl\":[{\"type\":\"scattergl\",\"marker\":{\"colorbar\":{\"outlinewidth\":0,\"ticks\":\"\"}}}],\"scatter3d\":[{\"type\":\"scatter3d\",\"line\":{\"colorbar\":{\"outlinewidth\":0,\"ticks\":\"\"}},\"marker\":{\"colorbar\":{\"outlinewidth\":0,\"ticks\":\"\"}}}],\"scattermapbox\":[{\"type\":\"scattermapbox\",\"marker\":{\"colorbar\":{\"outlinewidth\":0,\"ticks\":\"\"}}}],\"scatterternary\":[{\"type\":\"scatterternary\",\"marker\":{\"colorbar\":{\"outlinewidth\":0,\"ticks\":\"\"}}}],\"scattercarpet\":[{\"type\":\"scattercarpet\",\"marker\":{\"colorbar\":{\"outlinewidth\":0,\"ticks\":\"\"}}}],\"carpet\":[{\"aaxis\":{\"endlinecolor\":\"#2a3f5f\",\"gridcolor\":\"white\",\"linecolor\":\"white\",\"minorgridcolor\":\"white\",\"startlinecolor\":\"#2a3f5f\"},\"baxis\":{\"endlinecolor\":\"#2a3f5f\",\"gridcolor\":\"white\",\"linecolor\":\"white\",\"minorgridcolor\":\"white\",\"startlinecolor\":\"#2a3f5f\"},\"type\":\"carpet\"}],\"table\":[{\"cells\":{\"fill\":{\"color\":\"#EBF0F8\"},\"line\":{\"color\":\"white\"}},\"header\":{\"fill\":{\"color\":\"#C8D4E3\"},\"line\":{\"color\":\"white\"}},\"type\":\"table\"}],\"barpolar\":[{\"marker\":{\"line\":{\"color\":\"#E5ECF6\",\"width\":0.5},\"pattern\":{\"fillmode\":\"overlay\",\"size\":10,\"solidity\":0.2}},\"type\":\"barpolar\"}],\"pie\":[{\"automargin\":true,\"type\":\"pie\"}]},\"layout\":{\"autotypenumbers\":\"strict\",\"colorway\":[\"#636efa\",\"#EF553B\",\"#00cc96\",\"#ab63fa\",\"#FFA15A\",\"#19d3f3\",\"#FF6692\",\"#B6E880\",\"#FF97FF\",\"#FECB52\"],\"font\":{\"color\":\"#2a3f5f\"},\"hovermode\":\"closest\",\"hoverlabel\":{\"align\":\"left\"},\"paper_bgcolor\":\"white\",\"plot_bgcolor\":\"#E5ECF6\",\"polar\":{\"bgcolor\":\"#E5ECF6\",\"angularaxis\":{\"gridcolor\":\"white\",\"linecolor\":\"white\",\"ticks\":\"\"},\"radialaxis\":{\"gridcolor\":\"white\",\"linecolor\":\"white\",\"ticks\":\"\"}},\"ternary\":{\"bgcolor\":\"#E5ECF6\",\"aaxis\":{\"gridcolor\":\"white\",\"linecolor\":\"white\",\"ticks\":\"\"},\"baxis\":{\"gridcolor\":\"white\",\"linecolor\":\"white\",\"ticks\":\"\"},\"caxis\":{\"gridcolor\":\"white\",\"linecolor\":\"white\",\"ticks\":\"\"}},\"coloraxis\":{\"colorbar\":{\"outlinewidth\":0,\"ticks\":\"\"}},\"colorscale\":{\"sequential\":[[0.0,\"#0d0887\"],[0.1111111111111111,\"#46039f\"],[0.2222222222222222,\"#7201a8\"],[0.3333333333333333,\"#9c179e\"],[0.4444444444444444,\"#bd3786\"],[0.5555555555555556,\"#d8576b\"],[0.6666666666666666,\"#ed7953\"],[0.7777777777777778,\"#fb9f3a\"],[0.8888888888888888,\"#fdca26\"],[1.0,\"#f0f921\"]],\"sequentialminus\":[[0.0,\"#0d0887\"],[0.1111111111111111,\"#46039f\"],[0.2222222222222222,\"#7201a8\"],[0.3333333333333333,\"#9c179e\"],[0.4444444444444444,\"#bd3786\"],[0.5555555555555556,\"#d8576b\"],[0.6666666666666666,\"#ed7953\"],[0.7777777777777778,\"#fb9f3a\"],[0.8888888888888888,\"#fdca26\"],[1.0,\"#f0f921\"]],\"diverging\":[[0,\"#8e0152\"],[0.1,\"#c51b7d\"],[0.2,\"#de77ae\"],[0.3,\"#f1b6da\"],[0.4,\"#fde0ef\"],[0.5,\"#f7f7f7\"],[0.6,\"#e6f5d0\"],[0.7,\"#b8e186\"],[0.8,\"#7fbc41\"],[0.9,\"#4d9221\"],[1,\"#276419\"]]},\"xaxis\":{\"gridcolor\":\"white\",\"linecolor\":\"white\",\"ticks\":\"\",\"title\":{\"standoff\":15},\"zerolinecolor\":\"white\",\"automargin\":true,\"zerolinewidth\":2},\"yaxis\":{\"gridcolor\":\"white\",\"linecolor\":\"white\",\"ticks\":\"\",\"title\":{\"standoff\":15},\"zerolinecolor\":\"white\",\"automargin\":true,\"zerolinewidth\":2},\"scene\":{\"xaxis\":{\"backgroundcolor\":\"#E5ECF6\",\"gridcolor\":\"white\",\"linecolor\":\"white\",\"showbackground\":true,\"ticks\":\"\",\"zerolinecolor\":\"white\",\"gridwidth\":2},\"yaxis\":{\"backgroundcolor\":\"#E5ECF6\",\"gridcolor\":\"white\",\"linecolor\":\"white\",\"showbackground\":true,\"ticks\":\"\",\"zerolinecolor\":\"white\",\"gridwidth\":2},\"zaxis\":{\"backgroundcolor\":\"#E5ECF6\",\"gridcolor\":\"white\",\"linecolor\":\"white\",\"showbackground\":true,\"ticks\":\"\",\"zerolinecolor\":\"white\",\"gridwidth\":2}},\"shapedefaults\":{\"line\":{\"color\":\"#2a3f5f\"}},\"annotationdefaults\":{\"arrowcolor\":\"#2a3f5f\",\"arrowhead\":0,\"arrowwidth\":1},\"geo\":{\"bgcolor\":\"white\",\"landcolor\":\"#E5ECF6\",\"subunitcolor\":\"white\",\"showland\":true,\"showlakes\":true,\"lakecolor\":\"white\"},\"title\":{\"x\":0.05},\"mapbox\":{\"style\":\"light\"}}},\"legend\":{\"tracegroupgap\":0},\"margin\":{\"t\":60},\"height\":600,\"width\":700},                        {\"responsive\": true}                    ).then(function(){\n",
              "                            \n",
              "var gd = document.getElementById('48c27a1f-2d4b-4bc8-bdcb-2470e8878734');\n",
              "var x = new MutationObserver(function (mutations, observer) {{\n",
              "        var display = window.getComputedStyle(gd).display;\n",
              "        if (!display || display === 'none') {{\n",
              "            console.log([gd, 'removed!']);\n",
              "            Plotly.purge(gd);\n",
              "            observer.disconnect();\n",
              "        }}\n",
              "}});\n",
              "\n",
              "// Listen for the removal of the full notebook cells\n",
              "var notebookContainer = gd.closest('#notebook-container');\n",
              "if (notebookContainer) {{\n",
              "    x.observe(notebookContainer, {childList: true});\n",
              "}}\n",
              "\n",
              "// Listen for the clearing of the current output cell\n",
              "var outputEl = gd.closest('.output');\n",
              "if (outputEl) {{\n",
              "    x.observe(outputEl, {childList: true});\n",
              "}}\n",
              "\n",
              "                        })                };                            </script>        </div>\n",
              "</body>\n",
              "</html>"
            ]
          },
          "metadata": {}
        }
      ]
    },
    {
      "cell_type": "code",
      "source": [
        "# This is super interesting!! From the 10 highest paid people at the company we can see that:\n",
        "# Not a single software engineer! The majority of these people are in IT/IS\n",
        "# The CEO of the company is not only female and hispanic latino, she is also married!\n",
        "# The 4 single males have all also been recruited through Indeed! The rest are\n",
        "# from the diversity job fair"
      ],
      "metadata": {
        "id": "Vnb9RCl3qClx"
      },
      "execution_count": 734,
      "outputs": []
    },
    {
      "cell_type": "code",
      "source": [
        "high_earners[high_earners['DOB'] > '2000-01-01']\n",
        "# The following two people won't be shown in the plot below"
      ],
      "metadata": {
        "colab": {
          "base_uri": "https://localhost:8080/",
          "height": 166
        },
        "id": "Aj3XcLoRiolA",
        "outputId": "852a81c8-a8ee-4b78-c94f-f7027f1c5d6b"
      },
      "execution_count": 735,
      "outputs": [
        {
          "output_type": "execute_result",
          "data": {
            "text/plain": [
              "     Salary           Position        DOB Sex MaritalDesc CitizenDesc  \\\n",
              "131  180000  Director of Sales 2066-03-17   F     Married  US Citizen   \n",
              "240  150290     Data Architect 2072-11-21   F      Single  US Citizen   \n",
              "\n",
              "    HispanicLatino DateofHire         TermReason Department RecruitmentSource  \\\n",
              "131             No 2014-05-05  N/A-StillEmployed      Sales          LinkedIn   \n",
              "240             No 2017-07-01  N/A-StillEmployed      IT/IS            Indeed   \n",
              "\n",
              "    PerformanceScore  EmpSatisfaction  SpecialProjectsCount  \\\n",
              "131      Fully Meets                4                     0   \n",
              "240      Fully Meets                3                     5   \n",
              "\n",
              "    LastPerformanceReview_Date  DaysLateLast30  Absences  \n",
              "131                 2019-01-21               0        19  \n",
              "240                 2019-06-02               0        17  "
            ],
            "text/html": [
              "\n",
              "  <div id=\"df-c71674c0-79a6-4aca-ad35-3feaa862ae5c\" class=\"colab-df-container\">\n",
              "    <div>\n",
              "<style scoped>\n",
              "    .dataframe tbody tr th:only-of-type {\n",
              "        vertical-align: middle;\n",
              "    }\n",
              "\n",
              "    .dataframe tbody tr th {\n",
              "        vertical-align: top;\n",
              "    }\n",
              "\n",
              "    .dataframe thead th {\n",
              "        text-align: right;\n",
              "    }\n",
              "</style>\n",
              "<table border=\"1\" class=\"dataframe\">\n",
              "  <thead>\n",
              "    <tr style=\"text-align: right;\">\n",
              "      <th></th>\n",
              "      <th>Salary</th>\n",
              "      <th>Position</th>\n",
              "      <th>DOB</th>\n",
              "      <th>Sex</th>\n",
              "      <th>MaritalDesc</th>\n",
              "      <th>CitizenDesc</th>\n",
              "      <th>HispanicLatino</th>\n",
              "      <th>DateofHire</th>\n",
              "      <th>TermReason</th>\n",
              "      <th>Department</th>\n",
              "      <th>RecruitmentSource</th>\n",
              "      <th>PerformanceScore</th>\n",
              "      <th>EmpSatisfaction</th>\n",
              "      <th>SpecialProjectsCount</th>\n",
              "      <th>LastPerformanceReview_Date</th>\n",
              "      <th>DaysLateLast30</th>\n",
              "      <th>Absences</th>\n",
              "    </tr>\n",
              "  </thead>\n",
              "  <tbody>\n",
              "    <tr>\n",
              "      <th>131</th>\n",
              "      <td>180000</td>\n",
              "      <td>Director of Sales</td>\n",
              "      <td>2066-03-17</td>\n",
              "      <td>F</td>\n",
              "      <td>Married</td>\n",
              "      <td>US Citizen</td>\n",
              "      <td>No</td>\n",
              "      <td>2014-05-05</td>\n",
              "      <td>N/A-StillEmployed</td>\n",
              "      <td>Sales</td>\n",
              "      <td>LinkedIn</td>\n",
              "      <td>Fully Meets</td>\n",
              "      <td>4</td>\n",
              "      <td>0</td>\n",
              "      <td>2019-01-21</td>\n",
              "      <td>0</td>\n",
              "      <td>19</td>\n",
              "    </tr>\n",
              "    <tr>\n",
              "      <th>240</th>\n",
              "      <td>150290</td>\n",
              "      <td>Data Architect</td>\n",
              "      <td>2072-11-21</td>\n",
              "      <td>F</td>\n",
              "      <td>Single</td>\n",
              "      <td>US Citizen</td>\n",
              "      <td>No</td>\n",
              "      <td>2017-07-01</td>\n",
              "      <td>N/A-StillEmployed</td>\n",
              "      <td>IT/IS</td>\n",
              "      <td>Indeed</td>\n",
              "      <td>Fully Meets</td>\n",
              "      <td>3</td>\n",
              "      <td>5</td>\n",
              "      <td>2019-06-02</td>\n",
              "      <td>0</td>\n",
              "      <td>17</td>\n",
              "    </tr>\n",
              "  </tbody>\n",
              "</table>\n",
              "</div>\n",
              "    <div class=\"colab-df-buttons\">\n",
              "\n",
              "  <div class=\"colab-df-container\">\n",
              "    <button class=\"colab-df-convert\" onclick=\"convertToInteractive('df-c71674c0-79a6-4aca-ad35-3feaa862ae5c')\"\n",
              "            title=\"Convert this dataframe to an interactive table.\"\n",
              "            style=\"display:none;\">\n",
              "\n",
              "  <svg xmlns=\"http://www.w3.org/2000/svg\" height=\"24px\" viewBox=\"0 -960 960 960\">\n",
              "    <path d=\"M120-120v-720h720v720H120Zm60-500h600v-160H180v160Zm220 220h160v-160H400v160Zm0 220h160v-160H400v160ZM180-400h160v-160H180v160Zm440 0h160v-160H620v160ZM180-180h160v-160H180v160Zm440 0h160v-160H620v160Z\"/>\n",
              "  </svg>\n",
              "    </button>\n",
              "\n",
              "  <style>\n",
              "    .colab-df-container {\n",
              "      display:flex;\n",
              "      gap: 12px;\n",
              "    }\n",
              "\n",
              "    .colab-df-convert {\n",
              "      background-color: #E8F0FE;\n",
              "      border: none;\n",
              "      border-radius: 50%;\n",
              "      cursor: pointer;\n",
              "      display: none;\n",
              "      fill: #1967D2;\n",
              "      height: 32px;\n",
              "      padding: 0 0 0 0;\n",
              "      width: 32px;\n",
              "    }\n",
              "\n",
              "    .colab-df-convert:hover {\n",
              "      background-color: #E2EBFA;\n",
              "      box-shadow: 0px 1px 2px rgba(60, 64, 67, 0.3), 0px 1px 3px 1px rgba(60, 64, 67, 0.15);\n",
              "      fill: #174EA6;\n",
              "    }\n",
              "\n",
              "    .colab-df-buttons div {\n",
              "      margin-bottom: 4px;\n",
              "    }\n",
              "\n",
              "    [theme=dark] .colab-df-convert {\n",
              "      background-color: #3B4455;\n",
              "      fill: #D2E3FC;\n",
              "    }\n",
              "\n",
              "    [theme=dark] .colab-df-convert:hover {\n",
              "      background-color: #434B5C;\n",
              "      box-shadow: 0px 1px 3px 1px rgba(0, 0, 0, 0.15);\n",
              "      filter: drop-shadow(0px 1px 2px rgba(0, 0, 0, 0.3));\n",
              "      fill: #FFFFFF;\n",
              "    }\n",
              "  </style>\n",
              "\n",
              "    <script>\n",
              "      const buttonEl =\n",
              "        document.querySelector('#df-c71674c0-79a6-4aca-ad35-3feaa862ae5c button.colab-df-convert');\n",
              "      buttonEl.style.display =\n",
              "        google.colab.kernel.accessAllowed ? 'block' : 'none';\n",
              "\n",
              "      async function convertToInteractive(key) {\n",
              "        const element = document.querySelector('#df-c71674c0-79a6-4aca-ad35-3feaa862ae5c');\n",
              "        const dataTable =\n",
              "          await google.colab.kernel.invokeFunction('convertToInteractive',\n",
              "                                                    [key], {});\n",
              "        if (!dataTable) return;\n",
              "\n",
              "        const docLinkHtml = 'Like what you see? Visit the ' +\n",
              "          '<a target=\"_blank\" href=https://colab.research.google.com/notebooks/data_table.ipynb>data table notebook</a>'\n",
              "          + ' to learn more about interactive tables.';\n",
              "        element.innerHTML = '';\n",
              "        dataTable['output_type'] = 'display_data';\n",
              "        await google.colab.output.renderOutput(dataTable, element);\n",
              "        const docLink = document.createElement('div');\n",
              "        docLink.innerHTML = docLinkHtml;\n",
              "        element.appendChild(docLink);\n",
              "      }\n",
              "    </script>\n",
              "  </div>\n",
              "\n",
              "\n",
              "<div id=\"df-2308a3ba-9066-4646-9a8b-d88821dedc15\">\n",
              "  <button class=\"colab-df-quickchart\" onclick=\"quickchart('df-2308a3ba-9066-4646-9a8b-d88821dedc15')\"\n",
              "            title=\"Suggest charts\"\n",
              "            style=\"display:none;\">\n",
              "\n",
              "<svg xmlns=\"http://www.w3.org/2000/svg\" height=\"24px\"viewBox=\"0 0 24 24\"\n",
              "     width=\"24px\">\n",
              "    <g>\n",
              "        <path d=\"M19 3H5c-1.1 0-2 .9-2 2v14c0 1.1.9 2 2 2h14c1.1 0 2-.9 2-2V5c0-1.1-.9-2-2-2zM9 17H7v-7h2v7zm4 0h-2V7h2v10zm4 0h-2v-4h2v4z\"/>\n",
              "    </g>\n",
              "</svg>\n",
              "  </button>\n",
              "\n",
              "<style>\n",
              "  .colab-df-quickchart {\n",
              "      --bg-color: #E8F0FE;\n",
              "      --fill-color: #1967D2;\n",
              "      --hover-bg-color: #E2EBFA;\n",
              "      --hover-fill-color: #174EA6;\n",
              "      --disabled-fill-color: #AAA;\n",
              "      --disabled-bg-color: #DDD;\n",
              "  }\n",
              "\n",
              "  [theme=dark] .colab-df-quickchart {\n",
              "      --bg-color: #3B4455;\n",
              "      --fill-color: #D2E3FC;\n",
              "      --hover-bg-color: #434B5C;\n",
              "      --hover-fill-color: #FFFFFF;\n",
              "      --disabled-bg-color: #3B4455;\n",
              "      --disabled-fill-color: #666;\n",
              "  }\n",
              "\n",
              "  .colab-df-quickchart {\n",
              "    background-color: var(--bg-color);\n",
              "    border: none;\n",
              "    border-radius: 50%;\n",
              "    cursor: pointer;\n",
              "    display: none;\n",
              "    fill: var(--fill-color);\n",
              "    height: 32px;\n",
              "    padding: 0;\n",
              "    width: 32px;\n",
              "  }\n",
              "\n",
              "  .colab-df-quickchart:hover {\n",
              "    background-color: var(--hover-bg-color);\n",
              "    box-shadow: 0 1px 2px rgba(60, 64, 67, 0.3), 0 1px 3px 1px rgba(60, 64, 67, 0.15);\n",
              "    fill: var(--button-hover-fill-color);\n",
              "  }\n",
              "\n",
              "  .colab-df-quickchart-complete:disabled,\n",
              "  .colab-df-quickchart-complete:disabled:hover {\n",
              "    background-color: var(--disabled-bg-color);\n",
              "    fill: var(--disabled-fill-color);\n",
              "    box-shadow: none;\n",
              "  }\n",
              "\n",
              "  .colab-df-spinner {\n",
              "    border: 2px solid var(--fill-color);\n",
              "    border-color: transparent;\n",
              "    border-bottom-color: var(--fill-color);\n",
              "    animation:\n",
              "      spin 1s steps(1) infinite;\n",
              "  }\n",
              "\n",
              "  @keyframes spin {\n",
              "    0% {\n",
              "      border-color: transparent;\n",
              "      border-bottom-color: var(--fill-color);\n",
              "      border-left-color: var(--fill-color);\n",
              "    }\n",
              "    20% {\n",
              "      border-color: transparent;\n",
              "      border-left-color: var(--fill-color);\n",
              "      border-top-color: var(--fill-color);\n",
              "    }\n",
              "    30% {\n",
              "      border-color: transparent;\n",
              "      border-left-color: var(--fill-color);\n",
              "      border-top-color: var(--fill-color);\n",
              "      border-right-color: var(--fill-color);\n",
              "    }\n",
              "    40% {\n",
              "      border-color: transparent;\n",
              "      border-right-color: var(--fill-color);\n",
              "      border-top-color: var(--fill-color);\n",
              "    }\n",
              "    60% {\n",
              "      border-color: transparent;\n",
              "      border-right-color: var(--fill-color);\n",
              "    }\n",
              "    80% {\n",
              "      border-color: transparent;\n",
              "      border-right-color: var(--fill-color);\n",
              "      border-bottom-color: var(--fill-color);\n",
              "    }\n",
              "    90% {\n",
              "      border-color: transparent;\n",
              "      border-bottom-color: var(--fill-color);\n",
              "    }\n",
              "  }\n",
              "</style>\n",
              "\n",
              "  <script>\n",
              "    async function quickchart(key) {\n",
              "      const quickchartButtonEl =\n",
              "        document.querySelector('#' + key + ' button');\n",
              "      quickchartButtonEl.disabled = true;  // To prevent multiple clicks.\n",
              "      quickchartButtonEl.classList.add('colab-df-spinner');\n",
              "      try {\n",
              "        const charts = await google.colab.kernel.invokeFunction(\n",
              "            'suggestCharts', [key], {});\n",
              "      } catch (error) {\n",
              "        console.error('Error during call to suggestCharts:', error);\n",
              "      }\n",
              "      quickchartButtonEl.classList.remove('colab-df-spinner');\n",
              "      quickchartButtonEl.classList.add('colab-df-quickchart-complete');\n",
              "    }\n",
              "    (() => {\n",
              "      let quickchartButtonEl =\n",
              "        document.querySelector('#df-2308a3ba-9066-4646-9a8b-d88821dedc15 button');\n",
              "      quickchartButtonEl.style.display =\n",
              "        google.colab.kernel.accessAllowed ? 'block' : 'none';\n",
              "    })();\n",
              "  </script>\n",
              "</div>\n",
              "    </div>\n",
              "  </div>\n"
            ]
          },
          "metadata": {},
          "execution_count": 735
        }
      ]
    },
    {
      "cell_type": "code",
      "source": [
        "ax = sns.scatterplot(x= 'DOB', y= 'DateofHire',\n",
        "                     data= high_earners[high_earners['DOB'] < '2000-01-01'],\n",
        "                     hue= 'Sex', size= 'Department')\n",
        "ax.set_xlabel('Date of Birth')\n",
        "ax.set_ylabel('Date of Hire')\n",
        "plt.legend(loc='lower left')\n",
        "plt.show()"
      ],
      "metadata": {
        "colab": {
          "base_uri": "https://localhost:8080/",
          "height": 449
        },
        "id": "l1c1Ojuwrw8d",
        "outputId": "7a1c2bdf-62a7-48a8-b738-f09366e93b5f"
      },
      "execution_count": 736,
      "outputs": [
        {
          "output_type": "display_data",
          "data": {
            "text/plain": [
              "<Figure size 640x480 with 1 Axes>"
            ],
            "image/png": "[encoded data removed]"
          },
          "metadata": {}
        }
      ]
    },
    {
      "cell_type": "code",
      "source": [
        "ax = sns.scatterplot(x= 'LastPerformanceReview_Date', y= 'Absences',\n",
        "                     data= high_earners, hue= 'Sex',\n",
        "                     size= 'DaysLateLast30')\n",
        "ax.set_xlabel('Last Performance Review Date')\n",
        "ax.set_xticklabels(['2015', None, None, None,\n",
        "                   '2017', None, None, None, '2019'])\n",
        "plt.show()"
      ],
      "metadata": {
        "colab": {
          "base_uri": "https://localhost:8080/",
          "height": 449
        },
        "id": "l5vkuh9HrB0g",
        "outputId": "fa14b27a-0ed1-4c8c-b02f-4814a3d3d842"
      },
      "execution_count": 737,
      "outputs": [
        {
          "output_type": "display_data",
          "data": {
            "text/plain": [
              "<Figure size 640x480 with 1 Axes>"
            ],
            "image/png": "[encoded data removed]"
          },
          "metadata": {}
        }
      ]
    },
    {
      "cell_type": "code",
      "execution_count": 738,
      "metadata": {
        "colab": {
          "base_uri": "https://localhost:8080/",
          "height": 449
        },
        "id": "LbsDyLU3nGgQ",
        "outputId": "e020321e-c996-4fcf-9e78-9f8458c2a509"
      },
      "outputs": [
        {
          "output_type": "display_data",
          "data": {
            "text/plain": [
              "<Figure size 640x480 with 1 Axes>"
            ],
            "image/png": "[encoded data removed]"
          },
          "metadata": {}
        }
      ],
      "source": [
        "ax = sns.countplot(x='EmpSatisfaction', data=df, hue= \"Sex\")\n",
        "ax.bar_label(ax.containers[0])\n",
        "ax.bar_label(ax.containers[1])\n",
        "ax.set(xlabel='Employee Satisfaction', ylabel=None, yticks=[])\n",
        "plt.show()"
      ]
    },
    {
      "cell_type": "code",
      "execution_count": 739,
      "metadata": {
        "id": "yrpddTl3nzax"
      },
      "outputs": [],
      "source": [
        "# It can also simply because we have more females working at the company. We have a total of 176 females and 135 males\n",
        "# What about the people in power? What is the distribution male/female here?"
      ]
    },
    {
      "cell_type": "code",
      "execution_count": 740,
      "metadata": {
        "colab": {
          "base_uri": "https://localhost:8080/",
          "height": 449
        },
        "id": "sYdvOWR16izw",
        "outputId": "306fb33b-723b-4c87-9a71-29a542df42f7"
      },
      "outputs": [
        {
          "output_type": "display_data",
          "data": {
            "text/plain": [
              "<Figure size 640x480 with 1 Axes>"
            ],
            "image/png": "[encoded data removed]"
          },
          "metadata": {}
        }
      ],
      "source": [
        "ax = sns.countplot(x='PerformanceScore', data=df, hue= \"Sex\")\n",
        "ax.bar_label(ax.containers[0])\n",
        "ax.bar_label(ax.containers[1])\n",
        "ax.set(xlabel='Performance Score', ylabel=None, yticks=[])\n",
        "plt.show()"
      ]
    },
    {
      "cell_type": "code",
      "execution_count": 741,
      "metadata": {
        "colab": {
          "base_uri": "https://localhost:8080/"
        },
        "id": "7jcCKs9B6-zp",
        "outputId": "1c4c8739-a753-4ae5-b1bf-3f711f82e8ec"
      },
      "outputs": [
        {
          "output_type": "execute_result",
          "data": {
            "text/plain": [
              "Fully Meets          77\n",
              "Exceeds              15\n",
              "Needs Improvement     4\n",
              "PIP                   2\n",
              "Name: PerformanceScore, dtype: int64"
            ]
          },
          "metadata": {},
          "execution_count": 741
        }
      ],
      "source": [
        "# Let's see real quick the relationship between the people with 5 star satisfaction and their performance score\n",
        "df[df['EmpSatisfaction'] == 5].PerformanceScore.value_counts()"
      ]
    },
    {
      "cell_type": "code",
      "execution_count": 742,
      "metadata": {
        "colab": {
          "base_uri": "https://localhost:8080/"
        },
        "id": "OcRDVoJ57ReG",
        "outputId": "ec87d87d-715b-42c0-e94d-0afc8f6770d8"
      },
      "outputs": [
        {
          "output_type": "execute_result",
          "data": {
            "text/plain": [
              "5    15\n",
              "4    11\n",
              "3    11\n",
              "Name: EmpSatisfaction, dtype: int64"
            ]
          },
          "metadata": {},
          "execution_count": 742
        }
      ],
      "source": [
        "# This is really interesting! To have maximum enjoyment and satisfaction of your work, you don't need to exceed performance expectation!\n",
        "# Let's look at it from the other side; out of the people who are actually exceeding their performance expectations, how does their satisfaction levels look like?\n",
        "df[df['PerformanceScore'] == 'Exceeds'].EmpSatisfaction.value_counts()"
      ]
    },
    {
      "cell_type": "code",
      "source": [
        "# Interesting! One would almost expect the ones that are exceeding their work expectations to be miserable and burned out but the majority of these people are actually\n",
        "# also very satisfied in their job! Indicating perhaps at a very fruitful and excellent working environment?\n",
        "# Both of these two above can bee shown graphically as:"
      ],
      "metadata": {
        "id": "Jzmds6Inq0TC"
      },
      "execution_count": 743,
      "outputs": []
    },
    {
      "cell_type": "code",
      "execution_count": 744,
      "metadata": {
        "colab": {
          "base_uri": "https://localhost:8080/",
          "height": 449
        },
        "id": "fF_rURSV7u8Y",
        "outputId": "9a43e0f9-6afa-401b-874b-5c934abc2f66"
      },
      "outputs": [
        {
          "output_type": "display_data",
          "data": {
            "text/plain": [
              "<Figure size 640x480 with 1 Axes>"
            ],
            "image/png": "[encoded data removed]"
          },
          "metadata": {}
        }
      ],
      "source": [
        "ax = sns.countplot(x='EmpSatisfaction', data=df, hue= \"PerformanceScore\")\n",
        "for i in range(4):\n",
        "  ax.bar_label(ax.containers[i])\n",
        "ax.set(xlabel='Employee Satisfaction', ylabel=None, yticks=[])\n",
        "plt.show()"
      ]
    },
    {
      "cell_type": "code",
      "execution_count": 745,
      "metadata": {
        "colab": {
          "base_uri": "https://localhost:8080/",
          "height": 449
        },
        "id": "uaEX5rBS8mJF",
        "outputId": "fbec3772-3230-45d9-c8d1-3c2293b07ca6"
      },
      "outputs": [
        {
          "output_type": "display_data",
          "data": {
            "text/plain": [
              "<Figure size 640x480 with 1 Axes>"
            ],
            "image/png": "[encoded data removed]"
          },
          "metadata": {}
        }
      ],
      "source": [
        "ax = sns.countplot(x='PerformanceScore', data=df, hue= \"EmpSatisfaction\")\n",
        "for i in range(5):\n",
        "  ax.bar_label(ax.containers[i])\n",
        "ax.set(xlabel='Performance Score', ylabel=None, yticks=[])\n",
        "plt.show()"
      ]
    },
    {
      "cell_type": "code",
      "source": [
        "# Let's look at these 15 happy high performers! What do they have in common?"
      ],
      "metadata": {
        "id": "QHWtGuuDrc57"
      },
      "execution_count": 746,
      "outputs": []
    },
    {
      "cell_type": "code",
      "execution_count": 747,
      "metadata": {
        "id": "-EZzcno69Qmv"
      },
      "outputs": [],
      "source": [
        "happy_high_performers = df.loc[(df['PerformanceScore'] == 'Exceeds') & (df['EmpSatisfaction'] == 5)]"
      ]
    },
    {
      "cell_type": "code",
      "source": [
        "happy_high_performers.head(5)"
      ],
      "metadata": {
        "colab": {
          "base_uri": "https://localhost:8080/",
          "height": 365
        },
        "id": "CtizR5vStYfc",
        "outputId": "5f3e4c72-eb4c-41ed-e55d-e5f3d8563880"
      },
      "execution_count": 748,
      "outputs": [
        {
          "output_type": "execute_result",
          "data": {
            "text/plain": [
              "    Salary                 Position        DOB Sex MaritalDesc CitizenDesc  \\\n",
              "0    62506  Production Technician I 1983-10-07  M       Single  US Citizen   \n",
              "5    57568  Production Technician I 1977-05-22   F      Single  US Citizen   \n",
              "55  170500   Director of Operations 1983-03-19  M       Single  US Citizen   \n",
              "76  138888     IT Manager - Support 1970-09-07  M       Single  US Citizen   \n",
              "77   74241       Area Sales Manager 1988-08-11   F      Single  US Citizen   \n",
              "\n",
              "   HispanicLatino DateofHire         TermReason         Department  \\\n",
              "0              No 2011-05-07  N/A-StillEmployed  Production          \n",
              "5              No 2012-09-01  N/A-StillEmployed  Production          \n",
              "55             No 2009-05-01  N/A-StillEmployed  Production          \n",
              "76             No 2014-05-01  N/A-StillEmployed              IT/IS   \n",
              "77             No 2011-10-01  N/A-StillEmployed              Sales   \n",
              "\n",
              "   RecruitmentSource PerformanceScore  EmpSatisfaction  SpecialProjectsCount  \\\n",
              "0           LinkedIn          Exceeds                5                     0   \n",
              "5           LinkedIn          Exceeds                5                     0   \n",
              "55            Indeed          Exceeds                5                     0   \n",
              "76            Indeed          Exceeds                5                     5   \n",
              "77            Indeed          Exceeds                5                     0   \n",
              "\n",
              "   LastPerformanceReview_Date  DaysLateLast30  Absences  \n",
              "0                  2019-01-17               0         1  \n",
              "5                  2019-07-01               0        15  \n",
              "55                 2019-04-02               0        15  \n",
              "76                 2019-04-01               0         4  \n",
              "77                 2019-01-27               0        14  "
            ],
            "text/html": [
              "\n",
              "  <div id=\"df-f79689ee-1776-423e-8000-cd3afa160b33\" class=\"colab-df-container\">\n",
              "    <div>\n",
              "<style scoped>\n",
              "    .dataframe tbody tr th:only-of-type {\n",
              "        vertical-align: middle;\n",
              "    }\n",
              "\n",
              "    .dataframe tbody tr th {\n",
              "        vertical-align: top;\n",
              "    }\n",
              "\n",
              "    .dataframe thead th {\n",
              "        text-align: right;\n",
              "    }\n",
              "</style>\n",
              "<table border=\"1\" class=\"dataframe\">\n",
              "  <thead>\n",
              "    <tr style=\"text-align: right;\">\n",
              "      <th></th>\n",
              "      <th>Salary</th>\n",
              "      <th>Position</th>\n",
              "      <th>DOB</th>\n",
              "      <th>Sex</th>\n",
              "      <th>MaritalDesc</th>\n",
              "      <th>CitizenDesc</th>\n",
              "      <th>HispanicLatino</th>\n",
              "      <th>DateofHire</th>\n",
              "      <th>TermReason</th>\n",
              "      <th>Department</th>\n",
              "      <th>RecruitmentSource</th>\n",
              "      <th>PerformanceScore</th>\n",
              "      <th>EmpSatisfaction</th>\n",
              "      <th>SpecialProjectsCount</th>\n",
              "      <th>LastPerformanceReview_Date</th>\n",
              "      <th>DaysLateLast30</th>\n",
              "      <th>Absences</th>\n",
              "    </tr>\n",
              "  </thead>\n",
              "  <tbody>\n",
              "    <tr>\n",
              "      <th>0</th>\n",
              "      <td>62506</td>\n",
              "      <td>Production Technician I</td>\n",
              "      <td>1983-10-07</td>\n",
              "      <td>M</td>\n",
              "      <td>Single</td>\n",
              "      <td>US Citizen</td>\n",
              "      <td>No</td>\n",
              "      <td>2011-05-07</td>\n",
              "      <td>N/A-StillEmployed</td>\n",
              "      <td>Production</td>\n",
              "      <td>LinkedIn</td>\n",
              "      <td>Exceeds</td>\n",
              "      <td>5</td>\n",
              "      <td>0</td>\n",
              "      <td>2019-01-17</td>\n",
              "      <td>0</td>\n",
              "      <td>1</td>\n",
              "    </tr>\n",
              "    <tr>\n",
              "      <th>5</th>\n",
              "      <td>57568</td>\n",
              "      <td>Production Technician I</td>\n",
              "      <td>1977-05-22</td>\n",
              "      <td>F</td>\n",
              "      <td>Single</td>\n",
              "      <td>US Citizen</td>\n",
              "      <td>No</td>\n",
              "      <td>2012-09-01</td>\n",
              "      <td>N/A-StillEmployed</td>\n",
              "      <td>Production</td>\n",
              "      <td>LinkedIn</td>\n",
              "      <td>Exceeds</td>\n",
              "      <td>5</td>\n",
              "      <td>0</td>\n",
              "      <td>2019-07-01</td>\n",
              "      <td>0</td>\n",
              "      <td>15</td>\n",
              "    </tr>\n",
              "    <tr>\n",
              "      <th>55</th>\n",
              "      <td>170500</td>\n",
              "      <td>Director of Operations</td>\n",
              "      <td>1983-03-19</td>\n",
              "      <td>M</td>\n",
              "      <td>Single</td>\n",
              "      <td>US Citizen</td>\n",
              "      <td>No</td>\n",
              "      <td>2009-05-01</td>\n",
              "      <td>N/A-StillEmployed</td>\n",
              "      <td>Production</td>\n",
              "      <td>Indeed</td>\n",
              "      <td>Exceeds</td>\n",
              "      <td>5</td>\n",
              "      <td>0</td>\n",
              "      <td>2019-04-02</td>\n",
              "      <td>0</td>\n",
              "      <td>15</td>\n",
              "    </tr>\n",
              "    <tr>\n",
              "      <th>76</th>\n",
              "      <td>138888</td>\n",
              "      <td>IT Manager - Support</td>\n",
              "      <td>1970-09-07</td>\n",
              "      <td>M</td>\n",
              "      <td>Single</td>\n",
              "      <td>US Citizen</td>\n",
              "      <td>No</td>\n",
              "      <td>2014-05-01</td>\n",
              "      <td>N/A-StillEmployed</td>\n",
              "      <td>IT/IS</td>\n",
              "      <td>Indeed</td>\n",
              "      <td>Exceeds</td>\n",
              "      <td>5</td>\n",
              "      <td>5</td>\n",
              "      <td>2019-04-01</td>\n",
              "      <td>0</td>\n",
              "      <td>4</td>\n",
              "    </tr>\n",
              "    <tr>\n",
              "      <th>77</th>\n",
              "      <td>74241</td>\n",
              "      <td>Area Sales Manager</td>\n",
              "      <td>1988-08-11</td>\n",
              "      <td>F</td>\n",
              "      <td>Single</td>\n",
              "      <td>US Citizen</td>\n",
              "      <td>No</td>\n",
              "      <td>2011-10-01</td>\n",
              "      <td>N/A-StillEmployed</td>\n",
              "      <td>Sales</td>\n",
              "      <td>Indeed</td>\n",
              "      <td>Exceeds</td>\n",
              "      <td>5</td>\n",
              "      <td>0</td>\n",
              "      <td>2019-01-27</td>\n",
              "      <td>0</td>\n",
              "      <td>14</td>\n",
              "    </tr>\n",
              "  </tbody>\n",
              "</table>\n",
              "</div>\n",
              "    <div class=\"colab-df-buttons\">\n",
              "\n",
              "  <div class=\"colab-df-container\">\n",
              "    <button class=\"colab-df-convert\" onclick=\"convertToInteractive('df-f79689ee-1776-423e-8000-cd3afa160b33')\"\n",
              "            title=\"Convert this dataframe to an interactive table.\"\n",
              "            style=\"display:none;\">\n",
              "\n",
              "  <svg xmlns=\"http://www.w3.org/2000/svg\" height=\"24px\" viewBox=\"0 -960 960 960\">\n",
              "    <path d=\"M120-120v-720h720v720H120Zm60-500h600v-160H180v160Zm220 220h160v-160H400v160Zm0 220h160v-160H400v160ZM180-400h160v-160H180v160Zm440 0h160v-160H620v160ZM180-180h160v-160H180v160Zm440 0h160v-160H620v160Z\"/>\n",
              "  </svg>\n",
              "    </button>\n",
              "\n",
              "  <style>\n",
              "    .colab-df-container {\n",
              "      display:flex;\n",
              "      gap: 12px;\n",
              "    }\n",
              "\n",
              "    .colab-df-convert {\n",
              "      background-color: #E8F0FE;\n",
              "      border: none;\n",
              "      border-radius: 50%;\n",
              "      cursor: pointer;\n",
              "      display: none;\n",
              "      fill: #1967D2;\n",
              "      height: 32px;\n",
              "      padding: 0 0 0 0;\n",
              "      width: 32px;\n",
              "    }\n",
              "\n",
              "    .colab-df-convert:hover {\n",
              "      background-color: #E2EBFA;\n",
              "      box-shadow: 0px 1px 2px rgba(60, 64, 67, 0.3), 0px 1px 3px 1px rgba(60, 64, 67, 0.15);\n",
              "      fill: #174EA6;\n",
              "    }\n",
              "\n",
              "    .colab-df-buttons div {\n",
              "      margin-bottom: 4px;\n",
              "    }\n",
              "\n",
              "    [theme=dark] .colab-df-convert {\n",
              "      background-color: #3B4455;\n",
              "      fill: #D2E3FC;\n",
              "    }\n",
              "\n",
              "    [theme=dark] .colab-df-convert:hover {\n",
              "      background-color: #434B5C;\n",
              "      box-shadow: 0px 1px 3px 1px rgba(0, 0, 0, 0.15);\n",
              "      filter: drop-shadow(0px 1px 2px rgba(0, 0, 0, 0.3));\n",
              "      fill: #FFFFFF;\n",
              "    }\n",
              "  </style>\n",
              "\n",
              "    <script>\n",
              "      const buttonEl =\n",
              "        document.querySelector('#df-f79689ee-1776-423e-8000-cd3afa160b33 button.colab-df-convert');\n",
              "      buttonEl.style.display =\n",
              "        google.colab.kernel.accessAllowed ? 'block' : 'none';\n",
              "\n",
              "      async function convertToInteractive(key) {\n",
              "        const element = document.querySelector('#df-f79689ee-1776-423e-8000-cd3afa160b33');\n",
              "        const dataTable =\n",
              "          await google.colab.kernel.invokeFunction('convertToInteractive',\n",
              "                                                    [key], {});\n",
              "        if (!dataTable) return;\n",
              "\n",
              "        const docLinkHtml = 'Like what you see? Visit the ' +\n",
              "          '<a target=\"_blank\" href=https://colab.research.google.com/notebooks/data_table.ipynb>data table notebook</a>'\n",
              "          + ' to learn more about interactive tables.';\n",
              "        element.innerHTML = '';\n",
              "        dataTable['output_type'] = 'display_data';\n",
              "        await google.colab.output.renderOutput(dataTable, element);\n",
              "        const docLink = document.createElement('div');\n",
              "        docLink.innerHTML = docLinkHtml;\n",
              "        element.appendChild(docLink);\n",
              "      }\n",
              "    </script>\n",
              "  </div>\n",
              "\n",
              "\n",
              "<div id=\"df-af272971-a98e-4305-b8ff-3f2fde418fad\">\n",
              "  <button class=\"colab-df-quickchart\" onclick=\"quickchart('df-af272971-a98e-4305-b8ff-3f2fde418fad')\"\n",
              "            title=\"Suggest charts\"\n",
              "            style=\"display:none;\">\n",
              "\n",
              "<svg xmlns=\"http://www.w3.org/2000/svg\" height=\"24px\"viewBox=\"0 0 24 24\"\n",
              "     width=\"24px\">\n",
              "    <g>\n",
              "        <path d=\"M19 3H5c-1.1 0-2 .9-2 2v14c0 1.1.9 2 2 2h14c1.1 0 2-.9 2-2V5c0-1.1-.9-2-2-2zM9 17H7v-7h2v7zm4 0h-2V7h2v10zm4 0h-2v-4h2v4z\"/>\n",
              "    </g>\n",
              "</svg>\n",
              "  </button>\n",
              "\n",
              "<style>\n",
              "  .colab-df-quickchart {\n",
              "      --bg-color: #E8F0FE;\n",
              "      --fill-color: #1967D2;\n",
              "      --hover-bg-color: #E2EBFA;\n",
              "      --hover-fill-color: #174EA6;\n",
              "      --disabled-fill-color: #AAA;\n",
              "      --disabled-bg-color: #DDD;\n",
              "  }\n",
              "\n",
              "  [theme=dark] .colab-df-quickchart {\n",
              "      --bg-color: #3B4455;\n",
              "      --fill-color: #D2E3FC;\n",
              "      --hover-bg-color: #434B5C;\n",
              "      --hover-fill-color: #FFFFFF;\n",
              "      --disabled-bg-color: #3B4455;\n",
              "      --disabled-fill-color: #666;\n",
              "  }\n",
              "\n",
              "  .colab-df-quickchart {\n",
              "    background-color: var(--bg-color);\n",
              "    border: none;\n",
              "    border-radius: 50%;\n",
              "    cursor: pointer;\n",
              "    display: none;\n",
              "    fill: var(--fill-color);\n",
              "    height: 32px;\n",
              "    padding: 0;\n",
              "    width: 32px;\n",
              "  }\n",
              "\n",
              "  .colab-df-quickchart:hover {\n",
              "    background-color: var(--hover-bg-color);\n",
              "    box-shadow: 0 1px 2px rgba(60, 64, 67, 0.3), 0 1px 3px 1px rgba(60, 64, 67, 0.15);\n",
              "    fill: var(--button-hover-fill-color);\n",
              "  }\n",
              "\n",
              "  .colab-df-quickchart-complete:disabled,\n",
              "  .colab-df-quickchart-complete:disabled:hover {\n",
              "    background-color: var(--disabled-bg-color);\n",
              "    fill: var(--disabled-fill-color);\n",
              "    box-shadow: none;\n",
              "  }\n",
              "\n",
              "  .colab-df-spinner {\n",
              "    border: 2px solid var(--fill-color);\n",
              "    border-color: transparent;\n",
              "    border-bottom-color: var(--fill-color);\n",
              "    animation:\n",
              "      spin 1s steps(1) infinite;\n",
              "  }\n",
              "\n",
              "  @keyframes spin {\n",
              "    0% {\n",
              "      border-color: transparent;\n",
              "      border-bottom-color: var(--fill-color);\n",
              "      border-left-color: var(--fill-color);\n",
              "    }\n",
              "    20% {\n",
              "      border-color: transparent;\n",
              "      border-left-color: var(--fill-color);\n",
              "      border-top-color: var(--fill-color);\n",
              "    }\n",
              "    30% {\n",
              "      border-color: transparent;\n",
              "      border-left-color: var(--fill-color);\n",
              "      border-top-color: var(--fill-color);\n",
              "      border-right-color: var(--fill-color);\n",
              "    }\n",
              "    40% {\n",
              "      border-color: transparent;\n",
              "      border-right-color: var(--fill-color);\n",
              "      border-top-color: var(--fill-color);\n",
              "    }\n",
              "    60% {\n",
              "      border-color: transparent;\n",
              "      border-right-color: var(--fill-color);\n",
              "    }\n",
              "    80% {\n",
              "      border-color: transparent;\n",
              "      border-right-color: var(--fill-color);\n",
              "      border-bottom-color: var(--fill-color);\n",
              "    }\n",
              "    90% {\n",
              "      border-color: transparent;\n",
              "      border-bottom-color: var(--fill-color);\n",
              "    }\n",
              "  }\n",
              "</style>\n",
              "\n",
              "  <script>\n",
              "    async function quickchart(key) {\n",
              "      const quickchartButtonEl =\n",
              "        document.querySelector('#' + key + ' button');\n",
              "      quickchartButtonEl.disabled = true;  // To prevent multiple clicks.\n",
              "      quickchartButtonEl.classList.add('colab-df-spinner');\n",
              "      try {\n",
              "        const charts = await google.colab.kernel.invokeFunction(\n",
              "            'suggestCharts', [key], {});\n",
              "      } catch (error) {\n",
              "        console.error('Error during call to suggestCharts:', error);\n",
              "      }\n",
              "      quickchartButtonEl.classList.remove('colab-df-spinner');\n",
              "      quickchartButtonEl.classList.add('colab-df-quickchart-complete');\n",
              "    }\n",
              "    (() => {\n",
              "      let quickchartButtonEl =\n",
              "        document.querySelector('#df-af272971-a98e-4305-b8ff-3f2fde418fad button');\n",
              "      quickchartButtonEl.style.display =\n",
              "        google.colab.kernel.accessAllowed ? 'block' : 'none';\n",
              "    })();\n",
              "  </script>\n",
              "</div>\n",
              "    </div>\n",
              "  </div>\n"
            ]
          },
          "metadata": {},
          "execution_count": 748
        }
      ]
    },
    {
      "cell_type": "code",
      "source": [
        "happy_high_performers[\"Salary\"].describe()"
      ],
      "metadata": {
        "colab": {
          "base_uri": "https://localhost:8080/"
        },
        "id": "kf0ZrEkPrLIS",
        "outputId": "de885769-b912-4e3c-fe56-8f5af629b260"
      },
      "execution_count": 749,
      "outputs": [
        {
          "output_type": "execute_result",
          "data": {
            "text/plain": [
              "count        15.000000\n",
              "mean      98268.266667\n",
              "std       54288.791209\n",
              "min       46738.000000\n",
              "25%       58238.500000\n",
              "50%       74241.000000\n",
              "75%      123937.500000\n",
              "max      220450.000000\n",
              "Name: Salary, dtype: float64"
            ]
          },
          "metadata": {},
          "execution_count": 749
        }
      ]
    },
    {
      "cell_type": "code",
      "source": [
        "high_earners[\"Salary\"].describe()"
      ],
      "metadata": {
        "colab": {
          "base_uri": "https://localhost:8080/"
        },
        "id": "dsbv9LHCrPtY",
        "outputId": "796feff5-4d85-494e-9773-62a8790b41a2"
      },
      "execution_count": 750,
      "outputs": [
        {
          "output_type": "execute_result",
          "data": {
            "text/plain": [
              "count        10.000000\n",
              "mean     173504.700000\n",
              "std       36207.353955\n",
              "min      138888.000000\n",
              "25%      149321.750000\n",
              "50%      163750.000000\n",
              "75%      179500.000000\n",
              "max      250000.000000\n",
              "Name: Salary, dtype: float64"
            ]
          },
          "metadata": {},
          "execution_count": 750
        }
      ]
    },
    {
      "cell_type": "code",
      "source": [
        "happy_high_performers[\"DaysLateLast30\"].value_counts()"
      ],
      "metadata": {
        "colab": {
          "base_uri": "https://localhost:8080/"
        },
        "id": "qVyV2LoTG6w2",
        "outputId": "50698a7c-75b5-442a-db92-0ab62801cc42"
      },
      "execution_count": 751,
      "outputs": [
        {
          "output_type": "execute_result",
          "data": {
            "text/plain": [
              "0    15\n",
              "Name: DaysLateLast30, dtype: int64"
            ]
          },
          "metadata": {},
          "execution_count": 751
        }
      ]
    },
    {
      "cell_type": "code",
      "execution_count": 752,
      "metadata": {
        "colab": {
          "base_uri": "https://localhost:8080/"
        },
        "id": "lGWd3RAHCLR1",
        "outputId": "446f3924-a3a3-42d5-d097-ed486f4c9f41"
      },
      "outputs": [
        {
          "output_type": "execute_result",
          "data": {
            "text/plain": [
              "US Citizen    15\n",
              "Name: CitizenDesc, dtype: int64"
            ]
          },
          "metadata": {},
          "execution_count": 752
        }
      ],
      "source": [
        "# Let's clean this dataset a bit and then look at some scatter plots\n",
        "# Let's first see if all of these 15 people are US Citizens and not Hispanic Latino. If that is the case, we can remove both of these columns\n",
        "happy_high_performers['CitizenDesc'].value_counts()"
      ]
    },
    {
      "cell_type": "code",
      "execution_count": 753,
      "metadata": {
        "colab": {
          "base_uri": "https://localhost:8080/"
        },
        "id": "DPE0iFpjCb7v",
        "outputId": "d352cb20-9fa7-46cf-ed45-eae73d3fe49e"
      },
      "outputs": [
        {
          "output_type": "execute_result",
          "data": {
            "text/plain": [
              "No    15\n",
              "Name: HispanicLatino, dtype: int64"
            ]
          },
          "metadata": {},
          "execution_count": 753
        }
      ],
      "source": [
        "happy_high_performers['HispanicLatino'].value_counts()"
      ]
    },
    {
      "cell_type": "code",
      "execution_count": 754,
      "metadata": {
        "colab": {
          "base_uri": "https://localhost:8080/"
        },
        "id": "se_W5FSKDQCO",
        "outputId": "5d847ff0-e5a2-404f-e39f-78a79216fce5"
      },
      "outputs": [
        {
          "output_type": "execute_result",
          "data": {
            "text/plain": [
              "N/A-StillEmployed                   11\n",
              "Another position                     1\n",
              "more money                           1\n",
              "maternity leave - did not return     1\n",
              "gross misconduct                     1\n",
              "Name: TermReason, dtype: int64"
            ]
          },
          "metadata": {},
          "execution_count": 754
        }
      ],
      "source": [
        "# I believe it's also safe to assume that all of these 15 people are still employed\n",
        "happy_high_performers['TermReason'].value_counts()"
      ]
    },
    {
      "cell_type": "code",
      "execution_count": 755,
      "metadata": {
        "id": "SQ56SzsbCCkY"
      },
      "outputs": [],
      "source": [
        "# Okay so we do have to note that three people have left the company for various reasons"
      ]
    },
    {
      "cell_type": "code",
      "execution_count": 756,
      "metadata": {
        "colab": {
          "base_uri": "https://localhost:8080/"
        },
        "id": "gJOX87Bs0PWw",
        "outputId": "8e2c2a92-a300-4ddf-f957-5639c19394ea"
      },
      "outputs": [
        {
          "output_type": "execute_result",
          "data": {
            "text/plain": [
              "0    9\n",
              "5    3\n",
              "3    1\n",
              "7    1\n",
              "6    1\n",
              "Name: SpecialProjectsCount, dtype: int64"
            ]
          },
          "metadata": {},
          "execution_count": 756
        }
      ],
      "source": [
        "happy_high_performers['SpecialProjectsCount'].value_counts()"
      ]
    },
    {
      "cell_type": "code",
      "execution_count": 757,
      "metadata": {
        "colab": {
          "base_uri": "https://localhost:8080/"
        },
        "id": "z6sj2JDX2ob7",
        "outputId": "0686e487-5b0d-4aa1-d15b-e9387c7c37c5"
      },
      "outputs": [
        {
          "output_type": "execute_result",
          "data": {
            "text/plain": [
              "M     8\n",
              "F     7\n",
              "Name: Sex, dtype: int64"
            ]
          },
          "metadata": {},
          "execution_count": 757
        }
      ],
      "source": [
        "happy_high_performers['Sex'].value_counts()"
      ]
    },
    {
      "cell_type": "code",
      "execution_count": 758,
      "metadata": {
        "id": "FFupgXNECfj1"
      },
      "outputs": [],
      "source": [
        "# Okay so all of these people are US Citizens and none of them are Hispanic Latino\n",
        "# Furthermore none of them have been late in the last 30 days, which makes a lot of sense!\n",
        "# That's the first three things that they all have in common\n",
        "# We can also remove the PerformanceScore and EmpSatisfaction columns since we know these values\n",
        "# Let's remove these columns\n",
        "happy_high_performers.drop(['CitizenDesc', 'HispanicLatino', 'DaysLateLast30',\n",
        "                            'PerformanceScore', 'EmpSatisfaction'],\n",
        "                           axis=1, inplace=True)"
      ]
    },
    {
      "cell_type": "code",
      "execution_count": 759,
      "metadata": {
        "colab": {
          "base_uri": "https://localhost:8080/",
          "height": 293
        },
        "id": "p7lAAw39DOtG",
        "outputId": "f62c4a03-95e9-4367-b1de-e7216cf36954"
      },
      "outputs": [
        {
          "output_type": "execute_result",
          "data": {
            "text/plain": [
              "    Salary                 Position        DOB Sex MaritalDesc DateofHire  \\\n",
              "0    62506  Production Technician I 1983-10-07  M       Single 2011-05-07   \n",
              "5    57568  Production Technician I 1977-05-22   F      Single 2012-09-01   \n",
              "55  170500   Director of Operations 1983-03-19  M       Single 2009-05-01   \n",
              "76  138888     IT Manager - Support 1970-09-07  M       Single 2014-05-01   \n",
              "77   74241       Area Sales Manager 1988-08-11   F      Single 2011-10-01   \n",
              "\n",
              "           TermReason         Department RecruitmentSource  \\\n",
              "0   N/A-StillEmployed  Production                 LinkedIn   \n",
              "5   N/A-StillEmployed  Production                 LinkedIn   \n",
              "55  N/A-StillEmployed  Production                   Indeed   \n",
              "76  N/A-StillEmployed              IT/IS            Indeed   \n",
              "77  N/A-StillEmployed              Sales            Indeed   \n",
              "\n",
              "    SpecialProjectsCount LastPerformanceReview_Date  Absences  \n",
              "0                      0                 2019-01-17         1  \n",
              "5                      0                 2019-07-01        15  \n",
              "55                     0                 2019-04-02        15  \n",
              "76                     5                 2019-04-01         4  \n",
              "77                     0                 2019-01-27        14  "
            ],
            "text/html": [
              "\n",
              "  <div id=\"df-988a75c9-d462-4cb0-8d6a-f41fb964d404\" class=\"colab-df-container\">\n",
              "    <div>\n",
              "<style scoped>\n",
              "    .dataframe tbody tr th:only-of-type {\n",
              "        vertical-align: middle;\n",
              "    }\n",
              "\n",
              "    .dataframe tbody tr th {\n",
              "        vertical-align: top;\n",
              "    }\n",
              "\n",
              "    .dataframe thead th {\n",
              "        text-align: right;\n",
              "    }\n",
              "</style>\n",
              "<table border=\"1\" class=\"dataframe\">\n",
              "  <thead>\n",
              "    <tr style=\"text-align: right;\">\n",
              "      <th></th>\n",
              "      <th>Salary</th>\n",
              "      <th>Position</th>\n",
              "      <th>DOB</th>\n",
              "      <th>Sex</th>\n",
              "      <th>MaritalDesc</th>\n",
              "      <th>DateofHire</th>\n",
              "      <th>TermReason</th>\n",
              "      <th>Department</th>\n",
              "      <th>RecruitmentSource</th>\n",
              "      <th>SpecialProjectsCount</th>\n",
              "      <th>LastPerformanceReview_Date</th>\n",
              "      <th>Absences</th>\n",
              "    </tr>\n",
              "  </thead>\n",
              "  <tbody>\n",
              "    <tr>\n",
              "      <th>0</th>\n",
              "      <td>62506</td>\n",
              "      <td>Production Technician I</td>\n",
              "      <td>1983-10-07</td>\n",
              "      <td>M</td>\n",
              "      <td>Single</td>\n",
              "      <td>2011-05-07</td>\n",
              "      <td>N/A-StillEmployed</td>\n",
              "      <td>Production</td>\n",
              "      <td>LinkedIn</td>\n",
              "      <td>0</td>\n",
              "      <td>2019-01-17</td>\n",
              "      <td>1</td>\n",
              "    </tr>\n",
              "    <tr>\n",
              "      <th>5</th>\n",
              "      <td>57568</td>\n",
              "      <td>Production Technician I</td>\n",
              "      <td>1977-05-22</td>\n",
              "      <td>F</td>\n",
              "      <td>Single</td>\n",
              "      <td>2012-09-01</td>\n",
              "      <td>N/A-StillEmployed</td>\n",
              "      <td>Production</td>\n",
              "      <td>LinkedIn</td>\n",
              "      <td>0</td>\n",
              "      <td>2019-07-01</td>\n",
              "      <td>15</td>\n",
              "    </tr>\n",
              "    <tr>\n",
              "      <th>55</th>\n",
              "      <td>170500</td>\n",
              "      <td>Director of Operations</td>\n",
              "      <td>1983-03-19</td>\n",
              "      <td>M</td>\n",
              "      <td>Single</td>\n",
              "      <td>2009-05-01</td>\n",
              "      <td>N/A-StillEmployed</td>\n",
              "      <td>Production</td>\n",
              "      <td>Indeed</td>\n",
              "      <td>0</td>\n",
              "      <td>2019-04-02</td>\n",
              "      <td>15</td>\n",
              "    </tr>\n",
              "    <tr>\n",
              "      <th>76</th>\n",
              "      <td>138888</td>\n",
              "      <td>IT Manager - Support</td>\n",
              "      <td>1970-09-07</td>\n",
              "      <td>M</td>\n",
              "      <td>Single</td>\n",
              "      <td>2014-05-01</td>\n",
              "      <td>N/A-StillEmployed</td>\n",
              "      <td>IT/IS</td>\n",
              "      <td>Indeed</td>\n",
              "      <td>5</td>\n",
              "      <td>2019-04-01</td>\n",
              "      <td>4</td>\n",
              "    </tr>\n",
              "    <tr>\n",
              "      <th>77</th>\n",
              "      <td>74241</td>\n",
              "      <td>Area Sales Manager</td>\n",
              "      <td>1988-08-11</td>\n",
              "      <td>F</td>\n",
              "      <td>Single</td>\n",
              "      <td>2011-10-01</td>\n",
              "      <td>N/A-StillEmployed</td>\n",
              "      <td>Sales</td>\n",
              "      <td>Indeed</td>\n",
              "      <td>0</td>\n",
              "      <td>2019-01-27</td>\n",
              "      <td>14</td>\n",
              "    </tr>\n",
              "  </tbody>\n",
              "</table>\n",
              "</div>\n",
              "    <div class=\"colab-df-buttons\">\n",
              "\n",
              "  <div class=\"colab-df-container\">\n",
              "    <button class=\"colab-df-convert\" onclick=\"convertToInteractive('df-988a75c9-d462-4cb0-8d6a-f41fb964d404')\"\n",
              "            title=\"Convert this dataframe to an interactive table.\"\n",
              "            style=\"display:none;\">\n",
              "\n",
              "  <svg xmlns=\"http://www.w3.org/2000/svg\" height=\"24px\" viewBox=\"0 -960 960 960\">\n",
              "    <path d=\"M120-120v-720h720v720H120Zm60-500h600v-160H180v160Zm220 220h160v-160H400v160Zm0 220h160v-160H400v160ZM180-400h160v-160H180v160Zm440 0h160v-160H620v160ZM180-180h160v-160H180v160Zm440 0h160v-160H620v160Z\"/>\n",
              "  </svg>\n",
              "    </button>\n",
              "\n",
              "  <style>\n",
              "    .colab-df-container {\n",
              "      display:flex;\n",
              "      gap: 12px;\n",
              "    }\n",
              "\n",
              "    .colab-df-convert {\n",
              "      background-color: #E8F0FE;\n",
              "      border: none;\n",
              "      border-radius: 50%;\n",
              "      cursor: pointer;\n",
              "      display: none;\n",
              "      fill: #1967D2;\n",
              "      height: 32px;\n",
              "      padding: 0 0 0 0;\n",
              "      width: 32px;\n",
              "    }\n",
              "\n",
              "    .colab-df-convert:hover {\n",
              "      background-color: #E2EBFA;\n",
              "      box-shadow: 0px 1px 2px rgba(60, 64, 67, 0.3), 0px 1px 3px 1px rgba(60, 64, 67, 0.15);\n",
              "      fill: #174EA6;\n",
              "    }\n",
              "\n",
              "    .colab-df-buttons div {\n",
              "      margin-bottom: 4px;\n",
              "    }\n",
              "\n",
              "    [theme=dark] .colab-df-convert {\n",
              "      background-color: #3B4455;\n",
              "      fill: #D2E3FC;\n",
              "    }\n",
              "\n",
              "    [theme=dark] .colab-df-convert:hover {\n",
              "      background-color: #434B5C;\n",
              "      box-shadow: 0px 1px 3px 1px rgba(0, 0, 0, 0.15);\n",
              "      filter: drop-shadow(0px 1px 2px rgba(0, 0, 0, 0.3));\n",
              "      fill: #FFFFFF;\n",
              "    }\n",
              "  </style>\n",
              "\n",
              "    <script>\n",
              "      const buttonEl =\n",
              "        document.querySelector('#df-988a75c9-d462-4cb0-8d6a-f41fb964d404 button.colab-df-convert');\n",
              "      buttonEl.style.display =\n",
              "        google.colab.kernel.accessAllowed ? 'block' : 'none';\n",
              "\n",
              "      async function convertToInteractive(key) {\n",
              "        const element = document.querySelector('#df-988a75c9-d462-4cb0-8d6a-f41fb964d404');\n",
              "        const dataTable =\n",
              "          await google.colab.kernel.invokeFunction('convertToInteractive',\n",
              "                                                    [key], {});\n",
              "        if (!dataTable) return;\n",
              "\n",
              "        const docLinkHtml = 'Like what you see? Visit the ' +\n",
              "          '<a target=\"_blank\" href=https://colab.research.google.com/notebooks/data_table.ipynb>data table notebook</a>'\n",
              "          + ' to learn more about interactive tables.';\n",
              "        element.innerHTML = '';\n",
              "        dataTable['output_type'] = 'display_data';\n",
              "        await google.colab.output.renderOutput(dataTable, element);\n",
              "        const docLink = document.createElement('div');\n",
              "        docLink.innerHTML = docLinkHtml;\n",
              "        element.appendChild(docLink);\n",
              "      }\n",
              "    </script>\n",
              "  </div>\n",
              "\n",
              "\n",
              "<div id=\"df-7372db35-ff55-4d3d-92e2-192460c0bee7\">\n",
              "  <button class=\"colab-df-quickchart\" onclick=\"quickchart('df-7372db35-ff55-4d3d-92e2-192460c0bee7')\"\n",
              "            title=\"Suggest charts\"\n",
              "            style=\"display:none;\">\n",
              "\n",
              "<svg xmlns=\"http://www.w3.org/2000/svg\" height=\"24px\"viewBox=\"0 0 24 24\"\n",
              "     width=\"24px\">\n",
              "    <g>\n",
              "        <path d=\"M19 3H5c-1.1 0-2 .9-2 2v14c0 1.1.9 2 2 2h14c1.1 0 2-.9 2-2V5c0-1.1-.9-2-2-2zM9 17H7v-7h2v7zm4 0h-2V7h2v10zm4 0h-2v-4h2v4z\"/>\n",
              "    </g>\n",
              "</svg>\n",
              "  </button>\n",
              "\n",
              "<style>\n",
              "  .colab-df-quickchart {\n",
              "      --bg-color: #E8F0FE;\n",
              "      --fill-color: #1967D2;\n",
              "      --hover-bg-color: #E2EBFA;\n",
              "      --hover-fill-color: #174EA6;\n",
              "      --disabled-fill-color: #AAA;\n",
              "      --disabled-bg-color: #DDD;\n",
              "  }\n",
              "\n",
              "  [theme=dark] .colab-df-quickchart {\n",
              "      --bg-color: #3B4455;\n",
              "      --fill-color: #D2E3FC;\n",
              "      --hover-bg-color: #434B5C;\n",
              "      --hover-fill-color: #FFFFFF;\n",
              "      --disabled-bg-color: #3B4455;\n",
              "      --disabled-fill-color: #666;\n",
              "  }\n",
              "\n",
              "  .colab-df-quickchart {\n",
              "    background-color: var(--bg-color);\n",
              "    border: none;\n",
              "    border-radius: 50%;\n",
              "    cursor: pointer;\n",
              "    display: none;\n",
              "    fill: var(--fill-color);\n",
              "    height: 32px;\n",
              "    padding: 0;\n",
              "    width: 32px;\n",
              "  }\n",
              "\n",
              "  .colab-df-quickchart:hover {\n",
              "    background-color: var(--hover-bg-color);\n",
              "    box-shadow: 0 1px 2px rgba(60, 64, 67, 0.3), 0 1px 3px 1px rgba(60, 64, 67, 0.15);\n",
              "    fill: var(--button-hover-fill-color);\n",
              "  }\n",
              "\n",
              "  .colab-df-quickchart-complete:disabled,\n",
              "  .colab-df-quickchart-complete:disabled:hover {\n",
              "    background-color: var(--disabled-bg-color);\n",
              "    fill: var(--disabled-fill-color);\n",
              "    box-shadow: none;\n",
              "  }\n",
              "\n",
              "  .colab-df-spinner {\n",
              "    border: 2px solid var(--fill-color);\n",
              "    border-color: transparent;\n",
              "    border-bottom-color: var(--fill-color);\n",
              "    animation:\n",
              "      spin 1s steps(1) infinite;\n",
              "  }\n",
              "\n",
              "  @keyframes spin {\n",
              "    0% {\n",
              "      border-color: transparent;\n",
              "      border-bottom-color: var(--fill-color);\n",
              "      border-left-color: var(--fill-color);\n",
              "    }\n",
              "    20% {\n",
              "      border-color: transparent;\n",
              "      border-left-color: var(--fill-color);\n",
              "      border-top-color: var(--fill-color);\n",
              "    }\n",
              "    30% {\n",
              "      border-color: transparent;\n",
              "      border-left-color: var(--fill-color);\n",
              "      border-top-color: var(--fill-color);\n",
              "      border-right-color: var(--fill-color);\n",
              "    }\n",
              "    40% {\n",
              "      border-color: transparent;\n",
              "      border-right-color: var(--fill-color);\n",
              "      border-top-color: var(--fill-color);\n",
              "    }\n",
              "    60% {\n",
              "      border-color: transparent;\n",
              "      border-right-color: var(--fill-color);\n",
              "    }\n",
              "    80% {\n",
              "      border-color: transparent;\n",
              "      border-right-color: var(--fill-color);\n",
              "      border-bottom-color: var(--fill-color);\n",
              "    }\n",
              "    90% {\n",
              "      border-color: transparent;\n",
              "      border-bottom-color: var(--fill-color);\n",
              "    }\n",
              "  }\n",
              "</style>\n",
              "\n",
              "  <script>\n",
              "    async function quickchart(key) {\n",
              "      const quickchartButtonEl =\n",
              "        document.querySelector('#' + key + ' button');\n",
              "      quickchartButtonEl.disabled = true;  // To prevent multiple clicks.\n",
              "      quickchartButtonEl.classList.add('colab-df-spinner');\n",
              "      try {\n",
              "        const charts = await google.colab.kernel.invokeFunction(\n",
              "            'suggestCharts', [key], {});\n",
              "      } catch (error) {\n",
              "        console.error('Error during call to suggestCharts:', error);\n",
              "      }\n",
              "      quickchartButtonEl.classList.remove('colab-df-spinner');\n",
              "      quickchartButtonEl.classList.add('colab-df-quickchart-complete');\n",
              "    }\n",
              "    (() => {\n",
              "      let quickchartButtonEl =\n",
              "        document.querySelector('#df-7372db35-ff55-4d3d-92e2-192460c0bee7 button');\n",
              "      quickchartButtonEl.style.display =\n",
              "        google.colab.kernel.accessAllowed ? 'block' : 'none';\n",
              "    })();\n",
              "  </script>\n",
              "</div>\n",
              "    </div>\n",
              "  </div>\n"
            ]
          },
          "metadata": {},
          "execution_count": 759
        }
      ],
      "source": [
        "happy_high_performers.head(5)"
      ]
    },
    {
      "cell_type": "code",
      "execution_count": 760,
      "metadata": {
        "id": "KRpO1-DqDe3H"
      },
      "outputs": [],
      "source": [
        "# The most interesting categorical columns: Sex, MaritalDesc, Department, RecruitmentSource\n",
        "# The most interesting numerical columns: Salary, DOB, DateofHire, SpecialProjectsCount,\n",
        "# LastPerformanceReview_Date, Absences"
      ]
    },
    {
      "cell_type": "code",
      "execution_count": 761,
      "metadata": {
        "colab": {
          "base_uri": "https://localhost:8080/",
          "height": 617
        },
        "id": "H6E6NyAT_-_V",
        "outputId": "d6210861-f959-4569-c065-bc3e7606871a"
      },
      "outputs": [
        {
          "output_type": "display_data",
          "data": {
            "text/html": [
              "<html>\n",
              "<head><meta charset=\"utf-8\" /></head>\n",
              "<body>\n",
              "    <div>            <script src=\"https://cdnjs.cloudflare.com/ajax/libs/mathjax/2.7.5/MathJax.js?config=TeX-AMS-MML_SVG\"></script><script type=\"text/javascript\">if (window.MathJax && window.MathJax.Hub && window.MathJax.Hub.Config) {window.MathJax.Hub.Config({SVG: {font: \"STIX-Web\"}});}</script>                <script type=\"text/javascript\">window.PlotlyConfig = {MathJaxConfig: 'local'};</script>\n",
              "        <script charset=\"utf-8\" src=\"https://cdn.plot.ly/plotly-2.24.1.min.js\"></script>                <div id=\"5177a8e1-dca1-47c2-b731-f994d765bc18\" class=\"plotly-graph-div\" style=\"height:600px; width:700px;\"></div>            <script type=\"text/javascript\">                                    window.PLOTLYENV=window.PLOTLYENV || {};                                    if (document.getElementById(\"5177a8e1-dca1-47c2-b731-f994d765bc18\")) {                    Plotly.newPlot(                        \"5177a8e1-dca1-47c2-b731-f994d765bc18\",                        [{\"branchvalues\":\"total\",\"domain\":{\"x\":[0.0,1.0],\"y\":[0.0,1.0]},\"hovertemplate\":\"labels=%{label}\\u003cbr\\u003ecount=%{value}\\u003cbr\\u003eparent=%{parent}\\u003cbr\\u003eid=%{id}\\u003cextra\\u003e\\u003c\\u002fextra\\u003e\",\"ids\":[\"F\\u002fMarried\\u002fEmployee Referral\\u002fIT\\u002fIS\",\"F\\u002fSingle\\u002fEmployee Referral\\u002fIT\\u002fIS\",\"M \\u002fSingle\\u002fIndeed\\u002fIT\\u002fIS\",\"M \\u002fWidowed\\u002fEmployee Referral\\u002fProduction       \",\"F\\u002fMarried\\u002fGoogle Search\\u002fProduction       \",\"F\\u002fMarried\\u002fIndeed\\u002fProduction       \",\"M \\u002fSingle\\u002fIndeed\\u002fProduction       \",\"M \\u002fDivorced\\u002fLinkedIn\\u002fProduction       \",\"F\\u002fSingle\\u002fLinkedIn\\u002fProduction       \",\"M \\u002fSingle\\u002fLinkedIn\\u002fProduction       \",\"F\\u002fSingle\\u002fIndeed\\u002fSales\",\"M \\u002fSingle\\u002fDiversity Job Fair\\u002fSoftware Engineering\",\"M \\u002fSingle\\u002fLinkedIn\\u002fSoftware Engineering\",\"M \\u002fSingle\\u002fDiversity Job Fair\",\"F\\u002fMarried\\u002fEmployee Referral\",\"F\\u002fSingle\\u002fEmployee Referral\",\"M \\u002fWidowed\\u002fEmployee Referral\",\"F\\u002fMarried\\u002fGoogle Search\",\"F\\u002fMarried\\u002fIndeed\",\"F\\u002fSingle\\u002fIndeed\",\"M \\u002fSingle\\u002fIndeed\",\"M \\u002fDivorced\\u002fLinkedIn\",\"F\\u002fSingle\\u002fLinkedIn\",\"M \\u002fSingle\\u002fLinkedIn\",\"M \\u002fDivorced\",\"F\\u002fMarried\",\"F\\u002fSingle\",\"M \\u002fSingle\",\"M \\u002fWidowed\",\"F\",\"M \"],\"labels\":[\"IT\\u002fIS\",\"IT\\u002fIS\",\"IT\\u002fIS\",\"Production       \",\"Production       \",\"Production       \",\"Production       \",\"Production       \",\"Production       \",\"Production       \",\"Sales\",\"Software Engineering\",\"Software Engineering\",\"Diversity Job Fair\",\"Employee Referral\",\"Employee Referral\",\"Employee Referral\",\"Google Search\",\"Indeed\",\"Indeed\",\"Indeed\",\"LinkedIn\",\"LinkedIn\",\"LinkedIn\",\"Divorced\",\"Married\",\"Single\",\"Single\",\"Widowed\",\"F\",\"M \"],\"name\":\"\",\"parents\":[\"F\\u002fMarried\\u002fEmployee Referral\",\"F\\u002fSingle\\u002fEmployee Referral\",\"M \\u002fSingle\\u002fIndeed\",\"M \\u002fWidowed\\u002fEmployee Referral\",\"F\\u002fMarried\\u002fGoogle Search\",\"F\\u002fMarried\\u002fIndeed\",\"M \\u002fSingle\\u002fIndeed\",\"M \\u002fDivorced\\u002fLinkedIn\",\"F\\u002fSingle\\u002fLinkedIn\",\"M \\u002fSingle\\u002fLinkedIn\",\"F\\u002fSingle\\u002fIndeed\",\"M \\u002fSingle\\u002fDiversity Job Fair\",\"M \\u002fSingle\\u002fLinkedIn\",\"M \\u002fSingle\",\"F\\u002fMarried\",\"F\\u002fSingle\",\"M \\u002fWidowed\",\"F\\u002fMarried\",\"F\\u002fMarried\",\"F\\u002fSingle\",\"M \\u002fSingle\",\"M \\u002fDivorced\",\"F\\u002fSingle\",\"M \\u002fSingle\",\"M \",\"F\",\"F\",\"M \",\"M \",\"\",\"\"],\"values\":[1,1,2,1,2,1,1,1,1,1,1,1,1,1,1,1,1,2,1,1,3,1,1,2,1,4,3,6,1,7,8],\"type\":\"sunburst\",\"textinfo\":\"label+value\"}],                        {\"template\":{\"data\":{\"histogram2dcontour\":[{\"type\":\"histogram2dcontour\",\"colorbar\":{\"outlinewidth\":0,\"ticks\":\"\"},\"colorscale\":[[0.0,\"#0d0887\"],[0.1111111111111111,\"#46039f\"],[0.2222222222222222,\"#7201a8\"],[0.3333333333333333,\"#9c179e\"],[0.4444444444444444,\"#bd3786\"],[0.5555555555555556,\"#d8576b\"],[0.6666666666666666,\"#ed7953\"],[0.7777777777777778,\"#fb9f3a\"],[0.8888888888888888,\"#fdca26\"],[1.0,\"#f0f921\"]]}],\"choropleth\":[{\"type\":\"choropleth\",\"colorbar\":{\"outlinewidth\":0,\"ticks\":\"\"}}],\"histogram2d\":[{\"type\":\"histogram2d\",\"colorbar\":{\"outlinewidth\":0,\"ticks\":\"\"},\"colorscale\":[[0.0,\"#0d0887\"],[0.1111111111111111,\"#46039f\"],[0.2222222222222222,\"#7201a8\"],[0.3333333333333333,\"#9c179e\"],[0.4444444444444444,\"#bd3786\"],[0.5555555555555556,\"#d8576b\"],[0.6666666666666666,\"#ed7953\"],[0.7777777777777778,\"#fb9f3a\"],[0.8888888888888888,\"#fdca26\"],[1.0,\"#f0f921\"]]}],\"heatmap\":[{\"type\":\"heatmap\",\"colorbar\":{\"outlinewidth\":0,\"ticks\":\"\"},\"colorscale\":[[0.0,\"#0d0887\"],[0.1111111111111111,\"#46039f\"],[0.2222222222222222,\"#7201a8\"],[0.3333333333333333,\"#9c179e\"],[0.4444444444444444,\"#bd3786\"],[0.5555555555555556,\"#d8576b\"],[0.6666666666666666,\"#ed7953\"],[0.7777777777777778,\"#fb9f3a\"],[0.8888888888888888,\"#fdca26\"],[1.0,\"#f0f921\"]]}],\"heatmapgl\":[{\"type\":\"heatmapgl\",\"colorbar\":{\"outlinewidth\":0,\"ticks\":\"\"},\"colorscale\":[[0.0,\"#0d0887\"],[0.1111111111111111,\"#46039f\"],[0.2222222222222222,\"#7201a8\"],[0.3333333333333333,\"#9c179e\"],[0.4444444444444444,\"#bd3786\"],[0.5555555555555556,\"#d8576b\"],[0.6666666666666666,\"#ed7953\"],[0.7777777777777778,\"#fb9f3a\"],[0.8888888888888888,\"#fdca26\"],[1.0,\"#f0f921\"]]}],\"contourcarpet\":[{\"type\":\"contourcarpet\",\"colorbar\":{\"outlinewidth\":0,\"ticks\":\"\"}}],\"contour\":[{\"type\":\"contour\",\"colorbar\":{\"outlinewidth\":0,\"ticks\":\"\"},\"colorscale\":[[0.0,\"#0d0887\"],[0.1111111111111111,\"#46039f\"],[0.2222222222222222,\"#7201a8\"],[0.3333333333333333,\"#9c179e\"],[0.4444444444444444,\"#bd3786\"],[0.5555555555555556,\"#d8576b\"],[0.6666666666666666,\"#ed7953\"],[0.7777777777777778,\"#fb9f3a\"],[0.8888888888888888,\"#fdca26\"],[1.0,\"#f0f921\"]]}],\"surface\":[{\"type\":\"surface\",\"colorbar\":{\"outlinewidth\":0,\"ticks\":\"\"},\"colorscale\":[[0.0,\"#0d0887\"],[0.1111111111111111,\"#46039f\"],[0.2222222222222222,\"#7201a8\"],[0.3333333333333333,\"#9c179e\"],[0.4444444444444444,\"#bd3786\"],[0.5555555555555556,\"#d8576b\"],[0.6666666666666666,\"#ed7953\"],[0.7777777777777778,\"#fb9f3a\"],[0.8888888888888888,\"#fdca26\"],[1.0,\"#f0f921\"]]}],\"mesh3d\":[{\"type\":\"mesh3d\",\"colorbar\":{\"outlinewidth\":0,\"ticks\":\"\"}}],\"scatter\":[{\"fillpattern\":{\"fillmode\":\"overlay\",\"size\":10,\"solidity\":0.2},\"type\":\"scatter\"}],\"parcoords\":[{\"type\":\"parcoords\",\"line\":{\"colorbar\":{\"outlinewidth\":0,\"ticks\":\"\"}}}],\"scatterpolargl\":[{\"type\":\"scatterpolargl\",\"marker\":{\"colorbar\":{\"outlinewidth\":0,\"ticks\":\"\"}}}],\"bar\":[{\"error_x\":{\"color\":\"#2a3f5f\"},\"error_y\":{\"color\":\"#2a3f5f\"},\"marker\":{\"line\":{\"color\":\"#E5ECF6\",\"width\":0.5},\"pattern\":{\"fillmode\":\"overlay\",\"size\":10,\"solidity\":0.2}},\"type\":\"bar\"}],\"scattergeo\":[{\"type\":\"scattergeo\",\"marker\":{\"colorbar\":{\"outlinewidth\":0,\"ticks\":\"\"}}}],\"scatterpolar\":[{\"type\":\"scatterpolar\",\"marker\":{\"colorbar\":{\"outlinewidth\":0,\"ticks\":\"\"}}}],\"histogram\":[{\"marker\":{\"pattern\":{\"fillmode\":\"overlay\",\"size\":10,\"solidity\":0.2}},\"type\":\"histogram\"}],\"scattergl\":[{\"type\":\"scattergl\",\"marker\":{\"colorbar\":{\"outlinewidth\":0,\"ticks\":\"\"}}}],\"scatter3d\":[{\"type\":\"scatter3d\",\"line\":{\"colorbar\":{\"outlinewidth\":0,\"ticks\":\"\"}},\"marker\":{\"colorbar\":{\"outlinewidth\":0,\"ticks\":\"\"}}}],\"scattermapbox\":[{\"type\":\"scattermapbox\",\"marker\":{\"colorbar\":{\"outlinewidth\":0,\"ticks\":\"\"}}}],\"scatterternary\":[{\"type\":\"scatterternary\",\"marker\":{\"colorbar\":{\"outlinewidth\":0,\"ticks\":\"\"}}}],\"scattercarpet\":[{\"type\":\"scattercarpet\",\"marker\":{\"colorbar\":{\"outlinewidth\":0,\"ticks\":\"\"}}}],\"carpet\":[{\"aaxis\":{\"endlinecolor\":\"#2a3f5f\",\"gridcolor\":\"white\",\"linecolor\":\"white\",\"minorgridcolor\":\"white\",\"startlinecolor\":\"#2a3f5f\"},\"baxis\":{\"endlinecolor\":\"#2a3f5f\",\"gridcolor\":\"white\",\"linecolor\":\"white\",\"minorgridcolor\":\"white\",\"startlinecolor\":\"#2a3f5f\"},\"type\":\"carpet\"}],\"table\":[{\"cells\":{\"fill\":{\"color\":\"#EBF0F8\"},\"line\":{\"color\":\"white\"}},\"header\":{\"fill\":{\"color\":\"#C8D4E3\"},\"line\":{\"color\":\"white\"}},\"type\":\"table\"}],\"barpolar\":[{\"marker\":{\"line\":{\"color\":\"#E5ECF6\",\"width\":0.5},\"pattern\":{\"fillmode\":\"overlay\",\"size\":10,\"solidity\":0.2}},\"type\":\"barpolar\"}],\"pie\":[{\"automargin\":true,\"type\":\"pie\"}]},\"layout\":{\"autotypenumbers\":\"strict\",\"colorway\":[\"#636efa\",\"#EF553B\",\"#00cc96\",\"#ab63fa\",\"#FFA15A\",\"#19d3f3\",\"#FF6692\",\"#B6E880\",\"#FF97FF\",\"#FECB52\"],\"font\":{\"color\":\"#2a3f5f\"},\"hovermode\":\"closest\",\"hoverlabel\":{\"align\":\"left\"},\"paper_bgcolor\":\"white\",\"plot_bgcolor\":\"#E5ECF6\",\"polar\":{\"bgcolor\":\"#E5ECF6\",\"angularaxis\":{\"gridcolor\":\"white\",\"linecolor\":\"white\",\"ticks\":\"\"},\"radialaxis\":{\"gridcolor\":\"white\",\"linecolor\":\"white\",\"ticks\":\"\"}},\"ternary\":{\"bgcolor\":\"#E5ECF6\",\"aaxis\":{\"gridcolor\":\"white\",\"linecolor\":\"white\",\"ticks\":\"\"},\"baxis\":{\"gridcolor\":\"white\",\"linecolor\":\"white\",\"ticks\":\"\"},\"caxis\":{\"gridcolor\":\"white\",\"linecolor\":\"white\",\"ticks\":\"\"}},\"coloraxis\":{\"colorbar\":{\"outlinewidth\":0,\"ticks\":\"\"}},\"colorscale\":{\"sequential\":[[0.0,\"#0d0887\"],[0.1111111111111111,\"#46039f\"],[0.2222222222222222,\"#7201a8\"],[0.3333333333333333,\"#9c179e\"],[0.4444444444444444,\"#bd3786\"],[0.5555555555555556,\"#d8576b\"],[0.6666666666666666,\"#ed7953\"],[0.7777777777777778,\"#fb9f3a\"],[0.8888888888888888,\"#fdca26\"],[1.0,\"#f0f921\"]],\"sequentialminus\":[[0.0,\"#0d0887\"],[0.1111111111111111,\"#46039f\"],[0.2222222222222222,\"#7201a8\"],[0.3333333333333333,\"#9c179e\"],[0.4444444444444444,\"#bd3786\"],[0.5555555555555556,\"#d8576b\"],[0.6666666666666666,\"#ed7953\"],[0.7777777777777778,\"#fb9f3a\"],[0.8888888888888888,\"#fdca26\"],[1.0,\"#f0f921\"]],\"diverging\":[[0,\"#8e0152\"],[0.1,\"#c51b7d\"],[0.2,\"#de77ae\"],[0.3,\"#f1b6da\"],[0.4,\"#fde0ef\"],[0.5,\"#f7f7f7\"],[0.6,\"#e6f5d0\"],[0.7,\"#b8e186\"],[0.8,\"#7fbc41\"],[0.9,\"#4d9221\"],[1,\"#276419\"]]},\"xaxis\":{\"gridcolor\":\"white\",\"linecolor\":\"white\",\"ticks\":\"\",\"title\":{\"standoff\":15},\"zerolinecolor\":\"white\",\"automargin\":true,\"zerolinewidth\":2},\"yaxis\":{\"gridcolor\":\"white\",\"linecolor\":\"white\",\"ticks\":\"\",\"title\":{\"standoff\":15},\"zerolinecolor\":\"white\",\"automargin\":true,\"zerolinewidth\":2},\"scene\":{\"xaxis\":{\"backgroundcolor\":\"#E5ECF6\",\"gridcolor\":\"white\",\"linecolor\":\"white\",\"showbackground\":true,\"ticks\":\"\",\"zerolinecolor\":\"white\",\"gridwidth\":2},\"yaxis\":{\"backgroundcolor\":\"#E5ECF6\",\"gridcolor\":\"white\",\"linecolor\":\"white\",\"showbackground\":true,\"ticks\":\"\",\"zerolinecolor\":\"white\",\"gridwidth\":2},\"zaxis\":{\"backgroundcolor\":\"#E5ECF6\",\"gridcolor\":\"white\",\"linecolor\":\"white\",\"showbackground\":true,\"ticks\":\"\",\"zerolinecolor\":\"white\",\"gridwidth\":2}},\"shapedefaults\":{\"line\":{\"color\":\"#2a3f5f\"}},\"annotationdefaults\":{\"arrowcolor\":\"#2a3f5f\",\"arrowhead\":0,\"arrowwidth\":1},\"geo\":{\"bgcolor\":\"white\",\"landcolor\":\"#E5ECF6\",\"subunitcolor\":\"white\",\"showland\":true,\"showlakes\":true,\"lakecolor\":\"white\"},\"title\":{\"x\":0.05},\"mapbox\":{\"style\":\"light\"}}},\"legend\":{\"tracegroupgap\":0},\"margin\":{\"t\":60},\"height\":600,\"width\":700},                        {\"responsive\": true}                    ).then(function(){\n",
              "                            \n",
              "var gd = document.getElementById('5177a8e1-dca1-47c2-b731-f994d765bc18');\n",
              "var x = new MutationObserver(function (mutations, observer) {{\n",
              "        var display = window.getComputedStyle(gd).display;\n",
              "        if (!display || display === 'none') {{\n",
              "            console.log([gd, 'removed!']);\n",
              "            Plotly.purge(gd);\n",
              "            observer.disconnect();\n",
              "        }}\n",
              "}});\n",
              "\n",
              "// Listen for the removal of the full notebook cells\n",
              "var notebookContainer = gd.closest('#notebook-container');\n",
              "if (notebookContainer) {{\n",
              "    x.observe(notebookContainer, {childList: true});\n",
              "}}\n",
              "\n",
              "// Listen for the clearing of the current output cell\n",
              "var outputEl = gd.closest('.output');\n",
              "if (outputEl) {{\n",
              "    x.observe(outputEl, {childList: true});\n",
              "}}\n",
              "\n",
              "                        })                };                            </script>        </div>\n",
              "</body>\n",
              "</html>"
            ]
          },
          "metadata": {}
        }
      ],
      "source": [
        "fig = px.sunburst(happy_high_performers,\n",
        "                  path=['Sex', 'MaritalDesc',\n",
        "                        'RecruitmentSource', 'Department'],\n",
        "                  width=700, height=600)\n",
        "fig.update_traces(textinfo=\"label+value\")\n",
        "fig.show()"
      ]
    },
    {
      "cell_type": "code",
      "execution_count": 762,
      "metadata": {
        "colab": {
          "base_uri": "https://localhost:8080/",
          "height": 449
        },
        "id": "E6z2ikGI0POt",
        "outputId": "9fd91de5-1f3b-4fc6-8e7d-9f1578e9ee07"
      },
      "outputs": [
        {
          "output_type": "display_data",
          "data": {
            "text/plain": [
              "<Figure size 640x480 with 1 Axes>"
            ],
            "image/png": "[encoded data removed]"
          },
          "metadata": {}
        }
      ],
      "source": [
        "ax = sns.scatterplot(x= 'DateofHire', y= 'Salary', data= happy_high_performers,\n",
        "                hue= 'Sex', size= 'Department')\n",
        "ax.set_xlabel('Date of Hire')\n",
        "plt.show()"
      ]
    },
    {
      "cell_type": "code",
      "source": [
        "# So the most recent addition of these happy high performers have still have been at the company for\n",
        "# just over 3 years. All of them are still hired at the company (one of them moved to another position)\n",
        "# except for 3 people that had stayed for the company between 5-7 years"
      ],
      "metadata": {
        "id": "jyzzxObdwk0q"
      },
      "execution_count": 763,
      "outputs": []
    },
    {
      "cell_type": "code",
      "execution_count": 764,
      "metadata": {
        "colab": {
          "base_uri": "https://localhost:8080/",
          "height": 449
        },
        "id": "uBsteOsJzkiq",
        "outputId": "8f2a0402-5368-4f17-9a22-772953b22c19"
      },
      "outputs": [
        {
          "output_type": "display_data",
          "data": {
            "text/plain": [
              "<Figure size 640x480 with 1 Axes>"
            ],
            "image/png": "[encoded data removed]"
          },
          "metadata": {}
        }
      ],
      "source": [
        "ax = sns.scatterplot(x= 'DOB', y= 'Salary', data= happy_high_performers,\n",
        "                size= 'MaritalDesc', hue= 'Sex')\n",
        "ax.set_xlabel('Date of Birth')\n",
        "plt.show()"
      ]
    },
    {
      "cell_type": "code",
      "execution_count": 765,
      "metadata": {
        "colab": {
          "base_uri": "https://localhost:8080/",
          "height": 449
        },
        "id": "XaWW9c7-qFCQ",
        "outputId": "48caeb2b-70a2-4490-a3b2-71ae46a26374"
      },
      "outputs": [
        {
          "output_type": "display_data",
          "data": {
            "text/plain": [
              "<Figure size 640x480 with 1 Axes>"
            ],
            "image/png": "[encoded data removed]"
          },
          "metadata": {}
        }
      ],
      "source": [
        "ax = sns.scatterplot(x= 'LastPerformanceReview_Date', y= 'Absences',\n",
        "                     data= happy_high_performers, hue= 'Sex',\n",
        "                     size= 'Department')\n",
        "ax.set_xlabel('Last Performance Review Date')\n",
        "plt.show()"
      ]
    },
    {
      "cell_type": "code",
      "source": [
        "happy_high_performers.RecruitmentSource.value_counts()"
      ],
      "metadata": {
        "colab": {
          "base_uri": "https://localhost:8080/"
        },
        "id": "YQE4E89Oxap4",
        "outputId": "9c12cd4b-e857-4d8e-ffa7-20e9889b74f1"
      },
      "execution_count": 766,
      "outputs": [
        {
          "output_type": "execute_result",
          "data": {
            "text/plain": [
              "Indeed                5\n",
              "LinkedIn              4\n",
              "Employee Referral     3\n",
              "Google Search         2\n",
              "Diversity Job Fair    1\n",
              "Name: RecruitmentSource, dtype: int64"
            ]
          },
          "metadata": {},
          "execution_count": 766
        }
      ]
    },
    {
      "cell_type": "code",
      "source": [
        "happy_high_performers.Department.value_counts()"
      ],
      "metadata": {
        "colab": {
          "base_uri": "https://localhost:8080/"
        },
        "id": "L53B0220xhfy",
        "outputId": "d163fe65-3475-47a6-a105-4706dc2047a0"
      },
      "execution_count": 767,
      "outputs": [
        {
          "output_type": "execute_result",
          "data": {
            "text/plain": [
              "Production              8\n",
              "IT/IS                   4\n",
              "Software Engineering    2\n",
              "Sales                   1\n",
              "Name: Department, dtype: int64"
            ]
          },
          "metadata": {},
          "execution_count": 767
        }
      ]
    },
    {
      "cell_type": "code",
      "source": [
        "df.Department.value_counts()"
      ],
      "metadata": {
        "colab": {
          "base_uri": "https://localhost:8080/"
        },
        "id": "Ch9XY_gFx-Aw",
        "outputId": "d907880a-db6e-4c9a-f889-498358235786"
      },
      "execution_count": 768,
      "outputs": [
        {
          "output_type": "execute_result",
          "data": {
            "text/plain": [
              "Production              209\n",
              "IT/IS                    50\n",
              "Sales                    31\n",
              "Software Engineering     11\n",
              "Admin Offices             9\n",
              "Executive Office          1\n",
              "Name: Department, dtype: int64"
            ]
          },
          "metadata": {},
          "execution_count": 768
        }
      ]
    },
    {
      "cell_type": "code",
      "execution_count": 769,
      "metadata": {
        "colab": {
          "base_uri": "https://localhost:8080/"
        },
        "id": "M8vuJc-8vP9x",
        "outputId": "83c04a25-3af7-4b6f-b246-7abc59e55474"
      },
      "outputs": [
        {
          "output_type": "execute_result",
          "data": {
            "text/plain": [
              "282   2006-09-01\n",
              "222   2007-05-11\n",
              "280   2007-06-25\n",
              "307   2008-02-09\n",
              "3     2008-07-01\n",
              "         ...    \n",
              "275   2017-04-20\n",
              "120   2017-04-20\n",
              "240   2017-07-01\n",
              "197   2017-10-02\n",
              "64    2018-09-07\n",
              "Name: DateofHire, Length: 311, dtype: datetime64[ns]"
            ]
          },
          "metadata": {},
          "execution_count": 769
        }
      ],
      "source": [
        "# To get a feel of how recent this hiring is, let's sort the DateofHire column by date:\n",
        "df_sorted_by_date_of_hire = df.sort_values(by='DateofHire')\n",
        "df_sorted_by_date_of_hire['DateofHire']"
      ]
    },
    {
      "cell_type": "code",
      "execution_count": 770,
      "metadata": {
        "colab": {
          "base_uri": "https://localhost:8080/",
          "height": 449
        },
        "id": "QOZGzFruI6tS",
        "outputId": "120e7bfc-3568-48cd-b198-8ff5f2d3bbd8"
      },
      "outputs": [
        {
          "output_type": "display_data",
          "data": {
            "text/plain": [
              "<Figure size 640x480 with 1 Axes>"
            ],
            "image/png": "[encoded data removed]"
          },
          "metadata": {}
        }
      ],
      "source": [
        "ax = sns.countplot(x='SpecialProjectsCount',\n",
        "                   data=happy_high_performers, hue= \"Department\")\n",
        "for i in range(4):\n",
        " ax.bar_label(ax.containers[i])\n",
        "ax.set(xlabel= 'Special Project Count', ylabel=None, yticks=[])\n",
        "plt.show()"
      ]
    },
    {
      "cell_type": "code",
      "source": [
        "ax = sns.countplot(x='SpecialProjectsCount',\n",
        "                   data=high_earners, hue= \"Department\")\n",
        "for i in range(4):\n",
        " ax.bar_label(ax.containers[i])\n",
        "ax.set(xlabel= 'Special Project Count', ylabel=None, yticks=[])\n",
        "plt.show()"
      ],
      "metadata": {
        "colab": {
          "base_uri": "https://localhost:8080/",
          "height": 449
        },
        "id": "QLQtUOxP5eRE",
        "outputId": "069702e8-9ce8-4e61-9063-70d1d1961990"
      },
      "execution_count": 771,
      "outputs": [
        {
          "output_type": "display_data",
          "data": {
            "text/plain": [
              "<Figure size 640x480 with 1 Axes>"
            ],
            "image/png": "[encoded data removed]"
          },
          "metadata": {}
        }
      ]
    },
    {
      "cell_type": "code",
      "source": [
        "df.groupby([\"Department\"])[\"SpecialProjectsCount\"].value_counts()"
      ],
      "metadata": {
        "colab": {
          "base_uri": "https://localhost:8080/"
        },
        "id": "2qJpqXC_7XDP",
        "outputId": "6a5f7ede-62e0-467d-bf5e-aaa5b454ed95"
      },
      "execution_count": 772,
      "outputs": [
        {
          "output_type": "execute_result",
          "data": {
            "text/plain": [
              "Department            SpecialProjectsCount\n",
              "Admin Offices         4                         3\n",
              "                      5                         2\n",
              "                      0                         1\n",
              "                      2                         1\n",
              "                      3                         1\n",
              "                      6                         1\n",
              "Executive Office      0                         1\n",
              "IT/IS                 6                        18\n",
              "                      5                        16\n",
              "                      7                        12\n",
              "                      4                         2\n",
              "                      8                         2\n",
              "Production            0                       207\n",
              "                      1                         1\n",
              "                      3                         1\n",
              "Sales                 0                        31\n",
              "Software Engineering  4                         4\n",
              "                      5                         3\n",
              "                      6                         2\n",
              "                      0                         1\n",
              "                      3                         1\n",
              "Name: SpecialProjectsCount, dtype: int64"
            ]
          },
          "metadata": {},
          "execution_count": 772
        }
      ]
    },
    {
      "cell_type": "code",
      "execution_count": 773,
      "metadata": {
        "id": "-GGO3PphJS_W"
      },
      "outputs": [],
      "source": [
        "# Production is the only department where there has been 0 special projects\n",
        "# Not correct haha. But there has only been 4 in total for the lifetime of the organization"
      ]
    },
    {
      "cell_type": "code",
      "execution_count": 774,
      "metadata": {
        "id": "Y1Cqmxnn0cyJ"
      },
      "outputs": [],
      "source": [
        "# In conclusion about the happy high performance:\n",
        "# All of them are US Citizens and none of them are Hispanic Latino. Just happens to be the\n",
        "# case at this specific company, I don't believe we can make any meaningful inference from this\n",
        "# Only one of them got hired at the company through the Diversity Job Fair\n",
        "# Salary-wise most of them are below 100 000 so nothing to out of the ordinary. There are 3 of them\n",
        "# between 100 000 and 200 000 and a single one above 200 000. The highest paid of these 15 are in IT\n",
        "# The majority of these happy high performers have had their last performance review within the last\n",
        "# year! Furthermore, a lot of them have 10+ absences! Presumably excused ones. We love to see it"
      ]
    },
    {
      "cell_type": "code",
      "execution_count": 775,
      "metadata": {
        "id": "jYtjfDFE254u"
      },
      "outputs": [],
      "source": [
        "# Now that we've looked at some of the happiest people at the company, let's look closer at these\n",
        "# 14 people that quit the company due to unhappy they were"
      ]
    },
    {
      "cell_type": "code",
      "execution_count": 776,
      "metadata": {
        "id": "4mkCow6D3Vgd"
      },
      "outputs": [],
      "source": [
        "unhappy = df.loc[(df['TermReason'] == 'unhappy') | (df['EmpSatisfaction'] == 1)]"
      ]
    },
    {
      "cell_type": "code",
      "source": [
        "unhappy.head(5)"
      ],
      "metadata": {
        "colab": {
          "base_uri": "https://localhost:8080/",
          "height": 399
        },
        "id": "5AtzICwb-3rX",
        "outputId": "7d04eef8-b7be-48f9-daad-c6e1b67386e6"
      },
      "execution_count": 777,
      "outputs": [
        {
          "output_type": "execute_result",
          "data": {
            "text/plain": [
              "    Salary                  Position        DOB Sex MaritalDesc CitizenDesc  \\\n",
              "11   47211   Production Technician I 1974-02-21  M      Married  US Citizen   \n",
              "49   64066  Production Technician II 1981-08-31   F     Married  US Citizen   \n",
              "65   55722   Production Technician I 1977-10-31  M      Married  US Citizen   \n",
              "72   59231        Area Sales Manager 1987-05-14   F      Single  US Citizen   \n",
              "83   56847  Production Technician II 1989-08-25   F   Separated  US Citizen   \n",
              "\n",
              "   HispanicLatino DateofHire         TermReason         Department  \\\n",
              "11            Yes 2012-02-04            unhappy  Production          \n",
              "49             No 2011-05-16            unhappy  Production          \n",
              "65             No 2011-05-16            unhappy  Production          \n",
              "72            Yes 2012-02-20  N/A-StillEmployed              Sales   \n",
              "83             No 2014-07-07  N/A-StillEmployed  Production          \n",
              "\n",
              "     RecruitmentSource PerformanceScore  EmpSatisfaction  \\\n",
              "11  Diversity Job Fair      Fully Meets                3   \n",
              "49       Google Search      Fully Meets                5   \n",
              "65              Indeed      Fully Meets                4   \n",
              "72             Website              PIP                1   \n",
              "83              Indeed              PIP                1   \n",
              "\n",
              "    SpecialProjectsCount LastPerformanceReview_Date  DaysLateLast30  Absences  \n",
              "11                     0                 2016-06-05               0        15  \n",
              "49                     0                 2012-03-05               0         9  \n",
              "65                     0                 2016-02-04               0        14  \n",
              "72                     0                 2019-01-29               2        17  \n",
              "83                     0                 2019-02-25               2         5  "
            ],
            "text/html": [
              "\n",
              "  <div id=\"df-0696e53e-060d-400f-975b-a63a9cb95e93\" class=\"colab-df-container\">\n",
              "    <div>\n",
              "<style scoped>\n",
              "    .dataframe tbody tr th:only-of-type {\n",
              "        vertical-align: middle;\n",
              "    }\n",
              "\n",
              "    .dataframe tbody tr th {\n",
              "        vertical-align: top;\n",
              "    }\n",
              "\n",
              "    .dataframe thead th {\n",
              "        text-align: right;\n",
              "    }\n",
              "</style>\n",
              "<table border=\"1\" class=\"dataframe\">\n",
              "  <thead>\n",
              "    <tr style=\"text-align: right;\">\n",
              "      <th></th>\n",
              "      <th>Salary</th>\n",
              "      <th>Position</th>\n",
              "      <th>DOB</th>\n",
              "      <th>Sex</th>\n",
              "      <th>MaritalDesc</th>\n",
              "      <th>CitizenDesc</th>\n",
              "      <th>HispanicLatino</th>\n",
              "      <th>DateofHire</th>\n",
              "      <th>TermReason</th>\n",
              "      <th>Department</th>\n",
              "      <th>RecruitmentSource</th>\n",
              "      <th>PerformanceScore</th>\n",
              "      <th>EmpSatisfaction</th>\n",
              "      <th>SpecialProjectsCount</th>\n",
              "      <th>LastPerformanceReview_Date</th>\n",
              "      <th>DaysLateLast30</th>\n",
              "      <th>Absences</th>\n",
              "    </tr>\n",
              "  </thead>\n",
              "  <tbody>\n",
              "    <tr>\n",
              "      <th>11</th>\n",
              "      <td>47211</td>\n",
              "      <td>Production Technician I</td>\n",
              "      <td>1974-02-21</td>\n",
              "      <td>M</td>\n",
              "      <td>Married</td>\n",
              "      <td>US Citizen</td>\n",
              "      <td>Yes</td>\n",
              "      <td>2012-02-04</td>\n",
              "      <td>unhappy</td>\n",
              "      <td>Production</td>\n",
              "      <td>Diversity Job Fair</td>\n",
              "      <td>Fully Meets</td>\n",
              "      <td>3</td>\n",
              "      <td>0</td>\n",
              "      <td>2016-06-05</td>\n",
              "      <td>0</td>\n",
              "      <td>15</td>\n",
              "    </tr>\n",
              "    <tr>\n",
              "      <th>49</th>\n",
              "      <td>64066</td>\n",
              "      <td>Production Technician II</td>\n",
              "      <td>1981-08-31</td>\n",
              "      <td>F</td>\n",
              "      <td>Married</td>\n",
              "      <td>US Citizen</td>\n",
              "      <td>No</td>\n",
              "      <td>2011-05-16</td>\n",
              "      <td>unhappy</td>\n",
              "      <td>Production</td>\n",
              "      <td>Google Search</td>\n",
              "      <td>Fully Meets</td>\n",
              "      <td>5</td>\n",
              "      <td>0</td>\n",
              "      <td>2012-03-05</td>\n",
              "      <td>0</td>\n",
              "      <td>9</td>\n",
              "    </tr>\n",
              "    <tr>\n",
              "      <th>65</th>\n",
              "      <td>55722</td>\n",
              "      <td>Production Technician I</td>\n",
              "      <td>1977-10-31</td>\n",
              "      <td>M</td>\n",
              "      <td>Married</td>\n",
              "      <td>US Citizen</td>\n",
              "      <td>No</td>\n",
              "      <td>2011-05-16</td>\n",
              "      <td>unhappy</td>\n",
              "      <td>Production</td>\n",
              "      <td>Indeed</td>\n",
              "      <td>Fully Meets</td>\n",
              "      <td>4</td>\n",
              "      <td>0</td>\n",
              "      <td>2016-02-04</td>\n",
              "      <td>0</td>\n",
              "      <td>14</td>\n",
              "    </tr>\n",
              "    <tr>\n",
              "      <th>72</th>\n",
              "      <td>59231</td>\n",
              "      <td>Area Sales Manager</td>\n",
              "      <td>1987-05-14</td>\n",
              "      <td>F</td>\n",
              "      <td>Single</td>\n",
              "      <td>US Citizen</td>\n",
              "      <td>Yes</td>\n",
              "      <td>2012-02-20</td>\n",
              "      <td>N/A-StillEmployed</td>\n",
              "      <td>Sales</td>\n",
              "      <td>Website</td>\n",
              "      <td>PIP</td>\n",
              "      <td>1</td>\n",
              "      <td>0</td>\n",
              "      <td>2019-01-29</td>\n",
              "      <td>2</td>\n",
              "      <td>17</td>\n",
              "    </tr>\n",
              "    <tr>\n",
              "      <th>83</th>\n",
              "      <td>56847</td>\n",
              "      <td>Production Technician II</td>\n",
              "      <td>1989-08-25</td>\n",
              "      <td>F</td>\n",
              "      <td>Separated</td>\n",
              "      <td>US Citizen</td>\n",
              "      <td>No</td>\n",
              "      <td>2014-07-07</td>\n",
              "      <td>N/A-StillEmployed</td>\n",
              "      <td>Production</td>\n",
              "      <td>Indeed</td>\n",
              "      <td>PIP</td>\n",
              "      <td>1</td>\n",
              "      <td>0</td>\n",
              "      <td>2019-02-25</td>\n",
              "      <td>2</td>\n",
              "      <td>5</td>\n",
              "    </tr>\n",
              "  </tbody>\n",
              "</table>\n",
              "</div>\n",
              "    <div class=\"colab-df-buttons\">\n",
              "\n",
              "  <div class=\"colab-df-container\">\n",
              "    <button class=\"colab-df-convert\" onclick=\"convertToInteractive('df-0696e53e-060d-400f-975b-a63a9cb95e93')\"\n",
              "            title=\"Convert this dataframe to an interactive table.\"\n",
              "            style=\"display:none;\">\n",
              "\n",
              "  <svg xmlns=\"http://www.w3.org/2000/svg\" height=\"24px\" viewBox=\"0 -960 960 960\">\n",
              "    <path d=\"M120-120v-720h720v720H120Zm60-500h600v-160H180v160Zm220 220h160v-160H400v160Zm0 220h160v-160H400v160ZM180-400h160v-160H180v160Zm440 0h160v-160H620v160ZM180-180h160v-160H180v160Zm440 0h160v-160H620v160Z\"/>\n",
              "  </svg>\n",
              "    </button>\n",
              "\n",
              "  <style>\n",
              "    .colab-df-container {\n",
              "      display:flex;\n",
              "      gap: 12px;\n",
              "    }\n",
              "\n",
              "    .colab-df-convert {\n",
              "      background-color: #E8F0FE;\n",
              "      border: none;\n",
              "      border-radius: 50%;\n",
              "      cursor: pointer;\n",
              "      display: none;\n",
              "      fill: #1967D2;\n",
              "      height: 32px;\n",
              "      padding: 0 0 0 0;\n",
              "      width: 32px;\n",
              "    }\n",
              "\n",
              "    .colab-df-convert:hover {\n",
              "      background-color: #E2EBFA;\n",
              "      box-shadow: 0px 1px 2px rgba(60, 64, 67, 0.3), 0px 1px 3px 1px rgba(60, 64, 67, 0.15);\n",
              "      fill: #174EA6;\n",
              "    }\n",
              "\n",
              "    .colab-df-buttons div {\n",
              "      margin-bottom: 4px;\n",
              "    }\n",
              "\n",
              "    [theme=dark] .colab-df-convert {\n",
              "      background-color: #3B4455;\n",
              "      fill: #D2E3FC;\n",
              "    }\n",
              "\n",
              "    [theme=dark] .colab-df-convert:hover {\n",
              "      background-color: #434B5C;\n",
              "      box-shadow: 0px 1px 3px 1px rgba(0, 0, 0, 0.15);\n",
              "      filter: drop-shadow(0px 1px 2px rgba(0, 0, 0, 0.3));\n",
              "      fill: #FFFFFF;\n",
              "    }\n",
              "  </style>\n",
              "\n",
              "    <script>\n",
              "      const buttonEl =\n",
              "        document.querySelector('#df-0696e53e-060d-400f-975b-a63a9cb95e93 button.colab-df-convert');\n",
              "      buttonEl.style.display =\n",
              "        google.colab.kernel.accessAllowed ? 'block' : 'none';\n",
              "\n",
              "      async function convertToInteractive(key) {\n",
              "        const element = document.querySelector('#df-0696e53e-060d-400f-975b-a63a9cb95e93');\n",
              "        const dataTable =\n",
              "          await google.colab.kernel.invokeFunction('convertToInteractive',\n",
              "                                                    [key], {});\n",
              "        if (!dataTable) return;\n",
              "\n",
              "        const docLinkHtml = 'Like what you see? Visit the ' +\n",
              "          '<a target=\"_blank\" href=https://colab.research.google.com/notebooks/data_table.ipynb>data table notebook</a>'\n",
              "          + ' to learn more about interactive tables.';\n",
              "        element.innerHTML = '';\n",
              "        dataTable['output_type'] = 'display_data';\n",
              "        await google.colab.output.renderOutput(dataTable, element);\n",
              "        const docLink = document.createElement('div');\n",
              "        docLink.innerHTML = docLinkHtml;\n",
              "        element.appendChild(docLink);\n",
              "      }\n",
              "    </script>\n",
              "  </div>\n",
              "\n",
              "\n",
              "<div id=\"df-a27bbe3a-3c27-44ed-9dcd-75e212fcd3d8\">\n",
              "  <button class=\"colab-df-quickchart\" onclick=\"quickchart('df-a27bbe3a-3c27-44ed-9dcd-75e212fcd3d8')\"\n",
              "            title=\"Suggest charts\"\n",
              "            style=\"display:none;\">\n",
              "\n",
              "<svg xmlns=\"http://www.w3.org/2000/svg\" height=\"24px\"viewBox=\"0 0 24 24\"\n",
              "     width=\"24px\">\n",
              "    <g>\n",
              "        <path d=\"M19 3H5c-1.1 0-2 .9-2 2v14c0 1.1.9 2 2 2h14c1.1 0 2-.9 2-2V5c0-1.1-.9-2-2-2zM9 17H7v-7h2v7zm4 0h-2V7h2v10zm4 0h-2v-4h2v4z\"/>\n",
              "    </g>\n",
              "</svg>\n",
              "  </button>\n",
              "\n",
              "<style>\n",
              "  .colab-df-quickchart {\n",
              "      --bg-color: #E8F0FE;\n",
              "      --fill-color: #1967D2;\n",
              "      --hover-bg-color: #E2EBFA;\n",
              "      --hover-fill-color: #174EA6;\n",
              "      --disabled-fill-color: #AAA;\n",
              "      --disabled-bg-color: #DDD;\n",
              "  }\n",
              "\n",
              "  [theme=dark] .colab-df-quickchart {\n",
              "      --bg-color: #3B4455;\n",
              "      --fill-color: #D2E3FC;\n",
              "      --hover-bg-color: #434B5C;\n",
              "      --hover-fill-color: #FFFFFF;\n",
              "      --disabled-bg-color: #3B4455;\n",
              "      --disabled-fill-color: #666;\n",
              "  }\n",
              "\n",
              "  .colab-df-quickchart {\n",
              "    background-color: var(--bg-color);\n",
              "    border: none;\n",
              "    border-radius: 50%;\n",
              "    cursor: pointer;\n",
              "    display: none;\n",
              "    fill: var(--fill-color);\n",
              "    height: 32px;\n",
              "    padding: 0;\n",
              "    width: 32px;\n",
              "  }\n",
              "\n",
              "  .colab-df-quickchart:hover {\n",
              "    background-color: var(--hover-bg-color);\n",
              "    box-shadow: 0 1px 2px rgba(60, 64, 67, 0.3), 0 1px 3px 1px rgba(60, 64, 67, 0.15);\n",
              "    fill: var(--button-hover-fill-color);\n",
              "  }\n",
              "\n",
              "  .colab-df-quickchart-complete:disabled,\n",
              "  .colab-df-quickchart-complete:disabled:hover {\n",
              "    background-color: var(--disabled-bg-color);\n",
              "    fill: var(--disabled-fill-color);\n",
              "    box-shadow: none;\n",
              "  }\n",
              "\n",
              "  .colab-df-spinner {\n",
              "    border: 2px solid var(--fill-color);\n",
              "    border-color: transparent;\n",
              "    border-bottom-color: var(--fill-color);\n",
              "    animation:\n",
              "      spin 1s steps(1) infinite;\n",
              "  }\n",
              "\n",
              "  @keyframes spin {\n",
              "    0% {\n",
              "      border-color: transparent;\n",
              "      border-bottom-color: var(--fill-color);\n",
              "      border-left-color: var(--fill-color);\n",
              "    }\n",
              "    20% {\n",
              "      border-color: transparent;\n",
              "      border-left-color: var(--fill-color);\n",
              "      border-top-color: var(--fill-color);\n",
              "    }\n",
              "    30% {\n",
              "      border-color: transparent;\n",
              "      border-left-color: var(--fill-color);\n",
              "      border-top-color: var(--fill-color);\n",
              "      border-right-color: var(--fill-color);\n",
              "    }\n",
              "    40% {\n",
              "      border-color: transparent;\n",
              "      border-right-color: var(--fill-color);\n",
              "      border-top-color: var(--fill-color);\n",
              "    }\n",
              "    60% {\n",
              "      border-color: transparent;\n",
              "      border-right-color: var(--fill-color);\n",
              "    }\n",
              "    80% {\n",
              "      border-color: transparent;\n",
              "      border-right-color: var(--fill-color);\n",
              "      border-bottom-color: var(--fill-color);\n",
              "    }\n",
              "    90% {\n",
              "      border-color: transparent;\n",
              "      border-bottom-color: var(--fill-color);\n",
              "    }\n",
              "  }\n",
              "</style>\n",
              "\n",
              "  <script>\n",
              "    async function quickchart(key) {\n",
              "      const quickchartButtonEl =\n",
              "        document.querySelector('#' + key + ' button');\n",
              "      quickchartButtonEl.disabled = true;  // To prevent multiple clicks.\n",
              "      quickchartButtonEl.classList.add('colab-df-spinner');\n",
              "      try {\n",
              "        const charts = await google.colab.kernel.invokeFunction(\n",
              "            'suggestCharts', [key], {});\n",
              "      } catch (error) {\n",
              "        console.error('Error during call to suggestCharts:', error);\n",
              "      }\n",
              "      quickchartButtonEl.classList.remove('colab-df-spinner');\n",
              "      quickchartButtonEl.classList.add('colab-df-quickchart-complete');\n",
              "    }\n",
              "    (() => {\n",
              "      let quickchartButtonEl =\n",
              "        document.querySelector('#df-a27bbe3a-3c27-44ed-9dcd-75e212fcd3d8 button');\n",
              "      quickchartButtonEl.style.display =\n",
              "        google.colab.kernel.accessAllowed ? 'block' : 'none';\n",
              "    })();\n",
              "  </script>\n",
              "</div>\n",
              "    </div>\n",
              "  </div>\n"
            ]
          },
          "metadata": {},
          "execution_count": 777
        }
      ]
    },
    {
      "cell_type": "code",
      "source": [
        "unhappy[\"Salary\"].describe()"
      ],
      "metadata": {
        "colab": {
          "base_uri": "https://localhost:8080/"
        },
        "id": "XcvRmJbQDHJ_",
        "outputId": "81fd439e-d2a8-4e09-ef86-3cefacfea05c"
      },
      "execution_count": 778,
      "outputs": [
        {
          "output_type": "execute_result",
          "data": {
            "text/plain": [
              "count       16.000000\n",
              "mean     60935.187500\n",
              "std       9812.783535\n",
              "min      46430.000000\n",
              "25%      55576.500000\n",
              "50%      59750.500000\n",
              "75%      65095.000000\n",
              "max      83082.000000\n",
              "Name: Salary, dtype: float64"
            ]
          },
          "metadata": {},
          "execution_count": 778
        }
      ]
    },
    {
      "cell_type": "code",
      "execution_count": 779,
      "metadata": {
        "colab": {
          "base_uri": "https://localhost:8080/"
        },
        "id": "3AhnL4233gAz",
        "outputId": "88becd1d-9830-48e8-c366-5fdedd690686"
      },
      "outputs": [
        {
          "output_type": "execute_result",
          "data": {
            "text/plain": [
              "No     14\n",
              "Yes     2\n",
              "Name: HispanicLatino, dtype: int64"
            ]
          },
          "metadata": {},
          "execution_count": 779
        }
      ],
      "source": [
        "unhappy.HispanicLatino.value_counts()"
      ]
    },
    {
      "cell_type": "code",
      "execution_count": 780,
      "metadata": {
        "colab": {
          "base_uri": "https://localhost:8080/"
        },
        "id": "xSPDQlIZ4vaL",
        "outputId": "f563cdeb-d768-4642-cadf-412494cc31d3"
      },
      "outputs": [
        {
          "output_type": "execute_result",
          "data": {
            "text/plain": [
              "Production           15\n",
              "Sales                 1\n",
              "Name: Department, dtype: int64"
            ]
          },
          "metadata": {},
          "execution_count": 780
        }
      ],
      "source": [
        "unhappy.Department.value_counts()"
      ]
    },
    {
      "cell_type": "code",
      "execution_count": 781,
      "metadata": {
        "colab": {
          "base_uri": "https://localhost:8080/"
        },
        "id": "-f02GCHw54r8",
        "outputId": "833e881a-6e64-470b-e3eb-a4ce444ad1e1"
      },
      "outputs": [
        {
          "output_type": "execute_result",
          "data": {
            "text/plain": [
              "US Citizen             15\n",
              "Eligible NonCitizen     1\n",
              "Name: CitizenDesc, dtype: int64"
            ]
          },
          "metadata": {},
          "execution_count": 781
        }
      ],
      "source": [
        "unhappy.CitizenDesc.value_counts()"
      ]
    },
    {
      "cell_type": "code",
      "execution_count": 782,
      "metadata": {
        "colab": {
          "base_uri": "https://localhost:8080/"
        },
        "id": "DbL59caZmyOl",
        "outputId": "ddc8d7bc-4b9a-43d6-9b2c-13e86ff2a5e7"
      },
      "outputs": [
        {
          "output_type": "execute_result",
          "data": {
            "text/plain": [
              "Indeed                5\n",
              "LinkedIn              4\n",
              "Google Search         2\n",
              "Website               2\n",
              "CareerBuilder         2\n",
              "Diversity Job Fair    1\n",
              "Name: RecruitmentSource, dtype: int64"
            ]
          },
          "metadata": {},
          "execution_count": 782
        }
      ],
      "source": [
        "unhappy.RecruitmentSource.value_counts()"
      ]
    },
    {
      "cell_type": "code",
      "execution_count": 783,
      "metadata": {
        "colab": {
          "base_uri": "https://localhost:8080/"
        },
        "id": "Gz4hN0rVn7K-",
        "outputId": "da02b0a5-6155-4f18-a248-0086267c45f9"
      },
      "outputs": [
        {
          "output_type": "execute_result",
          "data": {
            "text/plain": [
              "TermReason         EmpSatisfaction\n",
              "N/A-StillEmployed  1                  2\n",
              "unhappy            3                  5\n",
              "                   4                  4\n",
              "                   5                  3\n",
              "                   2                  2\n",
              "Name: EmpSatisfaction, dtype: int64"
            ]
          },
          "metadata": {},
          "execution_count": 783
        }
      ],
      "source": [
        "unhappy.groupby('TermReason')['EmpSatisfaction'].value_counts()"
      ]
    },
    {
      "cell_type": "code",
      "execution_count": 784,
      "metadata": {
        "id": "mAXS1NWD3r08"
      },
      "outputs": [],
      "source": [
        "unhappy.drop(['TermReason'], axis=1, inplace=True)"
      ]
    },
    {
      "cell_type": "code",
      "execution_count": 785,
      "metadata": {
        "colab": {
          "base_uri": "https://localhost:8080/",
          "height": 617
        },
        "id": "Dp_ZcRkf_DiA",
        "outputId": "1cf50034-17fa-4bbc-f98a-23967310105e"
      },
      "outputs": [
        {
          "output_type": "display_data",
          "data": {
            "text/html": [
              "<html>\n",
              "<head><meta charset=\"utf-8\" /></head>\n",
              "<body>\n",
              "    <div>            <script src=\"https://cdnjs.cloudflare.com/ajax/libs/mathjax/2.7.5/MathJax.js?config=TeX-AMS-MML_SVG\"></script><script type=\"text/javascript\">if (window.MathJax && window.MathJax.Hub && window.MathJax.Hub.Config) {window.MathJax.Hub.Config({SVG: {font: \"STIX-Web\"}});}</script>                <script type=\"text/javascript\">window.PlotlyConfig = {MathJaxConfig: 'local'};</script>\n",
              "        <script charset=\"utf-8\" src=\"https://cdn.plot.ly/plotly-2.24.1.min.js\"></script>                <div id=\"66a45c42-9de2-4f04-9483-5ce077aeae16\" class=\"plotly-graph-div\" style=\"height:600px; width:700px;\"></div>            <script type=\"text/javascript\">                                    window.PLOTLYENV=window.PLOTLYENV || {};                                    if (document.getElementById(\"66a45c42-9de2-4f04-9483-5ce077aeae16\")) {                    Plotly.newPlot(                        \"66a45c42-9de2-4f04-9483-5ce077aeae16\",                        [{\"branchvalues\":\"total\",\"domain\":{\"x\":[0.0,1.0],\"y\":[0.0,1.0]},\"hovertemplate\":\"labels=%{label}\\u003cbr\\u003ecount=%{value}\\u003cbr\\u003eparent=%{parent}\\u003cbr\\u003eid=%{id}\\u003cextra\\u003e\\u003c\\u002fextra\\u003e\",\"ids\":[\"F\\u002fMarried\\u002fCareerBuilder\",\"M \\u002fMarried\\u002fDiversity Job Fair\",\"F\\u002fDivorced\\u002fGoogle Search\",\"F\\u002fMarried\\u002fGoogle Search\",\"F\\u002fDivorced\\u002fIndeed\",\"F\\u002fMarried\\u002fIndeed\",\"M \\u002fMarried\\u002fIndeed\",\"F\\u002fSeparated\\u002fIndeed\",\"F\\u002fDivorced\\u002fLinkedIn\",\"F\\u002fMarried\\u002fLinkedIn\",\"F\\u002fSingle\\u002fLinkedIn\",\"M \\u002fSingle\\u002fLinkedIn\",\"M \\u002fMarried\\u002fWebsite\",\"F\\u002fSingle\\u002fWebsite\",\"F\\u002fDivorced\",\"F\\u002fMarried\",\"M \\u002fMarried\",\"F\\u002fSeparated\",\"F\\u002fSingle\",\"M \\u002fSingle\",\"F\",\"M \"],\"labels\":[\"CareerBuilder\",\"Diversity Job Fair\",\"Google Search\",\"Google Search\",\"Indeed\",\"Indeed\",\"Indeed\",\"Indeed\",\"LinkedIn\",\"LinkedIn\",\"LinkedIn\",\"LinkedIn\",\"Website\",\"Website\",\"Divorced\",\"Married\",\"Married\",\"Separated\",\"Single\",\"Single\",\"F\",\"M \"],\"name\":\"\",\"parents\":[\"F\\u002fMarried\",\"M \\u002fMarried\",\"F\\u002fDivorced\",\"F\\u002fMarried\",\"F\\u002fDivorced\",\"F\\u002fMarried\",\"M \\u002fMarried\",\"F\\u002fSeparated\",\"F\\u002fDivorced\",\"F\\u002fMarried\",\"F\\u002fSingle\",\"M \\u002fSingle\",\"M \\u002fMarried\",\"F\\u002fSingle\",\"F\",\"F\",\"M \",\"F\",\"F\",\"M \",\"\",\"\"],\"values\":[2,1,1,1,1,1,2,1,1,1,1,1,1,1,3,5,4,1,2,1,11,5],\"type\":\"sunburst\",\"textinfo\":\"label+value\"}],                        {\"template\":{\"data\":{\"histogram2dcontour\":[{\"type\":\"histogram2dcontour\",\"colorbar\":{\"outlinewidth\":0,\"ticks\":\"\"},\"colorscale\":[[0.0,\"#0d0887\"],[0.1111111111111111,\"#46039f\"],[0.2222222222222222,\"#7201a8\"],[0.3333333333333333,\"#9c179e\"],[0.4444444444444444,\"#bd3786\"],[0.5555555555555556,\"#d8576b\"],[0.6666666666666666,\"#ed7953\"],[0.7777777777777778,\"#fb9f3a\"],[0.8888888888888888,\"#fdca26\"],[1.0,\"#f0f921\"]]}],\"choropleth\":[{\"type\":\"choropleth\",\"colorbar\":{\"outlinewidth\":0,\"ticks\":\"\"}}],\"histogram2d\":[{\"type\":\"histogram2d\",\"colorbar\":{\"outlinewidth\":0,\"ticks\":\"\"},\"colorscale\":[[0.0,\"#0d0887\"],[0.1111111111111111,\"#46039f\"],[0.2222222222222222,\"#7201a8\"],[0.3333333333333333,\"#9c179e\"],[0.4444444444444444,\"#bd3786\"],[0.5555555555555556,\"#d8576b\"],[0.6666666666666666,\"#ed7953\"],[0.7777777777777778,\"#fb9f3a\"],[0.8888888888888888,\"#fdca26\"],[1.0,\"#f0f921\"]]}],\"heatmap\":[{\"type\":\"heatmap\",\"colorbar\":{\"outlinewidth\":0,\"ticks\":\"\"},\"colorscale\":[[0.0,\"#0d0887\"],[0.1111111111111111,\"#46039f\"],[0.2222222222222222,\"#7201a8\"],[0.3333333333333333,\"#9c179e\"],[0.4444444444444444,\"#bd3786\"],[0.5555555555555556,\"#d8576b\"],[0.6666666666666666,\"#ed7953\"],[0.7777777777777778,\"#fb9f3a\"],[0.8888888888888888,\"#fdca26\"],[1.0,\"#f0f921\"]]}],\"heatmapgl\":[{\"type\":\"heatmapgl\",\"colorbar\":{\"outlinewidth\":0,\"ticks\":\"\"},\"colorscale\":[[0.0,\"#0d0887\"],[0.1111111111111111,\"#46039f\"],[0.2222222222222222,\"#7201a8\"],[0.3333333333333333,\"#9c179e\"],[0.4444444444444444,\"#bd3786\"],[0.5555555555555556,\"#d8576b\"],[0.6666666666666666,\"#ed7953\"],[0.7777777777777778,\"#fb9f3a\"],[0.8888888888888888,\"#fdca26\"],[1.0,\"#f0f921\"]]}],\"contourcarpet\":[{\"type\":\"contourcarpet\",\"colorbar\":{\"outlinewidth\":0,\"ticks\":\"\"}}],\"contour\":[{\"type\":\"contour\",\"colorbar\":{\"outlinewidth\":0,\"ticks\":\"\"},\"colorscale\":[[0.0,\"#0d0887\"],[0.1111111111111111,\"#46039f\"],[0.2222222222222222,\"#7201a8\"],[0.3333333333333333,\"#9c179e\"],[0.4444444444444444,\"#bd3786\"],[0.5555555555555556,\"#d8576b\"],[0.6666666666666666,\"#ed7953\"],[0.7777777777777778,\"#fb9f3a\"],[0.8888888888888888,\"#fdca26\"],[1.0,\"#f0f921\"]]}],\"surface\":[{\"type\":\"surface\",\"colorbar\":{\"outlinewidth\":0,\"ticks\":\"\"},\"colorscale\":[[0.0,\"#0d0887\"],[0.1111111111111111,\"#46039f\"],[0.2222222222222222,\"#7201a8\"],[0.3333333333333333,\"#9c179e\"],[0.4444444444444444,\"#bd3786\"],[0.5555555555555556,\"#d8576b\"],[0.6666666666666666,\"#ed7953\"],[0.7777777777777778,\"#fb9f3a\"],[0.8888888888888888,\"#fdca26\"],[1.0,\"#f0f921\"]]}],\"mesh3d\":[{\"type\":\"mesh3d\",\"colorbar\":{\"outlinewidth\":0,\"ticks\":\"\"}}],\"scatter\":[{\"fillpattern\":{\"fillmode\":\"overlay\",\"size\":10,\"solidity\":0.2},\"type\":\"scatter\"}],\"parcoords\":[{\"type\":\"parcoords\",\"line\":{\"colorbar\":{\"outlinewidth\":0,\"ticks\":\"\"}}}],\"scatterpolargl\":[{\"type\":\"scatterpolargl\",\"marker\":{\"colorbar\":{\"outlinewidth\":0,\"ticks\":\"\"}}}],\"bar\":[{\"error_x\":{\"color\":\"#2a3f5f\"},\"error_y\":{\"color\":\"#2a3f5f\"},\"marker\":{\"line\":{\"color\":\"#E5ECF6\",\"width\":0.5},\"pattern\":{\"fillmode\":\"overlay\",\"size\":10,\"solidity\":0.2}},\"type\":\"bar\"}],\"scattergeo\":[{\"type\":\"scattergeo\",\"marker\":{\"colorbar\":{\"outlinewidth\":0,\"ticks\":\"\"}}}],\"scatterpolar\":[{\"type\":\"scatterpolar\",\"marker\":{\"colorbar\":{\"outlinewidth\":0,\"ticks\":\"\"}}}],\"histogram\":[{\"marker\":{\"pattern\":{\"fillmode\":\"overlay\",\"size\":10,\"solidity\":0.2}},\"type\":\"histogram\"}],\"scattergl\":[{\"type\":\"scattergl\",\"marker\":{\"colorbar\":{\"outlinewidth\":0,\"ticks\":\"\"}}}],\"scatter3d\":[{\"type\":\"scatter3d\",\"line\":{\"colorbar\":{\"outlinewidth\":0,\"ticks\":\"\"}},\"marker\":{\"colorbar\":{\"outlinewidth\":0,\"ticks\":\"\"}}}],\"scattermapbox\":[{\"type\":\"scattermapbox\",\"marker\":{\"colorbar\":{\"outlinewidth\":0,\"ticks\":\"\"}}}],\"scatterternary\":[{\"type\":\"scatterternary\",\"marker\":{\"colorbar\":{\"outlinewidth\":0,\"ticks\":\"\"}}}],\"scattercarpet\":[{\"type\":\"scattercarpet\",\"marker\":{\"colorbar\":{\"outlinewidth\":0,\"ticks\":\"\"}}}],\"carpet\":[{\"aaxis\":{\"endlinecolor\":\"#2a3f5f\",\"gridcolor\":\"white\",\"linecolor\":\"white\",\"minorgridcolor\":\"white\",\"startlinecolor\":\"#2a3f5f\"},\"baxis\":{\"endlinecolor\":\"#2a3f5f\",\"gridcolor\":\"white\",\"linecolor\":\"white\",\"minorgridcolor\":\"white\",\"startlinecolor\":\"#2a3f5f\"},\"type\":\"carpet\"}],\"table\":[{\"cells\":{\"fill\":{\"color\":\"#EBF0F8\"},\"line\":{\"color\":\"white\"}},\"header\":{\"fill\":{\"color\":\"#C8D4E3\"},\"line\":{\"color\":\"white\"}},\"type\":\"table\"}],\"barpolar\":[{\"marker\":{\"line\":{\"color\":\"#E5ECF6\",\"width\":0.5},\"pattern\":{\"fillmode\":\"overlay\",\"size\":10,\"solidity\":0.2}},\"type\":\"barpolar\"}],\"pie\":[{\"automargin\":true,\"type\":\"pie\"}]},\"layout\":{\"autotypenumbers\":\"strict\",\"colorway\":[\"#636efa\",\"#EF553B\",\"#00cc96\",\"#ab63fa\",\"#FFA15A\",\"#19d3f3\",\"#FF6692\",\"#B6E880\",\"#FF97FF\",\"#FECB52\"],\"font\":{\"color\":\"#2a3f5f\"},\"hovermode\":\"closest\",\"hoverlabel\":{\"align\":\"left\"},\"paper_bgcolor\":\"white\",\"plot_bgcolor\":\"#E5ECF6\",\"polar\":{\"bgcolor\":\"#E5ECF6\",\"angularaxis\":{\"gridcolor\":\"white\",\"linecolor\":\"white\",\"ticks\":\"\"},\"radialaxis\":{\"gridcolor\":\"white\",\"linecolor\":\"white\",\"ticks\":\"\"}},\"ternary\":{\"bgcolor\":\"#E5ECF6\",\"aaxis\":{\"gridcolor\":\"white\",\"linecolor\":\"white\",\"ticks\":\"\"},\"baxis\":{\"gridcolor\":\"white\",\"linecolor\":\"white\",\"ticks\":\"\"},\"caxis\":{\"gridcolor\":\"white\",\"linecolor\":\"white\",\"ticks\":\"\"}},\"coloraxis\":{\"colorbar\":{\"outlinewidth\":0,\"ticks\":\"\"}},\"colorscale\":{\"sequential\":[[0.0,\"#0d0887\"],[0.1111111111111111,\"#46039f\"],[0.2222222222222222,\"#7201a8\"],[0.3333333333333333,\"#9c179e\"],[0.4444444444444444,\"#bd3786\"],[0.5555555555555556,\"#d8576b\"],[0.6666666666666666,\"#ed7953\"],[0.7777777777777778,\"#fb9f3a\"],[0.8888888888888888,\"#fdca26\"],[1.0,\"#f0f921\"]],\"sequentialminus\":[[0.0,\"#0d0887\"],[0.1111111111111111,\"#46039f\"],[0.2222222222222222,\"#7201a8\"],[0.3333333333333333,\"#9c179e\"],[0.4444444444444444,\"#bd3786\"],[0.5555555555555556,\"#d8576b\"],[0.6666666666666666,\"#ed7953\"],[0.7777777777777778,\"#fb9f3a\"],[0.8888888888888888,\"#fdca26\"],[1.0,\"#f0f921\"]],\"diverging\":[[0,\"#8e0152\"],[0.1,\"#c51b7d\"],[0.2,\"#de77ae\"],[0.3,\"#f1b6da\"],[0.4,\"#fde0ef\"],[0.5,\"#f7f7f7\"],[0.6,\"#e6f5d0\"],[0.7,\"#b8e186\"],[0.8,\"#7fbc41\"],[0.9,\"#4d9221\"],[1,\"#276419\"]]},\"xaxis\":{\"gridcolor\":\"white\",\"linecolor\":\"white\",\"ticks\":\"\",\"title\":{\"standoff\":15},\"zerolinecolor\":\"white\",\"automargin\":true,\"zerolinewidth\":2},\"yaxis\":{\"gridcolor\":\"white\",\"linecolor\":\"white\",\"ticks\":\"\",\"title\":{\"standoff\":15},\"zerolinecolor\":\"white\",\"automargin\":true,\"zerolinewidth\":2},\"scene\":{\"xaxis\":{\"backgroundcolor\":\"#E5ECF6\",\"gridcolor\":\"white\",\"linecolor\":\"white\",\"showbackground\":true,\"ticks\":\"\",\"zerolinecolor\":\"white\",\"gridwidth\":2},\"yaxis\":{\"backgroundcolor\":\"#E5ECF6\",\"gridcolor\":\"white\",\"linecolor\":\"white\",\"showbackground\":true,\"ticks\":\"\",\"zerolinecolor\":\"white\",\"gridwidth\":2},\"zaxis\":{\"backgroundcolor\":\"#E5ECF6\",\"gridcolor\":\"white\",\"linecolor\":\"white\",\"showbackground\":true,\"ticks\":\"\",\"zerolinecolor\":\"white\",\"gridwidth\":2}},\"shapedefaults\":{\"line\":{\"color\":\"#2a3f5f\"}},\"annotationdefaults\":{\"arrowcolor\":\"#2a3f5f\",\"arrowhead\":0,\"arrowwidth\":1},\"geo\":{\"bgcolor\":\"white\",\"landcolor\":\"#E5ECF6\",\"subunitcolor\":\"white\",\"showland\":true,\"showlakes\":true,\"lakecolor\":\"white\"},\"title\":{\"x\":0.05},\"mapbox\":{\"style\":\"light\"}}},\"legend\":{\"tracegroupgap\":0},\"margin\":{\"t\":60},\"height\":600,\"width\":700},                        {\"responsive\": true}                    ).then(function(){\n",
              "                            \n",
              "var gd = document.getElementById('66a45c42-9de2-4f04-9483-5ce077aeae16');\n",
              "var x = new MutationObserver(function (mutations, observer) {{\n",
              "        var display = window.getComputedStyle(gd).display;\n",
              "        if (!display || display === 'none') {{\n",
              "            console.log([gd, 'removed!']);\n",
              "            Plotly.purge(gd);\n",
              "            observer.disconnect();\n",
              "        }}\n",
              "}});\n",
              "\n",
              "// Listen for the removal of the full notebook cells\n",
              "var notebookContainer = gd.closest('#notebook-container');\n",
              "if (notebookContainer) {{\n",
              "    x.observe(notebookContainer, {childList: true});\n",
              "}}\n",
              "\n",
              "// Listen for the clearing of the current output cell\n",
              "var outputEl = gd.closest('.output');\n",
              "if (outputEl) {{\n",
              "    x.observe(outputEl, {childList: true});\n",
              "}}\n",
              "\n",
              "                        })                };                            </script>        </div>\n",
              "</body>\n",
              "</html>"
            ]
          },
          "metadata": {}
        }
      ],
      "source": [
        "fig = px.sunburst(unhappy,\n",
        "                  path = ['Sex', 'MaritalDesc',\n",
        "                          'RecruitmentSource'],\n",
        "                  width=700, height=600)\n",
        "fig.update_traces(textinfo=\"label+value\")\n",
        "fig.show()"
      ]
    },
    {
      "cell_type": "code",
      "source": [
        "unhappy[unhappy['DOB'] > '2000-01-01']\n",
        "# This person is missing from the plot below"
      ],
      "metadata": {
        "colab": {
          "base_uri": "https://localhost:8080/",
          "height": 135
        },
        "id": "-Kgpth08g4C5",
        "outputId": "3bbd1676-9269-46cc-c830-73a2d92f0c36"
      },
      "execution_count": 786,
      "outputs": [
        {
          "output_type": "execute_result",
          "data": {
            "text/plain": [
              "     Salary                 Position        DOB Sex MaritalDesc CitizenDesc  \\\n",
              "226   46430  Production Technician I 2070-09-22   F    Divorced  US Citizen   \n",
              "\n",
              "    HispanicLatino DateofHire         Department RecruitmentSource  \\\n",
              "226             No 2012-09-24  Production                   Indeed   \n",
              "\n",
              "    PerformanceScore  EmpSatisfaction  SpecialProjectsCount  \\\n",
              "226      Fully Meets                5                     0   \n",
              "\n",
              "    LastPerformanceReview_Date  DaysLateLast30  Absences  \n",
              "226                 2013-02-04               0        16  "
            ],
            "text/html": [
              "\n",
              "  <div id=\"df-45781c1e-ac9c-49f0-b8ee-9da4b9baafbe\" class=\"colab-df-container\">\n",
              "    <div>\n",
              "<style scoped>\n",
              "    .dataframe tbody tr th:only-of-type {\n",
              "        vertical-align: middle;\n",
              "    }\n",
              "\n",
              "    .dataframe tbody tr th {\n",
              "        vertical-align: top;\n",
              "    }\n",
              "\n",
              "    .dataframe thead th {\n",
              "        text-align: right;\n",
              "    }\n",
              "</style>\n",
              "<table border=\"1\" class=\"dataframe\">\n",
              "  <thead>\n",
              "    <tr style=\"text-align: right;\">\n",
              "      <th></th>\n",
              "      <th>Salary</th>\n",
              "      <th>Position</th>\n",
              "      <th>DOB</th>\n",
              "      <th>Sex</th>\n",
              "      <th>MaritalDesc</th>\n",
              "      <th>CitizenDesc</th>\n",
              "      <th>HispanicLatino</th>\n",
              "      <th>DateofHire</th>\n",
              "      <th>Department</th>\n",
              "      <th>RecruitmentSource</th>\n",
              "      <th>PerformanceScore</th>\n",
              "      <th>EmpSatisfaction</th>\n",
              "      <th>SpecialProjectsCount</th>\n",
              "      <th>LastPerformanceReview_Date</th>\n",
              "      <th>DaysLateLast30</th>\n",
              "      <th>Absences</th>\n",
              "    </tr>\n",
              "  </thead>\n",
              "  <tbody>\n",
              "    <tr>\n",
              "      <th>226</th>\n",
              "      <td>46430</td>\n",
              "      <td>Production Technician I</td>\n",
              "      <td>2070-09-22</td>\n",
              "      <td>F</td>\n",
              "      <td>Divorced</td>\n",
              "      <td>US Citizen</td>\n",
              "      <td>No</td>\n",
              "      <td>2012-09-24</td>\n",
              "      <td>Production</td>\n",
              "      <td>Indeed</td>\n",
              "      <td>Fully Meets</td>\n",
              "      <td>5</td>\n",
              "      <td>0</td>\n",
              "      <td>2013-02-04</td>\n",
              "      <td>0</td>\n",
              "      <td>16</td>\n",
              "    </tr>\n",
              "  </tbody>\n",
              "</table>\n",
              "</div>\n",
              "    <div class=\"colab-df-buttons\">\n",
              "\n",
              "  <div class=\"colab-df-container\">\n",
              "    <button class=\"colab-df-convert\" onclick=\"convertToInteractive('df-45781c1e-ac9c-49f0-b8ee-9da4b9baafbe')\"\n",
              "            title=\"Convert this dataframe to an interactive table.\"\n",
              "            style=\"display:none;\">\n",
              "\n",
              "  <svg xmlns=\"http://www.w3.org/2000/svg\" height=\"24px\" viewBox=\"0 -960 960 960\">\n",
              "    <path d=\"M120-120v-720h720v720H120Zm60-500h600v-160H180v160Zm220 220h160v-160H400v160Zm0 220h160v-160H400v160ZM180-400h160v-160H180v160Zm440 0h160v-160H620v160ZM180-180h160v-160H180v160Zm440 0h160v-160H620v160Z\"/>\n",
              "  </svg>\n",
              "    </button>\n",
              "\n",
              "  <style>\n",
              "    .colab-df-container {\n",
              "      display:flex;\n",
              "      gap: 12px;\n",
              "    }\n",
              "\n",
              "    .colab-df-convert {\n",
              "      background-color: #E8F0FE;\n",
              "      border: none;\n",
              "      border-radius: 50%;\n",
              "      cursor: pointer;\n",
              "      display: none;\n",
              "      fill: #1967D2;\n",
              "      height: 32px;\n",
              "      padding: 0 0 0 0;\n",
              "      width: 32px;\n",
              "    }\n",
              "\n",
              "    .colab-df-convert:hover {\n",
              "      background-color: #E2EBFA;\n",
              "      box-shadow: 0px 1px 2px rgba(60, 64, 67, 0.3), 0px 1px 3px 1px rgba(60, 64, 67, 0.15);\n",
              "      fill: #174EA6;\n",
              "    }\n",
              "\n",
              "    .colab-df-buttons div {\n",
              "      margin-bottom: 4px;\n",
              "    }\n",
              "\n",
              "    [theme=dark] .colab-df-convert {\n",
              "      background-color: #3B4455;\n",
              "      fill: #D2E3FC;\n",
              "    }\n",
              "\n",
              "    [theme=dark] .colab-df-convert:hover {\n",
              "      background-color: #434B5C;\n",
              "      box-shadow: 0px 1px 3px 1px rgba(0, 0, 0, 0.15);\n",
              "      filter: drop-shadow(0px 1px 2px rgba(0, 0, 0, 0.3));\n",
              "      fill: #FFFFFF;\n",
              "    }\n",
              "  </style>\n",
              "\n",
              "    <script>\n",
              "      const buttonEl =\n",
              "        document.querySelector('#df-45781c1e-ac9c-49f0-b8ee-9da4b9baafbe button.colab-df-convert');\n",
              "      buttonEl.style.display =\n",
              "        google.colab.kernel.accessAllowed ? 'block' : 'none';\n",
              "\n",
              "      async function convertToInteractive(key) {\n",
              "        const element = document.querySelector('#df-45781c1e-ac9c-49f0-b8ee-9da4b9baafbe');\n",
              "        const dataTable =\n",
              "          await google.colab.kernel.invokeFunction('convertToInteractive',\n",
              "                                                    [key], {});\n",
              "        if (!dataTable) return;\n",
              "\n",
              "        const docLinkHtml = 'Like what you see? Visit the ' +\n",
              "          '<a target=\"_blank\" href=https://colab.research.google.com/notebooks/data_table.ipynb>data table notebook</a>'\n",
              "          + ' to learn more about interactive tables.';\n",
              "        element.innerHTML = '';\n",
              "        dataTable['output_type'] = 'display_data';\n",
              "        await google.colab.output.renderOutput(dataTable, element);\n",
              "        const docLink = document.createElement('div');\n",
              "        docLink.innerHTML = docLinkHtml;\n",
              "        element.appendChild(docLink);\n",
              "      }\n",
              "    </script>\n",
              "  </div>\n",
              "\n",
              "    </div>\n",
              "  </div>\n"
            ]
          },
          "metadata": {},
          "execution_count": 786
        }
      ]
    },
    {
      "cell_type": "code",
      "execution_count": 787,
      "metadata": {
        "colab": {
          "base_uri": "https://localhost:8080/",
          "height": 449
        },
        "id": "DEvUGZCh4V99",
        "outputId": "c8f064c9-30fd-459f-b188-83f04b60bfbd"
      },
      "outputs": [
        {
          "output_type": "display_data",
          "data": {
            "text/plain": [
              "<Figure size 640x480 with 1 Axes>"
            ],
            "image/png": "[encoded data removed]"
          },
          "metadata": {}
        }
      ],
      "source": [
        "ax = sns.scatterplot(x= 'DOB', y= 'Salary',\n",
        "                     data= unhappy[unhappy['DOB'] < '2000-01-01'],\n",
        "                size= 'MaritalDesc', hue= 'Sex')\n",
        "ax.set_xlabel('Date of Birth')\n",
        "plt.show()"
      ]
    },
    {
      "cell_type": "code",
      "execution_count": 788,
      "metadata": {
        "colab": {
          "base_uri": "https://localhost:8080/",
          "height": 449
        },
        "id": "mS0cffuPHBhu",
        "outputId": "5bf2cfd2-4c2d-4e19-cedc-bd8bde13e232"
      },
      "outputs": [
        {
          "output_type": "display_data",
          "data": {
            "text/plain": [
              "<Figure size 640x480 with 1 Axes>"
            ],
            "image/png": "[encoded data removed]"
          },
          "metadata": {}
        }
      ],
      "source": [
        "ax = sns.scatterplot(x= 'DateofHire', y= 'Salary', data= unhappy,\n",
        "                hue= 'Sex', size= 'Department')\n",
        "ax.set_xlabel('Date of Hire')\n",
        "ax.set_xticklabels(['2011', None, None, None,\n",
        "                   '2012', None, None, None, '2013'])\n",
        "plt.show()"
      ]
    },
    {
      "cell_type": "code",
      "source": [
        "unhappy[\"RecruitmentSource\"].value_counts()"
      ],
      "metadata": {
        "colab": {
          "base_uri": "https://localhost:8080/"
        },
        "id": "SNCi-4VYBB60",
        "outputId": "ce179183-4f15-473e-c04f-cbe7a0138187"
      },
      "execution_count": 789,
      "outputs": [
        {
          "output_type": "execute_result",
          "data": {
            "text/plain": [
              "Indeed                5\n",
              "LinkedIn              4\n",
              "Google Search         2\n",
              "Website               2\n",
              "CareerBuilder         2\n",
              "Diversity Job Fair    1\n",
              "Name: RecruitmentSource, dtype: int64"
            ]
          },
          "metadata": {},
          "execution_count": 789
        }
      ]
    },
    {
      "cell_type": "code",
      "execution_count": 790,
      "metadata": {
        "colab": {
          "base_uri": "https://localhost:8080/",
          "height": 449
        },
        "id": "GiD-N33OJ9YP",
        "outputId": "dab42391-3552-4cdc-9c82-ddba24626730"
      },
      "outputs": [
        {
          "output_type": "display_data",
          "data": {
            "text/plain": [
              "<Figure size 640x480 with 1 Axes>"
            ],
            "image/png": "[encoded data removed]"
          },
          "metadata": {}
        }
      ],
      "source": [
        "ax = sns.scatterplot(x= 'LastPerformanceReview_Date', y= 'Absences',\n",
        "                     data= unhappy, size= 'DaysLateLast30',\n",
        "                     hue= 'Sex')\n",
        "ax.set_xlabel('Last Performance Review Date')\n",
        "plt.show()"
      ]
    },
    {
      "cell_type": "code",
      "execution_count": 791,
      "metadata": {
        "id": "WYmIlnW0KkLg"
      },
      "outputs": [],
      "source": [
        "# This plot paints a pretty good picture of the stereotypical unhappy production worker:\n",
        "# Hasn't had their last performance review in 6 years, has been late in the last 30 days, and doesn't\n",
        "# meet their work expectations"
      ]
    },
    {
      "cell_type": "code",
      "execution_count": 792,
      "metadata": {
        "id": "cD3vQm9240Vj"
      },
      "outputs": [],
      "source": [
        "# In conclusion:\n",
        "# Perhaps the biggest thing to take notice to is that among these 13 unhappy people there are 2 people\n",
        "# that at the latest registration of employee satisfaction scored a 5! Yet they quit the company due to\n",
        "# unhappiness. Numbers aren't everything. We are human after all\n",
        "# All 13 are in production. I believe this is the biggest telltale sign here. Is it possible to be a happy\n",
        "# high performer in Production. Yes, one of the previous 15 are! But in general, the unhappiest people are all\n",
        "# in production where as well there doesn't seem to be any special projects. Maybe to some improvements to\n",
        "# prodcution? Within production, all of them are Production Technician except for one Production Manager. Having\n",
        "# a manager position in and of itself will not make you happy\n",
        "# The majority of these 13 have not had a single performance review in the last 4-7 years. Most of them fully meet\n",
        "# their expecation, with some people needing improvement and one even exceeding their expectation. Burnout? About\n",
        "# half of the people have 14+ absences and 3 of them have been late in the last 30 days\n",
        "# Recruitment source is rather spread even but half of the people are either from LinkedIn or Indeed\n",
        "# The majority are married, a total of 9 out of 13. Out of the 4 others, 2 of them are divorced\n",
        "# All but one are non-Hispanic Latino. One is a eligible non-citizen"
      ]
    },
    {
      "cell_type": "code",
      "execution_count": 793,
      "metadata": {
        "id": "gIp4ZmCFJelI"
      },
      "outputs": [],
      "source": [
        "# End of project inference and conclusions:\n",
        "# * The working conditions for Production needs to get better\n",
        "# * They need to hire a new person responsible for entering data\n",
        "# *"
      ]
    }
  ],
  "metadata": {
    "colab": {
      "provenance": []
    },
    "kernelspec": {
      "display_name": "Python 3",
      "name": "python3"
    },
    "language_info": {
      "name": "python"
    }
  },
  "nbformat": 4,
  "nbformat_minor": 0
}